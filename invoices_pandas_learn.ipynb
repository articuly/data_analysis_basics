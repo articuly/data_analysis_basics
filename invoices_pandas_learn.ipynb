{
 "cells": [
  {
   "cell_type": "code",
   "execution_count": 2,
   "metadata": {
    "collapsed": true,
    "pycharm": {
     "is_executing": false
    }
   },
   "outputs": [],
   "source": [
    "import pandas as pd\n",
    "import numpy as np\n",
    "import datetime\n",
    "import pytz"
   ]
  },
  {
   "cell_type": "code",
   "execution_count": 3,
   "outputs": [],
   "source": [
    "file=r'D:\\Programing\\python_projects\\data_analysis_basics\\data_set\\invoices.csv'\n",
    "invoices=pd.read_csv(file)"
   ],
   "metadata": {
    "collapsed": false,
    "pycharm": {
     "name": "#%%\n",
     "is_executing": false
    }
   }
  },
  {
   "cell_type": "code",
   "execution_count": 4,
   "outputs": [
    {
     "data": {
      "text/plain": "           Order Id        Date           Meal Id        Company Id  \\\n0  839FKFW2LLX4LMBB  2016-05-27  INBUX904GIHI8YBD  LJKS5NK6788CYMUU   \n1  97OX39BGVMHODLJM  2018-09-27  J0MMOOPP709DIDIE  LJKS5NK6788CYMUU   \n2  041ORQM5OIHTIU6L  2014-08-24  E4UJLQNCI16UX5CS  LJKS5NK6788CYMUU   \n3  YT796QI18WNGZ7ZJ  2014-04-12  C9SDFHF7553BE247  LJKS5NK6788CYMUU   \n4  6YLROQT27B6HRF4E  2015-07-28  48EQXS6IHYNZDDZ5  LJKS5NK6788CYMUU   \n\n                Date of Meal                       Participants  Meal Price  \\\n0  2016-05-31 07:00:00+02:00                   ['David Bishop']       469.0   \n1  2018-10-01 20:00:00+02:00                   ['David Bishop']        22.0   \n2  2014-08-23 14:00:00+02:00                 ['Karen Stansell']       314.0   \n3  2014-04-07 21:00:00+02:00                   ['Addie Patino']       438.0   \n4  2015-07-27 14:00:00+02:00  ['Addie Patino' 'Susan Guerrero']       690.0   \n\n  Type of Meal  Heroes Adjustment  \n0    Breakfast              False  \n1       Dinner              False  \n2        Lunch              False  \n3       Dinner              False  \n4        Lunch              False  ",
      "text/html": "<div>\n<style scoped>\n    .dataframe tbody tr th:only-of-type {\n        vertical-align: middle;\n    }\n\n    .dataframe tbody tr th {\n        vertical-align: top;\n    }\n\n    .dataframe thead th {\n        text-align: right;\n    }\n</style>\n<table border=\"1\" class=\"dataframe\">\n  <thead>\n    <tr style=\"text-align: right;\">\n      <th></th>\n      <th>Order Id</th>\n      <th>Date</th>\n      <th>Meal Id</th>\n      <th>Company Id</th>\n      <th>Date of Meal</th>\n      <th>Participants</th>\n      <th>Meal Price</th>\n      <th>Type of Meal</th>\n      <th>Heroes Adjustment</th>\n    </tr>\n  </thead>\n  <tbody>\n    <tr>\n      <th>0</th>\n      <td>839FKFW2LLX4LMBB</td>\n      <td>2016-05-27</td>\n      <td>INBUX904GIHI8YBD</td>\n      <td>LJKS5NK6788CYMUU</td>\n      <td>2016-05-31 07:00:00+02:00</td>\n      <td>['David Bishop']</td>\n      <td>469.0</td>\n      <td>Breakfast</td>\n      <td>False</td>\n    </tr>\n    <tr>\n      <th>1</th>\n      <td>97OX39BGVMHODLJM</td>\n      <td>2018-09-27</td>\n      <td>J0MMOOPP709DIDIE</td>\n      <td>LJKS5NK6788CYMUU</td>\n      <td>2018-10-01 20:00:00+02:00</td>\n      <td>['David Bishop']</td>\n      <td>22.0</td>\n      <td>Dinner</td>\n      <td>False</td>\n    </tr>\n    <tr>\n      <th>2</th>\n      <td>041ORQM5OIHTIU6L</td>\n      <td>2014-08-24</td>\n      <td>E4UJLQNCI16UX5CS</td>\n      <td>LJKS5NK6788CYMUU</td>\n      <td>2014-08-23 14:00:00+02:00</td>\n      <td>['Karen Stansell']</td>\n      <td>314.0</td>\n      <td>Lunch</td>\n      <td>False</td>\n    </tr>\n    <tr>\n      <th>3</th>\n      <td>YT796QI18WNGZ7ZJ</td>\n      <td>2014-04-12</td>\n      <td>C9SDFHF7553BE247</td>\n      <td>LJKS5NK6788CYMUU</td>\n      <td>2014-04-07 21:00:00+02:00</td>\n      <td>['Addie Patino']</td>\n      <td>438.0</td>\n      <td>Dinner</td>\n      <td>False</td>\n    </tr>\n    <tr>\n      <th>4</th>\n      <td>6YLROQT27B6HRF4E</td>\n      <td>2015-07-28</td>\n      <td>48EQXS6IHYNZDDZ5</td>\n      <td>LJKS5NK6788CYMUU</td>\n      <td>2015-07-27 14:00:00+02:00</td>\n      <td>['Addie Patino' 'Susan Guerrero']</td>\n      <td>690.0</td>\n      <td>Lunch</td>\n      <td>False</td>\n    </tr>\n  </tbody>\n</table>\n</div>"
     },
     "metadata": {},
     "output_type": "execute_result",
     "execution_count": 4
    }
   ],
   "source": [
    "invoices.head(5)"
   ],
   "metadata": {
    "collapsed": false,
    "pycharm": {
     "name": "#%%\n",
     "is_executing": false
    }
   }
  },
  {
   "cell_type": "code",
   "execution_count": 5,
   "outputs": [
    {
     "name": "stdout",
     "text": [
      "<class 'pandas.core.frame.DataFrame'>\n",
      "RangeIndex: 50017 entries, 0 to 50016\n",
      "Data columns (total 9 columns):\n",
      "Order Id             50017 non-null object\n",
      "Date                 50017 non-null object\n",
      "Meal Id              50017 non-null object\n",
      "Company Id           50017 non-null object\n",
      "Date of Meal         50017 non-null object\n",
      "Participants         50017 non-null object\n",
      "Meal Price           50017 non-null float64\n",
      "Type of Meal         50017 non-null object\n",
      "Heroes Adjustment    50017 non-null bool\n",
      "dtypes: bool(1), float64(1), object(7)\n",
      "memory usage: 3.1+ MB\n"
     ],
     "output_type": "stream"
    }
   ],
   "source": [
    "invoices.info()"
   ],
   "metadata": {
    "collapsed": false,
    "pycharm": {
     "name": "#%%\n",
     "is_executing": false
    }
   }
  },
  {
   "cell_type": "code",
   "execution_count": 6,
   "outputs": [],
   "source": [
    "invoices['Type of Meal']=invoices['Type of Meal'].astype('category')"
   ],
   "metadata": {
    "collapsed": false,
    "pycharm": {
     "name": "#%%\n",
     "is_executing": false
    }
   }
  },
  {
   "cell_type": "code",
   "execution_count": 7,
   "outputs": [],
   "source": [
    "invoices['Date']=invoices['Date'].astype('datetime64[ns]')"
   ],
   "metadata": {
    "collapsed": false,
    "pycharm": {
     "name": "#%%\n",
     "is_executing": false
    }
   }
  },
  {
   "cell_type": "code",
   "execution_count": 8,
   "outputs": [],
   "source": [
    "invoices['Meal Price']=invoices['Meal Price'].astype('int')"
   ],
   "metadata": {
    "collapsed": false,
    "pycharm": {
     "name": "#%%\n",
     "is_executing": false
    }
   }
  },
  {
   "cell_type": "code",
   "execution_count": 9,
   "outputs": [
    {
     "name": "stdout",
     "text": [
      "<class 'pandas.core.frame.DataFrame'>\n",
      "RangeIndex: 50017 entries, 0 to 50016\n",
      "Data columns (total 9 columns):\n",
      "Order Id             50017 non-null object\n",
      "Date                 50017 non-null datetime64[ns]\n",
      "Meal Id              50017 non-null object\n",
      "Company Id           50017 non-null object\n",
      "Date of Meal         50017 non-null object\n",
      "Participants         50017 non-null object\n",
      "Meal Price           50017 non-null int32\n",
      "Type of Meal         50017 non-null category\n",
      "Heroes Adjustment    50017 non-null bool\n",
      "dtypes: bool(1), category(1), datetime64[ns](1), int32(1), object(5)\n",
      "memory usage: 2.6+ MB\n"
     ],
     "output_type": "stream"
    }
   ],
   "source": [
    "invoices.info()"
   ],
   "metadata": {
    "collapsed": false,
    "pycharm": {
     "name": "#%%\n",
     "is_executing": false
    }
   }
  },
  {
   "cell_type": "code",
   "execution_count": 10,
   "outputs": [],
   "source": [
    "invoices.loc[12345, 'Meal Price']='hello'"
   ],
   "metadata": {
    "collapsed": false,
    "pycharm": {
     "name": "#%%\n",
     "is_executing": false
    }
   }
  },
  {
   "cell_type": "code",
   "execution_count": 12,
   "outputs": [
    {
     "traceback": [
      "\u001b[1;31m---------------------------------------------------------------------------\u001b[0m",
      "\u001b[1;31mValueError\u001b[0m                                Traceback (most recent call last)",
      "\u001b[1;32m<ipython-input-12-6cd66401a930>\u001b[0m in \u001b[0;36m<module>\u001b[1;34m\u001b[0m\n\u001b[1;32m----> 1\u001b[1;33m \u001b[0minvoices\u001b[0m\u001b[1;33m[\u001b[0m\u001b[1;34m'Meal Price'\u001b[0m\u001b[1;33m]\u001b[0m\u001b[1;33m.\u001b[0m\u001b[0mastype\u001b[0m\u001b[1;33m(\u001b[0m\u001b[1;34m'int'\u001b[0m\u001b[1;33m)\u001b[0m\u001b[1;33m\u001b[0m\u001b[1;33m\u001b[0m\u001b[0m\n\u001b[0m\u001b[0;32m      2\u001b[0m \u001b[1;33m\u001b[0m\u001b[0m\n",
      "\u001b[1;32mD:\\Programing\\Anaconda3\\lib\\site-packages\\pandas\\core\\generic.py\u001b[0m in \u001b[0;36mastype\u001b[1;34m(self, dtype, copy, errors, **kwargs)\u001b[0m\n\u001b[0;32m   5880\u001b[0m             \u001b[1;31m# else, only a single dtype is given\u001b[0m\u001b[1;33m\u001b[0m\u001b[1;33m\u001b[0m\u001b[1;33m\u001b[0m\u001b[0m\n\u001b[0;32m   5881\u001b[0m             new_data = self._data.astype(\n\u001b[1;32m-> 5882\u001b[1;33m                 \u001b[0mdtype\u001b[0m\u001b[1;33m=\u001b[0m\u001b[0mdtype\u001b[0m\u001b[1;33m,\u001b[0m \u001b[0mcopy\u001b[0m\u001b[1;33m=\u001b[0m\u001b[0mcopy\u001b[0m\u001b[1;33m,\u001b[0m \u001b[0merrors\u001b[0m\u001b[1;33m=\u001b[0m\u001b[0merrors\u001b[0m\u001b[1;33m,\u001b[0m \u001b[1;33m**\u001b[0m\u001b[0mkwargs\u001b[0m\u001b[1;33m\u001b[0m\u001b[1;33m\u001b[0m\u001b[0m\n\u001b[0m\u001b[0;32m   5883\u001b[0m             )\n\u001b[0;32m   5884\u001b[0m             \u001b[1;32mreturn\u001b[0m \u001b[0mself\u001b[0m\u001b[1;33m.\u001b[0m\u001b[0m_constructor\u001b[0m\u001b[1;33m(\u001b[0m\u001b[0mnew_data\u001b[0m\u001b[1;33m)\u001b[0m\u001b[1;33m.\u001b[0m\u001b[0m__finalize__\u001b[0m\u001b[1;33m(\u001b[0m\u001b[0mself\u001b[0m\u001b[1;33m)\u001b[0m\u001b[1;33m\u001b[0m\u001b[1;33m\u001b[0m\u001b[0m\n",
      "\u001b[1;32mD:\\Programing\\Anaconda3\\lib\\site-packages\\pandas\\core\\internals\\managers.py\u001b[0m in \u001b[0;36mastype\u001b[1;34m(self, dtype, **kwargs)\u001b[0m\n\u001b[0;32m    579\u001b[0m \u001b[1;33m\u001b[0m\u001b[0m\n\u001b[0;32m    580\u001b[0m     \u001b[1;32mdef\u001b[0m \u001b[0mastype\u001b[0m\u001b[1;33m(\u001b[0m\u001b[0mself\u001b[0m\u001b[1;33m,\u001b[0m \u001b[0mdtype\u001b[0m\u001b[1;33m,\u001b[0m \u001b[1;33m**\u001b[0m\u001b[0mkwargs\u001b[0m\u001b[1;33m)\u001b[0m\u001b[1;33m:\u001b[0m\u001b[1;33m\u001b[0m\u001b[1;33m\u001b[0m\u001b[0m\n\u001b[1;32m--> 581\u001b[1;33m         \u001b[1;32mreturn\u001b[0m \u001b[0mself\u001b[0m\u001b[1;33m.\u001b[0m\u001b[0mapply\u001b[0m\u001b[1;33m(\u001b[0m\u001b[1;34m\"astype\"\u001b[0m\u001b[1;33m,\u001b[0m \u001b[0mdtype\u001b[0m\u001b[1;33m=\u001b[0m\u001b[0mdtype\u001b[0m\u001b[1;33m,\u001b[0m \u001b[1;33m**\u001b[0m\u001b[0mkwargs\u001b[0m\u001b[1;33m)\u001b[0m\u001b[1;33m\u001b[0m\u001b[1;33m\u001b[0m\u001b[0m\n\u001b[0m\u001b[0;32m    582\u001b[0m \u001b[1;33m\u001b[0m\u001b[0m\n\u001b[0;32m    583\u001b[0m     \u001b[1;32mdef\u001b[0m \u001b[0mconvert\u001b[0m\u001b[1;33m(\u001b[0m\u001b[0mself\u001b[0m\u001b[1;33m,\u001b[0m \u001b[1;33m**\u001b[0m\u001b[0mkwargs\u001b[0m\u001b[1;33m)\u001b[0m\u001b[1;33m:\u001b[0m\u001b[1;33m\u001b[0m\u001b[1;33m\u001b[0m\u001b[0m\n",
      "\u001b[1;32mD:\\Programing\\Anaconda3\\lib\\site-packages\\pandas\\core\\internals\\managers.py\u001b[0m in \u001b[0;36mapply\u001b[1;34m(self, f, axes, filter, do_integrity_check, consolidate, **kwargs)\u001b[0m\n\u001b[0;32m    436\u001b[0m                     \u001b[0mkwargs\u001b[0m\u001b[1;33m[\u001b[0m\u001b[0mk\u001b[0m\u001b[1;33m]\u001b[0m \u001b[1;33m=\u001b[0m \u001b[0mobj\u001b[0m\u001b[1;33m.\u001b[0m\u001b[0mreindex\u001b[0m\u001b[1;33m(\u001b[0m\u001b[0mb_items\u001b[0m\u001b[1;33m,\u001b[0m \u001b[0maxis\u001b[0m\u001b[1;33m=\u001b[0m\u001b[0maxis\u001b[0m\u001b[1;33m,\u001b[0m \u001b[0mcopy\u001b[0m\u001b[1;33m=\u001b[0m\u001b[0malign_copy\u001b[0m\u001b[1;33m)\u001b[0m\u001b[1;33m\u001b[0m\u001b[1;33m\u001b[0m\u001b[0m\n\u001b[0;32m    437\u001b[0m \u001b[1;33m\u001b[0m\u001b[0m\n\u001b[1;32m--> 438\u001b[1;33m             \u001b[0mapplied\u001b[0m \u001b[1;33m=\u001b[0m \u001b[0mgetattr\u001b[0m\u001b[1;33m(\u001b[0m\u001b[0mb\u001b[0m\u001b[1;33m,\u001b[0m \u001b[0mf\u001b[0m\u001b[1;33m)\u001b[0m\u001b[1;33m(\u001b[0m\u001b[1;33m**\u001b[0m\u001b[0mkwargs\u001b[0m\u001b[1;33m)\u001b[0m\u001b[1;33m\u001b[0m\u001b[1;33m\u001b[0m\u001b[0m\n\u001b[0m\u001b[0;32m    439\u001b[0m             \u001b[0mresult_blocks\u001b[0m \u001b[1;33m=\u001b[0m \u001b[0m_extend_blocks\u001b[0m\u001b[1;33m(\u001b[0m\u001b[0mapplied\u001b[0m\u001b[1;33m,\u001b[0m \u001b[0mresult_blocks\u001b[0m\u001b[1;33m)\u001b[0m\u001b[1;33m\u001b[0m\u001b[1;33m\u001b[0m\u001b[0m\n\u001b[0;32m    440\u001b[0m \u001b[1;33m\u001b[0m\u001b[0m\n",
      "\u001b[1;32mD:\\Programing\\Anaconda3\\lib\\site-packages\\pandas\\core\\internals\\blocks.py\u001b[0m in \u001b[0;36mastype\u001b[1;34m(self, dtype, copy, errors, values, **kwargs)\u001b[0m\n\u001b[0;32m    557\u001b[0m \u001b[1;33m\u001b[0m\u001b[0m\n\u001b[0;32m    558\u001b[0m     \u001b[1;32mdef\u001b[0m \u001b[0mastype\u001b[0m\u001b[1;33m(\u001b[0m\u001b[0mself\u001b[0m\u001b[1;33m,\u001b[0m \u001b[0mdtype\u001b[0m\u001b[1;33m,\u001b[0m \u001b[0mcopy\u001b[0m\u001b[1;33m=\u001b[0m\u001b[1;32mFalse\u001b[0m\u001b[1;33m,\u001b[0m \u001b[0merrors\u001b[0m\u001b[1;33m=\u001b[0m\u001b[1;34m\"raise\"\u001b[0m\u001b[1;33m,\u001b[0m \u001b[0mvalues\u001b[0m\u001b[1;33m=\u001b[0m\u001b[1;32mNone\u001b[0m\u001b[1;33m,\u001b[0m \u001b[1;33m**\u001b[0m\u001b[0mkwargs\u001b[0m\u001b[1;33m)\u001b[0m\u001b[1;33m:\u001b[0m\u001b[1;33m\u001b[0m\u001b[1;33m\u001b[0m\u001b[0m\n\u001b[1;32m--> 559\u001b[1;33m         \u001b[1;32mreturn\u001b[0m \u001b[0mself\u001b[0m\u001b[1;33m.\u001b[0m\u001b[0m_astype\u001b[0m\u001b[1;33m(\u001b[0m\u001b[0mdtype\u001b[0m\u001b[1;33m,\u001b[0m \u001b[0mcopy\u001b[0m\u001b[1;33m=\u001b[0m\u001b[0mcopy\u001b[0m\u001b[1;33m,\u001b[0m \u001b[0merrors\u001b[0m\u001b[1;33m=\u001b[0m\u001b[0merrors\u001b[0m\u001b[1;33m,\u001b[0m \u001b[0mvalues\u001b[0m\u001b[1;33m=\u001b[0m\u001b[0mvalues\u001b[0m\u001b[1;33m,\u001b[0m \u001b[1;33m**\u001b[0m\u001b[0mkwargs\u001b[0m\u001b[1;33m)\u001b[0m\u001b[1;33m\u001b[0m\u001b[1;33m\u001b[0m\u001b[0m\n\u001b[0m\u001b[0;32m    560\u001b[0m \u001b[1;33m\u001b[0m\u001b[0m\n\u001b[0;32m    561\u001b[0m     \u001b[1;32mdef\u001b[0m \u001b[0m_astype\u001b[0m\u001b[1;33m(\u001b[0m\u001b[0mself\u001b[0m\u001b[1;33m,\u001b[0m \u001b[0mdtype\u001b[0m\u001b[1;33m,\u001b[0m \u001b[0mcopy\u001b[0m\u001b[1;33m=\u001b[0m\u001b[1;32mFalse\u001b[0m\u001b[1;33m,\u001b[0m \u001b[0merrors\u001b[0m\u001b[1;33m=\u001b[0m\u001b[1;34m\"raise\"\u001b[0m\u001b[1;33m,\u001b[0m \u001b[0mvalues\u001b[0m\u001b[1;33m=\u001b[0m\u001b[1;32mNone\u001b[0m\u001b[1;33m,\u001b[0m \u001b[1;33m**\u001b[0m\u001b[0mkwargs\u001b[0m\u001b[1;33m)\u001b[0m\u001b[1;33m:\u001b[0m\u001b[1;33m\u001b[0m\u001b[1;33m\u001b[0m\u001b[0m\n",
      "\u001b[1;32mD:\\Programing\\Anaconda3\\lib\\site-packages\\pandas\\core\\internals\\blocks.py\u001b[0m in \u001b[0;36m_astype\u001b[1;34m(self, dtype, copy, errors, values, **kwargs)\u001b[0m\n\u001b[0;32m    641\u001b[0m                     \u001b[1;31m# _astype_nansafe works fine with 1-d only\u001b[0m\u001b[1;33m\u001b[0m\u001b[1;33m\u001b[0m\u001b[1;33m\u001b[0m\u001b[0m\n\u001b[0;32m    642\u001b[0m                     \u001b[0mvals1d\u001b[0m \u001b[1;33m=\u001b[0m \u001b[0mvalues\u001b[0m\u001b[1;33m.\u001b[0m\u001b[0mravel\u001b[0m\u001b[1;33m(\u001b[0m\u001b[1;33m)\u001b[0m\u001b[1;33m\u001b[0m\u001b[1;33m\u001b[0m\u001b[0m\n\u001b[1;32m--> 643\u001b[1;33m                     \u001b[0mvalues\u001b[0m \u001b[1;33m=\u001b[0m \u001b[0mastype_nansafe\u001b[0m\u001b[1;33m(\u001b[0m\u001b[0mvals1d\u001b[0m\u001b[1;33m,\u001b[0m \u001b[0mdtype\u001b[0m\u001b[1;33m,\u001b[0m \u001b[0mcopy\u001b[0m\u001b[1;33m=\u001b[0m\u001b[1;32mTrue\u001b[0m\u001b[1;33m,\u001b[0m \u001b[1;33m**\u001b[0m\u001b[0mkwargs\u001b[0m\u001b[1;33m)\u001b[0m\u001b[1;33m\u001b[0m\u001b[1;33m\u001b[0m\u001b[0m\n\u001b[0m\u001b[0;32m    644\u001b[0m \u001b[1;33m\u001b[0m\u001b[0m\n\u001b[0;32m    645\u001b[0m                 \u001b[1;31m# TODO(extension)\u001b[0m\u001b[1;33m\u001b[0m\u001b[1;33m\u001b[0m\u001b[1;33m\u001b[0m\u001b[0m\n",
      "\u001b[1;32mD:\\Programing\\Anaconda3\\lib\\site-packages\\pandas\\core\\dtypes\\cast.py\u001b[0m in \u001b[0;36mastype_nansafe\u001b[1;34m(arr, dtype, copy, skipna)\u001b[0m\n\u001b[0;32m    705\u001b[0m         \u001b[1;31m# work around NumPy brokenness, #1987\u001b[0m\u001b[1;33m\u001b[0m\u001b[1;33m\u001b[0m\u001b[1;33m\u001b[0m\u001b[0m\n\u001b[0;32m    706\u001b[0m         \u001b[1;32mif\u001b[0m \u001b[0mnp\u001b[0m\u001b[1;33m.\u001b[0m\u001b[0missubdtype\u001b[0m\u001b[1;33m(\u001b[0m\u001b[0mdtype\u001b[0m\u001b[1;33m.\u001b[0m\u001b[0mtype\u001b[0m\u001b[1;33m,\u001b[0m \u001b[0mnp\u001b[0m\u001b[1;33m.\u001b[0m\u001b[0minteger\u001b[0m\u001b[1;33m)\u001b[0m\u001b[1;33m:\u001b[0m\u001b[1;33m\u001b[0m\u001b[1;33m\u001b[0m\u001b[0m\n\u001b[1;32m--> 707\u001b[1;33m             \u001b[1;32mreturn\u001b[0m \u001b[0mlib\u001b[0m\u001b[1;33m.\u001b[0m\u001b[0mastype_intsafe\u001b[0m\u001b[1;33m(\u001b[0m\u001b[0marr\u001b[0m\u001b[1;33m.\u001b[0m\u001b[0mravel\u001b[0m\u001b[1;33m(\u001b[0m\u001b[1;33m)\u001b[0m\u001b[1;33m,\u001b[0m \u001b[0mdtype\u001b[0m\u001b[1;33m)\u001b[0m\u001b[1;33m.\u001b[0m\u001b[0mreshape\u001b[0m\u001b[1;33m(\u001b[0m\u001b[0marr\u001b[0m\u001b[1;33m.\u001b[0m\u001b[0mshape\u001b[0m\u001b[1;33m)\u001b[0m\u001b[1;33m\u001b[0m\u001b[1;33m\u001b[0m\u001b[0m\n\u001b[0m\u001b[0;32m    708\u001b[0m \u001b[1;33m\u001b[0m\u001b[0m\n\u001b[0;32m    709\u001b[0m         \u001b[1;31m# if we have a datetime/timedelta array of objects\u001b[0m\u001b[1;33m\u001b[0m\u001b[1;33m\u001b[0m\u001b[1;33m\u001b[0m\u001b[0m\n",
      "\u001b[1;32mpandas/_libs/lib.pyx\u001b[0m in \u001b[0;36mpandas._libs.lib.astype_intsafe\u001b[1;34m()\u001b[0m\n",
      "\u001b[1;31mValueError\u001b[0m: invalid literal for int() with base 10: 'hello'"
     ],
     "ename": "ValueError",
     "evalue": "invalid literal for int() with base 10: 'hello'",
     "output_type": "error"
    }
   ],
   "source": [
    "invoices['Meal Price'].astype('int')"
   ],
   "metadata": {
    "collapsed": false,
    "pycharm": {
     "name": "#%%\n",
     "is_executing": false
    }
   }
  },
  {
   "cell_type": "code",
   "execution_count": 13,
   "outputs": [
    {
     "data": {
      "text/plain": "<class 'int'>    50016\n<class 'str'>        1\nName: Meal Price, dtype: int64"
     },
     "metadata": {},
     "output_type": "execute_result",
     "execution_count": 13
    }
   ],
   "source": [
    "invoices['Meal Price'].apply(lambda x: type(x)).value_counts()"
   ],
   "metadata": {
    "collapsed": false,
    "pycharm": {
     "name": "#%%\n",
     "is_executing": false
    }
   }
  },
  {
   "cell_type": "code",
   "execution_count": 15,
   "outputs": [
    {
     "data": {
      "text/plain": "0        469\n1         22\n2        314\n3        438\n4        690\n        ... \n50012      9\n50013     25\n50014    160\n50015    497\n50016    365\nName: Meal Price, Length: 50017, dtype: object"
     },
     "metadata": {},
     "output_type": "execute_result",
     "execution_count": 15
    }
   ],
   "source": [
    "pd.to_numeric(invoices['Meal Price'], errors='ignore')"
   ],
   "metadata": {
    "collapsed": false,
    "pycharm": {
     "name": "#%%\n",
     "is_executing": false
    }
   }
  },
  {
   "cell_type": "code",
   "execution_count": 16,
   "outputs": [],
   "source": [
    "invoices['Meal Price']=pd.to_numeric(invoices['Meal Price'], errors='coerce')"
   ],
   "metadata": {
    "collapsed": false,
    "pycharm": {
     "name": "#%%\n",
     "is_executing": false
    }
   }
  },
  {
   "cell_type": "code",
   "execution_count": 17,
   "outputs": [
    {
     "data": {
      "text/plain": "Order Id                                              SJ3BBH2NXTGG787M\nDate                                               2015-02-13 00:00:00\nMeal Id                                               2NMCOP5D1L72U1DY\nCompany Id                                            FR2HKQ4OYXNW5NE6\nDate of Meal                                 2015-02-16 07:00:00+01:00\nParticipants         ['Chris Crosson' 'Martin Smith' 'Derrick Fuller']\nMeal Price                                                         NaN\nType of Meal                                                 Breakfast\nHeroes Adjustment                                                False\nName: 12345, dtype: object"
     },
     "metadata": {},
     "output_type": "execute_result",
     "execution_count": 17
    }
   ],
   "source": [
    "invoices.loc[12345]"
   ],
   "metadata": {
    "collapsed": false,
    "pycharm": {
     "name": "#%%\n",
     "is_executing": false
    }
   }
  },
  {
   "cell_type": "code",
   "execution_count": 21,
   "outputs": [],
   "source": [
    "invoices['Meal Price']=invoices['Meal Price'].fillna(invoices['Meal Price'].median())"
   ],
   "metadata": {
    "collapsed": false,
    "pycharm": {
     "name": "#%%\n",
     "is_executing": false
    }
   }
  },
  {
   "cell_type": "code",
   "execution_count": 20,
   "outputs": [
    {
     "data": {
      "text/plain": "398.0"
     },
     "metadata": {},
     "output_type": "execute_result",
     "execution_count": 20
    }
   ],
   "source": [
    "invoices['Meal Price'].median()"
   ],
   "metadata": {
    "collapsed": false,
    "pycharm": {
     "name": "#%%\n",
     "is_executing": false
    }
   }
  },
  {
   "cell_type": "code",
   "execution_count": 22,
   "outputs": [
    {
     "data": {
      "text/plain": "Order Id                                              SJ3BBH2NXTGG787M\nDate                                               2015-02-13 00:00:00\nMeal Id                                               2NMCOP5D1L72U1DY\nCompany Id                                            FR2HKQ4OYXNW5NE6\nDate of Meal                                 2015-02-16 07:00:00+01:00\nParticipants         ['Chris Crosson' 'Martin Smith' 'Derrick Fuller']\nMeal Price                                                         398\nType of Meal                                                 Breakfast\nHeroes Adjustment                                                False\nName: 12345, dtype: object"
     },
     "metadata": {},
     "output_type": "execute_result",
     "execution_count": 22
    }
   ],
   "source": [
    "invoices.loc[12345]"
   ],
   "metadata": {
    "collapsed": false,
    "pycharm": {
     "name": "#%%\n",
     "is_executing": false
    }
   }
  },
  {
   "cell_type": "code",
   "execution_count": 23,
   "outputs": [
    {
     "name": "stdout",
     "text": [
      "2019-12-25 00:00:00\n"
     ],
     "output_type": "stream"
    }
   ],
   "source": [
    "print(pd.to_datetime('2019-12-25'))"
   ],
   "metadata": {
    "collapsed": false,
    "pycharm": {
     "name": "#%%\n",
     "is_executing": false
    }
   }
  },
  {
   "cell_type": "code",
   "execution_count": 25,
   "outputs": [
    {
     "name": "stdout",
     "text": [
      "2019-09-18 00:00:00\n",
      "2019-09-18 00:00:00\n",
      "2019-09-18 00:00:00\n",
      "2019-09-18 00:00:00\n",
      "2019-09-18 00:00:00\n",
      "2019-09-18 00:00:00\n",
      "2019-09-18 00:00:00\n",
      "2019-09-18 00:00:00\n"
     ],
     "output_type": "stream"
    }
   ],
   "source": [
    "print(pd.to_datetime('2019/9/18'))\n",
    "print(pd.to_datetime('9/18/2019'))\n",
    "print(pd.to_datetime('Sep, 18 2019'))\n",
    "print(pd.to_datetime('September, 18 2019'))\n",
    "print(pd.to_datetime('Sep - 18 2019'))\n",
    "print(pd.to_datetime('2019, September -18'))\n",
    "print(pd.to_datetime('20190918'))\n",
    "print(pd.to_datetime('20191809', format='%Y%d%m'))"
   ],
   "metadata": {
    "collapsed": false,
    "pycharm": {
     "name": "#%%\n",
     "is_executing": false
    }
   }
  },
  {
   "cell_type": "code",
   "execution_count": 26,
   "outputs": [
    {
     "name": "stdout",
     "text": [
      "2019-09-18 00:00:00\n"
     ],
     "output_type": "stream"
    }
   ],
   "source": [
    "print(pd.to_datetime('yoyo 20191809', format='%Y%d%m', exact=False))"
   ],
   "metadata": {
    "collapsed": false,
    "pycharm": {
     "name": "#%%\n",
     "is_executing": false
    }
   }
  },
  {
   "cell_type": "code",
   "execution_count": 27,
   "outputs": [],
   "source": [
    "invoices['Date of Meal']=pd.to_datetime(invoices['Date of Meal'], utc=True)"
   ],
   "metadata": {
    "collapsed": false,
    "pycharm": {
     "name": "#%%\n",
     "is_executing": false
    }
   }
  },
  {
   "cell_type": "code",
   "execution_count": 29,
   "outputs": [
    {
     "data": {
      "text/plain": "           Order Id       Date           Meal Id        Company Id  \\\n0  839FKFW2LLX4LMBB 2016-05-27  INBUX904GIHI8YBD  LJKS5NK6788CYMUU   \n1  97OX39BGVMHODLJM 2018-09-27  J0MMOOPP709DIDIE  LJKS5NK6788CYMUU   \n2  041ORQM5OIHTIU6L 2014-08-24  E4UJLQNCI16UX5CS  LJKS5NK6788CYMUU   \n3  YT796QI18WNGZ7ZJ 2014-04-12  C9SDFHF7553BE247  LJKS5NK6788CYMUU   \n4  6YLROQT27B6HRF4E 2015-07-28  48EQXS6IHYNZDDZ5  LJKS5NK6788CYMUU   \n\n               Date of Meal                       Participants  Meal Price  \\\n0 2016-05-31 05:00:00+00:00                   ['David Bishop']       469.0   \n1 2018-10-01 18:00:00+00:00                   ['David Bishop']        22.0   \n2 2014-08-23 12:00:00+00:00                 ['Karen Stansell']       314.0   \n3 2014-04-07 19:00:00+00:00                   ['Addie Patino']       438.0   \n4 2015-07-27 12:00:00+00:00  ['Addie Patino' 'Susan Guerrero']       690.0   \n\n  Type of Meal  Heroes Adjustment  \n0    Breakfast              False  \n1       Dinner              False  \n2        Lunch              False  \n3       Dinner              False  \n4        Lunch              False  ",
      "text/html": "<div>\n<style scoped>\n    .dataframe tbody tr th:only-of-type {\n        vertical-align: middle;\n    }\n\n    .dataframe tbody tr th {\n        vertical-align: top;\n    }\n\n    .dataframe thead th {\n        text-align: right;\n    }\n</style>\n<table border=\"1\" class=\"dataframe\">\n  <thead>\n    <tr style=\"text-align: right;\">\n      <th></th>\n      <th>Order Id</th>\n      <th>Date</th>\n      <th>Meal Id</th>\n      <th>Company Id</th>\n      <th>Date of Meal</th>\n      <th>Participants</th>\n      <th>Meal Price</th>\n      <th>Type of Meal</th>\n      <th>Heroes Adjustment</th>\n    </tr>\n  </thead>\n  <tbody>\n    <tr>\n      <th>0</th>\n      <td>839FKFW2LLX4LMBB</td>\n      <td>2016-05-27</td>\n      <td>INBUX904GIHI8YBD</td>\n      <td>LJKS5NK6788CYMUU</td>\n      <td>2016-05-31 05:00:00+00:00</td>\n      <td>['David Bishop']</td>\n      <td>469.0</td>\n      <td>Breakfast</td>\n      <td>False</td>\n    </tr>\n    <tr>\n      <th>1</th>\n      <td>97OX39BGVMHODLJM</td>\n      <td>2018-09-27</td>\n      <td>J0MMOOPP709DIDIE</td>\n      <td>LJKS5NK6788CYMUU</td>\n      <td>2018-10-01 18:00:00+00:00</td>\n      <td>['David Bishop']</td>\n      <td>22.0</td>\n      <td>Dinner</td>\n      <td>False</td>\n    </tr>\n    <tr>\n      <th>2</th>\n      <td>041ORQM5OIHTIU6L</td>\n      <td>2014-08-24</td>\n      <td>E4UJLQNCI16UX5CS</td>\n      <td>LJKS5NK6788CYMUU</td>\n      <td>2014-08-23 12:00:00+00:00</td>\n      <td>['Karen Stansell']</td>\n      <td>314.0</td>\n      <td>Lunch</td>\n      <td>False</td>\n    </tr>\n    <tr>\n      <th>3</th>\n      <td>YT796QI18WNGZ7ZJ</td>\n      <td>2014-04-12</td>\n      <td>C9SDFHF7553BE247</td>\n      <td>LJKS5NK6788CYMUU</td>\n      <td>2014-04-07 19:00:00+00:00</td>\n      <td>['Addie Patino']</td>\n      <td>438.0</td>\n      <td>Dinner</td>\n      <td>False</td>\n    </tr>\n    <tr>\n      <th>4</th>\n      <td>6YLROQT27B6HRF4E</td>\n      <td>2015-07-28</td>\n      <td>48EQXS6IHYNZDDZ5</td>\n      <td>LJKS5NK6788CYMUU</td>\n      <td>2015-07-27 12:00:00+00:00</td>\n      <td>['Addie Patino' 'Susan Guerrero']</td>\n      <td>690.0</td>\n      <td>Lunch</td>\n      <td>False</td>\n    </tr>\n  </tbody>\n</table>\n</div>"
     },
     "metadata": {},
     "output_type": "execute_result",
     "execution_count": 29
    }
   ],
   "source": [
    "invoices.head(5)"
   ],
   "metadata": {
    "collapsed": false,
    "pycharm": {
     "name": "#%%\n",
     "is_executing": false
    }
   }
  },
  {
   "cell_type": "code",
   "execution_count": 36,
   "outputs": [],
   "source": [
    "# 设定结果显示多少行\n",
    "pd.set_option('display.max_rows', 8)"
   ],
   "metadata": {
    "collapsed": false,
    "pycharm": {
     "name": "#%%\n",
     "is_executing": false
    }
   }
  },
  {
   "cell_type": "code",
   "execution_count": 37,
   "outputs": [
    {
     "data": {
      "text/plain": "0        2016-05-31\n1        2018-10-01\n2        2014-08-23\n3        2014-04-07\n            ...    \n50013    2018-03-18\n50014    2017-09-22\n50015    2018-02-01\n50016    2017-09-09\nName: Date of Meal, Length: 50017, dtype: object"
     },
     "metadata": {},
     "output_type": "execute_result",
     "execution_count": 37
    }
   ],
   "source": [
    "invoices['Date of Meal'].dt.date"
   ],
   "metadata": {
    "collapsed": false,
    "pycharm": {
     "name": "#%%\n",
     "is_executing": false
    }
   }
  },
  {
   "cell_type": "code",
   "execution_count": 39,
   "outputs": [
    {
     "data": {
      "text/plain": "0         5\n1        10\n2         8\n3         4\n         ..\n50013     3\n50014     9\n50015     2\n50016     9\nName: Date of Meal, Length: 50017, dtype: int64"
     },
     "metadata": {},
     "output_type": "execute_result",
     "execution_count": 39
    }
   ],
   "source": [
    "invoices['Date of Meal'].dt.month"
   ],
   "metadata": {
    "collapsed": false,
    "pycharm": {
     "name": "#%%\n",
     "is_executing": false
    }
   }
  },
  {
   "cell_type": "code",
   "execution_count": 41,
   "outputs": [
    {
     "data": {
      "text/plain": "0         Tuesday\n1          Monday\n2        Saturday\n3          Monday\n           ...   \n50013      Sunday\n50014      Friday\n50015    Thursday\n50016    Saturday\nName: Date of Meal, Length: 50017, dtype: object"
     },
     "metadata": {},
     "output_type": "execute_result",
     "execution_count": 41
    }
   ],
   "source": [
    "invoices['Date of Meal'].dt.weekday_name"
   ],
   "metadata": {
    "collapsed": false,
    "pycharm": {
     "name": "#%%\n",
     "is_executing": false
    }
   }
  },
  {
   "cell_type": "code",
   "execution_count": 42,
   "outputs": [
    {
     "data": {
      "text/plain": "0        31\n1         1\n2        23\n3         7\n         ..\n50013    18\n50014    22\n50015     1\n50016     9\nName: Date of Meal, Length: 50017, dtype: int64"
     },
     "metadata": {},
     "output_type": "execute_result",
     "execution_count": 42
    }
   ],
   "source": [
    "invoices['Date of Meal'].dt.day"
   ],
   "metadata": {
    "collapsed": false,
    "pycharm": {
     "name": "#%%\n",
     "is_executing": false
    }
   }
  },
  {
   "cell_type": "code",
   "execution_count": 43,
   "outputs": [
    {
     "data": {
      "text/plain": "0        2\n1        4\n2        3\n3        2\n        ..\n50013    1\n50014    3\n50015    1\n50016    3\nName: Date of Meal, Length: 50017, dtype: int64"
     },
     "metadata": {},
     "output_type": "execute_result",
     "execution_count": 43
    }
   ],
   "source": [
    "invoices['Date of Meal'].dt.quarter"
   ],
   "metadata": {
    "collapsed": false,
    "pycharm": {
     "name": "#%%\n",
     "is_executing": false
    }
   }
  },
  {
   "cell_type": "code",
   "execution_count": 44,
   "outputs": [
    {
     "data": {
      "text/plain": "0        22\n1        40\n2        34\n3        15\n         ..\n50013    11\n50014    38\n50015     5\n50016    36\nName: Date of Meal, Length: 50017, dtype: int64"
     },
     "metadata": {},
     "output_type": "execute_result",
     "execution_count": 44
    }
   ],
   "source": [
    "invoices['Date of Meal'].dt.week"
   ],
   "metadata": {
    "collapsed": false,
    "pycharm": {
     "name": "#%%\n",
     "is_executing": false
    }
   }
  },
  {
   "cell_type": "code",
   "execution_count": 46,
   "outputs": [
    {
     "data": {
      "text/plain": "               Order Id       Date           Meal Id        Company Id  \\\n0      839FKFW2LLX4LMBB 2016-05-27  INBUX904GIHI8YBD  LJKS5NK6788CYMUU   \n6      2DDN2LHS7G85GKPQ 2014-04-29  1MKLAKBOE3SP7YUL  LJKS5NK6788CYMUU   \n127    IFWFCKR8TRAGCLSN 2015-09-03  KP72EIIXT3D2D3YX  TAW7IY2L2IKUCCGC   \n199    R5RROQZEHSVU7JWT 2014-06-02  BAZRFTKXVH12H4L0  W2X6NP1JBOKWCO33   \n...                 ...        ...               ...               ...   \n49840  H3JAY96W61R8R4TL 2016-05-29  6LGP15E0XZLBRGHB  2UTFJU7Q3VWNMJ00   \n49865  68I4K85G0WR7047R 2014-11-26  4R0TOJ9ENQ65VPE9  3OE3X93CX3TNVHLA   \n49896  G3FX5EAE2VCUFELA 2016-03-05  SZ1UUTPDNW3FCIFF  CZTLKWWDEHQ0GW0I   \n49929  HEGJLUD58BTP2CC3 2016-02-04  C18IITWW7K615G21  DNAC0XNVYCD3J62R   \n\n                   Date of Meal                         Participants  \\\n0     2016-05-31 05:00:00+00:00                     ['David Bishop']   \n6     2014-04-30 19:00:00+00:00    ['Susan Guerrero' 'David Bishop']   \n127   2015-08-31 18:00:00+00:00                       ['Tina Jones']   \n199   2014-05-31 06:00:00+00:00                   ['Brandon Rivera']   \n...                         ...                                  ...   \n49840 2016-05-31 11:00:00+00:00  ['Earnestine Mckeeman' 'Sid Brown']   \n49865 2014-11-30 21:00:00+00:00                 ['Jeffrey Phillips']   \n49896 2016-02-29 07:00:00+00:00                 ['Olga Fortenberry']   \n49929 2016-01-31 21:00:00+00:00                     ['Linda Torros']   \n\n       Meal Price Type of Meal  Heroes Adjustment  \n0           469.0    Breakfast              False  \n6            14.0       Dinner              False  \n127         385.0       Dinner              False  \n199         468.0    Breakfast              False  \n...           ...          ...                ...  \n49840       248.0        Lunch              False  \n49865       491.0       Dinner              False  \n49896       288.0    Breakfast              False  \n49929       331.0       Dinner              False  \n\n[1573 rows x 9 columns]",
      "text/html": "<div>\n<style scoped>\n    .dataframe tbody tr th:only-of-type {\n        vertical-align: middle;\n    }\n\n    .dataframe tbody tr th {\n        vertical-align: top;\n    }\n\n    .dataframe thead th {\n        text-align: right;\n    }\n</style>\n<table border=\"1\" class=\"dataframe\">\n  <thead>\n    <tr style=\"text-align: right;\">\n      <th></th>\n      <th>Order Id</th>\n      <th>Date</th>\n      <th>Meal Id</th>\n      <th>Company Id</th>\n      <th>Date of Meal</th>\n      <th>Participants</th>\n      <th>Meal Price</th>\n      <th>Type of Meal</th>\n      <th>Heroes Adjustment</th>\n    </tr>\n  </thead>\n  <tbody>\n    <tr>\n      <th>0</th>\n      <td>839FKFW2LLX4LMBB</td>\n      <td>2016-05-27</td>\n      <td>INBUX904GIHI8YBD</td>\n      <td>LJKS5NK6788CYMUU</td>\n      <td>2016-05-31 05:00:00+00:00</td>\n      <td>['David Bishop']</td>\n      <td>469.0</td>\n      <td>Breakfast</td>\n      <td>False</td>\n    </tr>\n    <tr>\n      <th>6</th>\n      <td>2DDN2LHS7G85GKPQ</td>\n      <td>2014-04-29</td>\n      <td>1MKLAKBOE3SP7YUL</td>\n      <td>LJKS5NK6788CYMUU</td>\n      <td>2014-04-30 19:00:00+00:00</td>\n      <td>['Susan Guerrero' 'David Bishop']</td>\n      <td>14.0</td>\n      <td>Dinner</td>\n      <td>False</td>\n    </tr>\n    <tr>\n      <th>127</th>\n      <td>IFWFCKR8TRAGCLSN</td>\n      <td>2015-09-03</td>\n      <td>KP72EIIXT3D2D3YX</td>\n      <td>TAW7IY2L2IKUCCGC</td>\n      <td>2015-08-31 18:00:00+00:00</td>\n      <td>['Tina Jones']</td>\n      <td>385.0</td>\n      <td>Dinner</td>\n      <td>False</td>\n    </tr>\n    <tr>\n      <th>199</th>\n      <td>R5RROQZEHSVU7JWT</td>\n      <td>2014-06-02</td>\n      <td>BAZRFTKXVH12H4L0</td>\n      <td>W2X6NP1JBOKWCO33</td>\n      <td>2014-05-31 06:00:00+00:00</td>\n      <td>['Brandon Rivera']</td>\n      <td>468.0</td>\n      <td>Breakfast</td>\n      <td>False</td>\n    </tr>\n    <tr>\n      <th>...</th>\n      <td>...</td>\n      <td>...</td>\n      <td>...</td>\n      <td>...</td>\n      <td>...</td>\n      <td>...</td>\n      <td>...</td>\n      <td>...</td>\n      <td>...</td>\n    </tr>\n    <tr>\n      <th>49840</th>\n      <td>H3JAY96W61R8R4TL</td>\n      <td>2016-05-29</td>\n      <td>6LGP15E0XZLBRGHB</td>\n      <td>2UTFJU7Q3VWNMJ00</td>\n      <td>2016-05-31 11:00:00+00:00</td>\n      <td>['Earnestine Mckeeman' 'Sid Brown']</td>\n      <td>248.0</td>\n      <td>Lunch</td>\n      <td>False</td>\n    </tr>\n    <tr>\n      <th>49865</th>\n      <td>68I4K85G0WR7047R</td>\n      <td>2014-11-26</td>\n      <td>4R0TOJ9ENQ65VPE9</td>\n      <td>3OE3X93CX3TNVHLA</td>\n      <td>2014-11-30 21:00:00+00:00</td>\n      <td>['Jeffrey Phillips']</td>\n      <td>491.0</td>\n      <td>Dinner</td>\n      <td>False</td>\n    </tr>\n    <tr>\n      <th>49896</th>\n      <td>G3FX5EAE2VCUFELA</td>\n      <td>2016-03-05</td>\n      <td>SZ1UUTPDNW3FCIFF</td>\n      <td>CZTLKWWDEHQ0GW0I</td>\n      <td>2016-02-29 07:00:00+00:00</td>\n      <td>['Olga Fortenberry']</td>\n      <td>288.0</td>\n      <td>Breakfast</td>\n      <td>False</td>\n    </tr>\n    <tr>\n      <th>49929</th>\n      <td>HEGJLUD58BTP2CC3</td>\n      <td>2016-02-04</td>\n      <td>C18IITWW7K615G21</td>\n      <td>DNAC0XNVYCD3J62R</td>\n      <td>2016-01-31 21:00:00+00:00</td>\n      <td>['Linda Torros']</td>\n      <td>331.0</td>\n      <td>Dinner</td>\n      <td>False</td>\n    </tr>\n  </tbody>\n</table>\n<p>1573 rows × 9 columns</p>\n</div>"
     },
     "metadata": {},
     "output_type": "execute_result",
     "execution_count": 46
    }
   ],
   "source": [
    "invoices[invoices['Date of Meal'].dt.is_month_end]"
   ],
   "metadata": {
    "collapsed": false,
    "pycharm": {
     "name": "#%%\n",
     "is_executing": false
    }
   }
  },
  {
   "cell_type": "code",
   "execution_count": 47,
   "outputs": [
    {
     "data": {
      "text/plain": "0        0\n1        0\n2        0\n3        0\n        ..\n50013    0\n50014    0\n50015    0\n50016    0\nName: Date of Meal, Length: 50017, dtype: int64"
     },
     "metadata": {},
     "output_type": "execute_result",
     "execution_count": 47
    }
   ],
   "source": [
    "invoices['Date of Meal'].dt.minute"
   ],
   "metadata": {
    "collapsed": false,
    "pycharm": {
     "name": "#%%\n",
     "is_executing": false
    }
   }
  },
  {
   "cell_type": "code",
   "execution_count": 48,
   "outputs": [
    {
     "data": {
      "text/plain": "0         5\n1        18\n2        12\n3        19\n         ..\n50013     8\n50014    19\n50015    20\n50016    12\nName: Date of Meal, Length: 50017, dtype: int64"
     },
     "metadata": {},
     "output_type": "execute_result",
     "execution_count": 48
    }
   ],
   "source": [
    "invoices['Date of Meal'].dt.hour"
   ],
   "metadata": {
    "collapsed": false,
    "pycharm": {
     "name": "#%%\n",
     "is_executing": false
    }
   }
  },
  {
   "cell_type": "code",
   "execution_count": 49,
   "outputs": [
    {
     "data": {
      "text/plain": "0        breakfast\n1           dinner\n2            lunch\n3           dinner\n           ...    \n50013    breakfast\n50014       dinner\n50015       dinner\n50016        lunch\nName: Type of Meal, Length: 50017, dtype: object"
     },
     "metadata": {},
     "output_type": "execute_result",
     "execution_count": 49
    }
   ],
   "source": [
    "invoices['Type of Meal'].str.lower()"
   ],
   "metadata": {
    "collapsed": false,
    "pycharm": {
     "name": "#%%\n",
     "is_executing": false
    }
   }
  },
  {
   "cell_type": "code",
   "execution_count": 50,
   "outputs": [
    {
     "data": {
      "text/plain": "0        BREAKFAST\n1           DINNER\n2            LUNCH\n3           DINNER\n           ...    \n50013    BREAKFAST\n50014       DINNER\n50015       DINNER\n50016        LUNCH\nName: Type of Meal, Length: 50017, dtype: object"
     },
     "metadata": {},
     "output_type": "execute_result",
     "execution_count": 50
    }
   ],
   "source": [
    "invoices['Type of Meal'].str.upper()"
   ],
   "metadata": {
    "collapsed": false,
    "pycharm": {
     "name": "#%%\n",
     "is_executing": false
    }
   }
  },
  {
   "cell_type": "code",
   "execution_count": 51,
   "outputs": [
    {
     "data": {
      "text/plain": "0        Breakfast           \n1        Dinner              \n2        Lunch               \n3        Dinner              \n                 ...         \n50013    Breakfast           \n50014    Dinner              \n50015    Dinner              \n50016    Lunch               \nName: Type of Meal, Length: 50017, dtype: object"
     },
     "metadata": {},
     "output_type": "execute_result",
     "execution_count": 51
    }
   ],
   "source": [
    "invoices['Type of Meal'].str.ljust(width=20)"
   ],
   "metadata": {
    "collapsed": false,
    "pycharm": {
     "name": "#%%\n",
     "is_executing": false
    }
   }
  },
  {
   "cell_type": "code",
   "execution_count": 52,
   "outputs": [
    {
     "data": {
      "text/plain": "0             Breakfast      \n1               Dinner       \n2               Lunch        \n3               Dinner       \n                 ...         \n50013         Breakfast      \n50014           Dinner       \n50015           Dinner       \n50016           Lunch        \nName: Type of Meal, Length: 50017, dtype: object"
     },
     "metadata": {},
     "output_type": "execute_result",
     "execution_count": 52
    }
   ],
   "source": [
    "invoices['Type of Meal'].str.center(width=20)"
   ],
   "metadata": {
    "collapsed": false,
    "pycharm": {
     "name": "#%%\n",
     "is_executing": false
    }
   }
  },
  {
   "cell_type": "code",
   "execution_count": 53,
   "outputs": [
    {
     "data": {
      "text/plain": "0        00000000000Breakfast\n1        00000000000000Dinner\n2        000000000000000Lunch\n3        00000000000000Dinner\n                 ...         \n50013    00000000000Breakfast\n50014    00000000000000Dinner\n50015    00000000000000Dinner\n50016    000000000000000Lunch\nName: Type of Meal, Length: 50017, dtype: object"
     },
     "metadata": {},
     "output_type": "execute_result",
     "execution_count": 53
    }
   ],
   "source": [
    "invoices['Type of Meal'].str.zfill(width=20)"
   ],
   "metadata": {
    "collapsed": false,
    "pycharm": {
     "name": "#%%\n",
     "is_executing": false
    }
   }
  },
  {
   "cell_type": "code",
   "execution_count": 54,
   "outputs": [
    {
     "data": {
      "text/plain": "0        BreakfastBreakfastBreakfast\n1                 DinnerDinnerDinner\n2                    LunchLunchLunch\n3                 DinnerDinnerDinner\n                    ...             \n50013    BreakfastBreakfastBreakfast\n50014             DinnerDinnerDinner\n50015             DinnerDinnerDinner\n50016                LunchLunchLunch\nName: Type of Meal, Length: 50017, dtype: object"
     },
     "metadata": {},
     "output_type": "execute_result",
     "execution_count": 54
    }
   ],
   "source": [
    "invoices['Type of Meal'].str.repeat(3)"
   ],
   "metadata": {
    "collapsed": false,
    "pycharm": {
     "name": "#%%\n",
     "is_executing": false
    }
   }
  },
  {
   "cell_type": "code",
   "execution_count": 55,
   "outputs": [
    {
     "data": {
      "text/plain": "0        bREAKFAST\n1           dINNER\n2            lUNCH\n3           dINNER\n           ...    \n50013    bREAKFAST\n50014       dINNER\n50015       dINNER\n50016        lUNCH\nName: Type of Meal, Length: 50017, dtype: object"
     },
     "metadata": {},
     "output_type": "execute_result",
     "execution_count": 55
    }
   ],
   "source": [
    "invoices['Type of Meal'].str.swapcase()"
   ],
   "metadata": {
    "collapsed": false,
    "pycharm": {
     "name": "#%%\n",
     "is_executing": false
    }
   }
  },
  {
   "cell_type": "code",
   "execution_count": 56,
   "outputs": [
    {
     "data": {
      "text/plain": "               Order Id       Date           Meal Id        Company Id  \\\n2      041ORQM5OIHTIU6L 2014-08-24  E4UJLQNCI16UX5CS  LJKS5NK6788CYMUU   \n4      6YLROQT27B6HRF4E 2015-07-28  48EQXS6IHYNZDDZ5  LJKS5NK6788CYMUU   \n8      CK331XXNIBQT81QL 2015-05-23  CTZSFFKQTY7SBZ4J  36MFTZOYMTAJP1RK   \n13     W1Y086SRAVUZU1AL 2017-09-17  8IUOYVS031QPROUG  36MFTZOYMTAJP1RK   \n...                 ...        ...               ...               ...   \n50003  VC858QHD5EW99MYD 2016-12-25  95XY29BUWLB0UEQR  FC1LJXHNH2883N3Y   \n50004  5DPMPEQ930LJ3HZ7 2017-01-11  T3DS9G6N2Y0AECOP  FC1LJXHNH2883N3Y   \n50006  82U9R1VU6L5A0GVL 2014-04-08  O6KTCUNU8SV5RWQ5  FC1LJXHNH2883N3Y   \n50016  NKHFWT5I2J9LPAPG 2017-09-06  ORWFRT5TUSYGNYG7  E4K99D4JR9E40VE1   \n\n                   Date of Meal  \\\n2     2014-08-23 12:00:00+00:00   \n4     2015-07-27 12:00:00+00:00   \n8     2015-05-18 11:00:00+00:00   \n13    2017-09-14 11:00:00+00:00   \n...                         ...   \n50003 2016-12-23 11:00:00+00:00   \n50004 2017-01-13 12:00:00+00:00   \n50006 2014-04-08 12:00:00+00:00   \n50016 2017-09-09 12:00:00+00:00   \n\n                                            Participants  Meal Price  \\\n2                                     ['Karen Stansell']       314.0   \n4                      ['Addie Patino' 'Susan Guerrero']       690.0   \n8      ['Cheryl Feaster' 'Amanda Knowles' 'Ginger Hoa...       697.0   \n13                                        ['Bret Adams']       469.0   \n...                                                  ...         ...   \n50003                                      ['Jon Ponce']        45.0   \n50004                                      ['Jon Ponce']       280.0   \n50006                       ['Jerry Nelson' 'Jon Ponce']       470.0   \n50016                 ['Chester Mortimer' 'Robin Ramos']       365.0   \n\n      Type of Meal  Heroes Adjustment  \n2            Lunch              False  \n4            Lunch              False  \n8            Lunch              False  \n13           Lunch              False  \n...            ...                ...  \n50003        Lunch              False  \n50004        Lunch              False  \n50006        Lunch              False  \n50016        Lunch              False  \n\n[16622 rows x 9 columns]",
      "text/html": "<div>\n<style scoped>\n    .dataframe tbody tr th:only-of-type {\n        vertical-align: middle;\n    }\n\n    .dataframe tbody tr th {\n        vertical-align: top;\n    }\n\n    .dataframe thead th {\n        text-align: right;\n    }\n</style>\n<table border=\"1\" class=\"dataframe\">\n  <thead>\n    <tr style=\"text-align: right;\">\n      <th></th>\n      <th>Order Id</th>\n      <th>Date</th>\n      <th>Meal Id</th>\n      <th>Company Id</th>\n      <th>Date of Meal</th>\n      <th>Participants</th>\n      <th>Meal Price</th>\n      <th>Type of Meal</th>\n      <th>Heroes Adjustment</th>\n    </tr>\n  </thead>\n  <tbody>\n    <tr>\n      <th>2</th>\n      <td>041ORQM5OIHTIU6L</td>\n      <td>2014-08-24</td>\n      <td>E4UJLQNCI16UX5CS</td>\n      <td>LJKS5NK6788CYMUU</td>\n      <td>2014-08-23 12:00:00+00:00</td>\n      <td>['Karen Stansell']</td>\n      <td>314.0</td>\n      <td>Lunch</td>\n      <td>False</td>\n    </tr>\n    <tr>\n      <th>4</th>\n      <td>6YLROQT27B6HRF4E</td>\n      <td>2015-07-28</td>\n      <td>48EQXS6IHYNZDDZ5</td>\n      <td>LJKS5NK6788CYMUU</td>\n      <td>2015-07-27 12:00:00+00:00</td>\n      <td>['Addie Patino' 'Susan Guerrero']</td>\n      <td>690.0</td>\n      <td>Lunch</td>\n      <td>False</td>\n    </tr>\n    <tr>\n      <th>8</th>\n      <td>CK331XXNIBQT81QL</td>\n      <td>2015-05-23</td>\n      <td>CTZSFFKQTY7SBZ4J</td>\n      <td>36MFTZOYMTAJP1RK</td>\n      <td>2015-05-18 11:00:00+00:00</td>\n      <td>['Cheryl Feaster' 'Amanda Knowles' 'Ginger Hoa...</td>\n      <td>697.0</td>\n      <td>Lunch</td>\n      <td>False</td>\n    </tr>\n    <tr>\n      <th>13</th>\n      <td>W1Y086SRAVUZU1AL</td>\n      <td>2017-09-17</td>\n      <td>8IUOYVS031QPROUG</td>\n      <td>36MFTZOYMTAJP1RK</td>\n      <td>2017-09-14 11:00:00+00:00</td>\n      <td>['Bret Adams']</td>\n      <td>469.0</td>\n      <td>Lunch</td>\n      <td>False</td>\n    </tr>\n    <tr>\n      <th>...</th>\n      <td>...</td>\n      <td>...</td>\n      <td>...</td>\n      <td>...</td>\n      <td>...</td>\n      <td>...</td>\n      <td>...</td>\n      <td>...</td>\n      <td>...</td>\n    </tr>\n    <tr>\n      <th>50003</th>\n      <td>VC858QHD5EW99MYD</td>\n      <td>2016-12-25</td>\n      <td>95XY29BUWLB0UEQR</td>\n      <td>FC1LJXHNH2883N3Y</td>\n      <td>2016-12-23 11:00:00+00:00</td>\n      <td>['Jon Ponce']</td>\n      <td>45.0</td>\n      <td>Lunch</td>\n      <td>False</td>\n    </tr>\n    <tr>\n      <th>50004</th>\n      <td>5DPMPEQ930LJ3HZ7</td>\n      <td>2017-01-11</td>\n      <td>T3DS9G6N2Y0AECOP</td>\n      <td>FC1LJXHNH2883N3Y</td>\n      <td>2017-01-13 12:00:00+00:00</td>\n      <td>['Jon Ponce']</td>\n      <td>280.0</td>\n      <td>Lunch</td>\n      <td>False</td>\n    </tr>\n    <tr>\n      <th>50006</th>\n      <td>82U9R1VU6L5A0GVL</td>\n      <td>2014-04-08</td>\n      <td>O6KTCUNU8SV5RWQ5</td>\n      <td>FC1LJXHNH2883N3Y</td>\n      <td>2014-04-08 12:00:00+00:00</td>\n      <td>['Jerry Nelson' 'Jon Ponce']</td>\n      <td>470.0</td>\n      <td>Lunch</td>\n      <td>False</td>\n    </tr>\n    <tr>\n      <th>50016</th>\n      <td>NKHFWT5I2J9LPAPG</td>\n      <td>2017-09-06</td>\n      <td>ORWFRT5TUSYGNYG7</td>\n      <td>E4K99D4JR9E40VE1</td>\n      <td>2017-09-09 12:00:00+00:00</td>\n      <td>['Chester Mortimer' 'Robin Ramos']</td>\n      <td>365.0</td>\n      <td>Lunch</td>\n      <td>False</td>\n    </tr>\n  </tbody>\n</table>\n<p>16622 rows × 9 columns</p>\n</div>"
     },
     "metadata": {},
     "output_type": "execute_result",
     "execution_count": 56
    }
   ],
   "source": [
    "invoices[invoices['Type of Meal'].str.endswith('nch')]"
   ],
   "metadata": {
    "collapsed": false,
    "pycharm": {
     "name": "#%%\n",
     "is_executing": false
    }
   }
  },
  {
   "cell_type": "code",
   "execution_count": 57,
   "outputs": [
    {
     "data": {
      "text/plain": "0                          ['David Bishop']\n1                          ['David Bishop']\n2                        ['Karen Stansell']\n3                          ['Addie Patino']\n                        ...                \n50013    ['Robin Ramos' 'Chester Mortimer']\n50014                       ['Robin Ramos']\n50015    ['Chester Mortimer' 'Robin Ramos']\n50016    ['Chester Mortimer' 'Robin Ramos']\nName: Participants, Length: 50017, dtype: object"
     },
     "metadata": {},
     "output_type": "execute_result",
     "execution_count": 57
    }
   ],
   "source": [
    "invoices['Participants'].str.lower().str.title()"
   ],
   "metadata": {
    "collapsed": false,
    "pycharm": {
     "name": "#%%\n",
     "is_executing": false
    }
   }
  },
  {
   "cell_type": "code",
   "execution_count": 59,
   "outputs": [
    {
     "data": {
      "text/plain": "               Order Id       Date           Meal Id        Company Id  \\\n0      839FKFW2LLX4LMBB 2016-05-27  INBUX904GIHI8YBD  LJKS5NK6788CYMUU   \n1      97OX39BGVMHODLJM 2018-09-27  J0MMOOPP709DIDIE  LJKS5NK6788CYMUU   \n5      AT0R4DFYYAFOC88Q 2014-07-21  W48JPR1UYWJ18NC6  LJKS5NK6788CYMUU   \n6      2DDN2LHS7G85GKPQ 2014-04-29  1MKLAKBOE3SP7YUL  LJKS5NK6788CYMUU   \n...                 ...        ...               ...               ...   \n48791  26257WBC491B485G 2016-06-26  0CKXQG65KL4VB36V  DLFJ5YHTE0AC2LJW   \n49250  2W2D6LF7VOCRP3FG 2018-06-09  46OEUQ4TU1GJ1XVZ  C23HH5U2BDE1KCAQ   \n49252  AN515VI9698QLGD0 2014-02-26  H3Q6NTNJF8J9H3MH  C23HH5U2BDE1KCAQ   \n49254  0QO2OHN3M6L5JWR8 2016-05-18  FFBS79RPBULQ0VYS  C23HH5U2BDE1KCAQ   \n\n                   Date of Meal  \\\n0     2016-05-31 05:00:00+00:00   \n1     2018-10-01 18:00:00+00:00   \n5     2014-07-17 18:00:00+00:00   \n6     2014-04-30 19:00:00+00:00   \n...                         ...   \n48791 2016-06-29 12:00:00+00:00   \n49250 2018-06-10 20:00:00+00:00   \n49252 2014-02-27 07:00:00+00:00   \n49254 2016-05-17 20:00:00+00:00   \n\n                                            Participants  Meal Price  \\\n0                                       ['David Bishop']       469.0   \n1                                       ['David Bishop']        22.0   \n5      ['David Bishop' 'Susan Guerrero' 'Karen Stanse...       181.0   \n6                      ['Susan Guerrero' 'David Bishop']        14.0   \n...                                                  ...         ...   \n48791                                  ['David Paulson']        38.0   \n49250                                 ['David Jennings']       424.0   \n49252  ['David Jennings' 'Steven Fletcher' 'Gregory G...       323.0   \n49254                  ['Megan Wilcox' 'David Jennings']       176.0   \n\n      Type of Meal  Heroes Adjustment  \n0        Breakfast              False  \n1           Dinner              False  \n5           Dinner              False  \n6           Dinner              False  \n...            ...                ...  \n48791        Lunch              False  \n49250       Dinner              False  \n49252    Breakfast              False  \n49254       Dinner              False  \n\n[1009 rows x 9 columns]",
      "text/html": "<div>\n<style scoped>\n    .dataframe tbody tr th:only-of-type {\n        vertical-align: middle;\n    }\n\n    .dataframe tbody tr th {\n        vertical-align: top;\n    }\n\n    .dataframe thead th {\n        text-align: right;\n    }\n</style>\n<table border=\"1\" class=\"dataframe\">\n  <thead>\n    <tr style=\"text-align: right;\">\n      <th></th>\n      <th>Order Id</th>\n      <th>Date</th>\n      <th>Meal Id</th>\n      <th>Company Id</th>\n      <th>Date of Meal</th>\n      <th>Participants</th>\n      <th>Meal Price</th>\n      <th>Type of Meal</th>\n      <th>Heroes Adjustment</th>\n    </tr>\n  </thead>\n  <tbody>\n    <tr>\n      <th>0</th>\n      <td>839FKFW2LLX4LMBB</td>\n      <td>2016-05-27</td>\n      <td>INBUX904GIHI8YBD</td>\n      <td>LJKS5NK6788CYMUU</td>\n      <td>2016-05-31 05:00:00+00:00</td>\n      <td>['David Bishop']</td>\n      <td>469.0</td>\n      <td>Breakfast</td>\n      <td>False</td>\n    </tr>\n    <tr>\n      <th>1</th>\n      <td>97OX39BGVMHODLJM</td>\n      <td>2018-09-27</td>\n      <td>J0MMOOPP709DIDIE</td>\n      <td>LJKS5NK6788CYMUU</td>\n      <td>2018-10-01 18:00:00+00:00</td>\n      <td>['David Bishop']</td>\n      <td>22.0</td>\n      <td>Dinner</td>\n      <td>False</td>\n    </tr>\n    <tr>\n      <th>5</th>\n      <td>AT0R4DFYYAFOC88Q</td>\n      <td>2014-07-21</td>\n      <td>W48JPR1UYWJ18NC6</td>\n      <td>LJKS5NK6788CYMUU</td>\n      <td>2014-07-17 18:00:00+00:00</td>\n      <td>['David Bishop' 'Susan Guerrero' 'Karen Stanse...</td>\n      <td>181.0</td>\n      <td>Dinner</td>\n      <td>False</td>\n    </tr>\n    <tr>\n      <th>6</th>\n      <td>2DDN2LHS7G85GKPQ</td>\n      <td>2014-04-29</td>\n      <td>1MKLAKBOE3SP7YUL</td>\n      <td>LJKS5NK6788CYMUU</td>\n      <td>2014-04-30 19:00:00+00:00</td>\n      <td>['Susan Guerrero' 'David Bishop']</td>\n      <td>14.0</td>\n      <td>Dinner</td>\n      <td>False</td>\n    </tr>\n    <tr>\n      <th>...</th>\n      <td>...</td>\n      <td>...</td>\n      <td>...</td>\n      <td>...</td>\n      <td>...</td>\n      <td>...</td>\n      <td>...</td>\n      <td>...</td>\n      <td>...</td>\n    </tr>\n    <tr>\n      <th>48791</th>\n      <td>26257WBC491B485G</td>\n      <td>2016-06-26</td>\n      <td>0CKXQG65KL4VB36V</td>\n      <td>DLFJ5YHTE0AC2LJW</td>\n      <td>2016-06-29 12:00:00+00:00</td>\n      <td>['David Paulson']</td>\n      <td>38.0</td>\n      <td>Lunch</td>\n      <td>False</td>\n    </tr>\n    <tr>\n      <th>49250</th>\n      <td>2W2D6LF7VOCRP3FG</td>\n      <td>2018-06-09</td>\n      <td>46OEUQ4TU1GJ1XVZ</td>\n      <td>C23HH5U2BDE1KCAQ</td>\n      <td>2018-06-10 20:00:00+00:00</td>\n      <td>['David Jennings']</td>\n      <td>424.0</td>\n      <td>Dinner</td>\n      <td>False</td>\n    </tr>\n    <tr>\n      <th>49252</th>\n      <td>AN515VI9698QLGD0</td>\n      <td>2014-02-26</td>\n      <td>H3Q6NTNJF8J9H3MH</td>\n      <td>C23HH5U2BDE1KCAQ</td>\n      <td>2014-02-27 07:00:00+00:00</td>\n      <td>['David Jennings' 'Steven Fletcher' 'Gregory G...</td>\n      <td>323.0</td>\n      <td>Breakfast</td>\n      <td>False</td>\n    </tr>\n    <tr>\n      <th>49254</th>\n      <td>0QO2OHN3M6L5JWR8</td>\n      <td>2016-05-18</td>\n      <td>FFBS79RPBULQ0VYS</td>\n      <td>C23HH5U2BDE1KCAQ</td>\n      <td>2016-05-17 20:00:00+00:00</td>\n      <td>['Megan Wilcox' 'David Jennings']</td>\n      <td>176.0</td>\n      <td>Dinner</td>\n      <td>False</td>\n    </tr>\n  </tbody>\n</table>\n<p>1009 rows × 9 columns</p>\n</div>"
     },
     "metadata": {},
     "output_type": "execute_result",
     "execution_count": 59
    }
   ],
   "source": [
    "invoices[invoices['Participants'].str.contains('David')]"
   ],
   "metadata": {
    "collapsed": false,
    "pycharm": {
     "name": "#%%\n",
     "is_executing": false
    }
   }
  },
  {
   "cell_type": "code",
   "execution_count": 60,
   "outputs": [
    {
     "data": {
      "text/plain": "False"
     },
     "metadata": {},
     "output_type": "execute_result",
     "execution_count": 60
    }
   ],
   "source": [
    "invoices['Type of Meal'].cat.ordered"
   ],
   "metadata": {
    "collapsed": false,
    "pycharm": {
     "name": "#%%\n",
     "is_executing": false
    }
   }
  },
  {
   "cell_type": "code",
   "execution_count": 61,
   "outputs": [
    {
     "data": {
      "text/plain": "Index(['Breakfast', 'Dinner', 'Lunch'], dtype='object')"
     },
     "metadata": {},
     "output_type": "execute_result",
     "execution_count": 61
    }
   ],
   "source": [
    "invoices['Type of Meal'].cat.categories"
   ],
   "metadata": {
    "collapsed": false,
    "pycharm": {
     "name": "#%%\n",
     "is_executing": false
    }
   }
  },
  {
   "cell_type": "code",
   "execution_count": 62,
   "outputs": [
    {
     "data": {
      "text/plain": "0        0\n1        1\n2        2\n3        1\n        ..\n50013    0\n50014    1\n50015    1\n50016    2\nLength: 50017, dtype: int8"
     },
     "metadata": {},
     "output_type": "execute_result",
     "execution_count": 62
    }
   ],
   "source": [
    "invoices['Type of Meal'].cat.codes"
   ],
   "metadata": {
    "collapsed": false,
    "pycharm": {
     "name": "#%%\n",
     "is_executing": false
    }
   }
  },
  {
   "cell_type": "code",
   "execution_count": null,
   "outputs": [],
   "source": [
    "invoices['Type of Meal'].cat\n"
   ],
   "metadata": {
    "collapsed": false,
    "pycharm": {
     "name": "#%%\n"
    }
   }
  }
 ],
 "metadata": {
  "kernelspec": {
   "name": "pycharm-6274b329",
   "language": "python",
   "display_name": "PyCharm (data_analysis_basics)"
  },
  "language_info": {
   "codemirror_mode": {
    "name": "ipython",
    "version": 2
   },
   "file_extension": ".py",
   "mimetype": "text/x-python",
   "name": "python",
   "nbconvert_exporter": "python",
   "pygments_lexer": "ipython2",
   "version": "2.7.6"
  },
  "pycharm": {
   "stem_cell": {
    "cell_type": "raw",
    "source": [],
    "metadata": {
     "collapsed": false
    }
   }
  }
 },
 "nbformat": 4,
 "nbformat_minor": 0
}