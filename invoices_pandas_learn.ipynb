{
 "cells": [
  {
   "cell_type": "code",
   "execution_count": 12,
   "metadata": {
    "collapsed": true
   },
   "outputs": [],
   "source": [
    "import pandas as pd\n",
    "import numpy as np\n",
    "import datetime\n",
    "import pytz"
   ]
  },
  {
   "cell_type": "code",
   "execution_count": 13,
   "outputs": [],
   "source": [
    "file=r'D:\\Programing\\python_projects\\data_analysis_basics\\data_set\\invoices.csv'\n",
    "invoices=pd.read_csv(file)"
   ],
   "metadata": {
    "collapsed": false,
    "pycharm": {
     "name": "#%%\n"
    }
   }
  },
  {
   "cell_type": "code",
   "execution_count": 14,
   "outputs": [
    {
     "data": {
      "text/plain": "           Order Id        Date           Meal Id        Company Id  \\\n0  839FKFW2LLX4LMBB  2016-05-27  INBUX904GIHI8YBD  LJKS5NK6788CYMUU   \n1  97OX39BGVMHODLJM  2018-09-27  J0MMOOPP709DIDIE  LJKS5NK6788CYMUU   \n2  041ORQM5OIHTIU6L  2014-08-24  E4UJLQNCI16UX5CS  LJKS5NK6788CYMUU   \n3  YT796QI18WNGZ7ZJ  2014-04-12  C9SDFHF7553BE247  LJKS5NK6788CYMUU   \n4  6YLROQT27B6HRF4E  2015-07-28  48EQXS6IHYNZDDZ5  LJKS5NK6788CYMUU   \n\n                Date of Meal                       Participants  Meal Price  \\\n0  2016-05-31 07:00:00+02:00                   ['David Bishop']       469.0   \n1  2018-10-01 20:00:00+02:00                   ['David Bishop']        22.0   \n2  2014-08-23 14:00:00+02:00                 ['Karen Stansell']       314.0   \n3  2014-04-07 21:00:00+02:00                   ['Addie Patino']       438.0   \n4  2015-07-27 14:00:00+02:00  ['Addie Patino' 'Susan Guerrero']       690.0   \n\n  Type of Meal  Heroes Adjustment  \n0    Breakfast              False  \n1       Dinner              False  \n2        Lunch              False  \n3       Dinner              False  \n4        Lunch              False  ",
      "text/html": "<div>\n<style scoped>\n    .dataframe tbody tr th:only-of-type {\n        vertical-align: middle;\n    }\n\n    .dataframe tbody tr th {\n        vertical-align: top;\n    }\n\n    .dataframe thead th {\n        text-align: right;\n    }\n</style>\n<table border=\"1\" class=\"dataframe\">\n  <thead>\n    <tr style=\"text-align: right;\">\n      <th></th>\n      <th>Order Id</th>\n      <th>Date</th>\n      <th>Meal Id</th>\n      <th>Company Id</th>\n      <th>Date of Meal</th>\n      <th>Participants</th>\n      <th>Meal Price</th>\n      <th>Type of Meal</th>\n      <th>Heroes Adjustment</th>\n    </tr>\n  </thead>\n  <tbody>\n    <tr>\n      <th>0</th>\n      <td>839FKFW2LLX4LMBB</td>\n      <td>2016-05-27</td>\n      <td>INBUX904GIHI8YBD</td>\n      <td>LJKS5NK6788CYMUU</td>\n      <td>2016-05-31 07:00:00+02:00</td>\n      <td>['David Bishop']</td>\n      <td>469.0</td>\n      <td>Breakfast</td>\n      <td>False</td>\n    </tr>\n    <tr>\n      <th>1</th>\n      <td>97OX39BGVMHODLJM</td>\n      <td>2018-09-27</td>\n      <td>J0MMOOPP709DIDIE</td>\n      <td>LJKS5NK6788CYMUU</td>\n      <td>2018-10-01 20:00:00+02:00</td>\n      <td>['David Bishop']</td>\n      <td>22.0</td>\n      <td>Dinner</td>\n      <td>False</td>\n    </tr>\n    <tr>\n      <th>2</th>\n      <td>041ORQM5OIHTIU6L</td>\n      <td>2014-08-24</td>\n      <td>E4UJLQNCI16UX5CS</td>\n      <td>LJKS5NK6788CYMUU</td>\n      <td>2014-08-23 14:00:00+02:00</td>\n      <td>['Karen Stansell']</td>\n      <td>314.0</td>\n      <td>Lunch</td>\n      <td>False</td>\n    </tr>\n    <tr>\n      <th>3</th>\n      <td>YT796QI18WNGZ7ZJ</td>\n      <td>2014-04-12</td>\n      <td>C9SDFHF7553BE247</td>\n      <td>LJKS5NK6788CYMUU</td>\n      <td>2014-04-07 21:00:00+02:00</td>\n      <td>['Addie Patino']</td>\n      <td>438.0</td>\n      <td>Dinner</td>\n      <td>False</td>\n    </tr>\n    <tr>\n      <th>4</th>\n      <td>6YLROQT27B6HRF4E</td>\n      <td>2015-07-28</td>\n      <td>48EQXS6IHYNZDDZ5</td>\n      <td>LJKS5NK6788CYMUU</td>\n      <td>2015-07-27 14:00:00+02:00</td>\n      <td>['Addie Patino' 'Susan Guerrero']</td>\n      <td>690.0</td>\n      <td>Lunch</td>\n      <td>False</td>\n    </tr>\n  </tbody>\n</table>\n</div>"
     },
     "execution_count": 14,
     "metadata": {},
     "output_type": "execute_result"
    }
   ],
   "source": [
    "invoices.head(5)"
   ],
   "metadata": {
    "collapsed": false,
    "pycharm": {
     "name": "#%%\n"
    }
   }
  },
  {
   "cell_type": "code",
   "execution_count": 15,
   "outputs": [
    {
     "name": "stdout",
     "output_type": "stream",
     "text": [
      "<class 'pandas.core.frame.DataFrame'>\n",
      "RangeIndex: 50017 entries, 0 to 50016\n",
      "Data columns (total 9 columns):\n",
      "Order Id             50017 non-null object\n",
      "Date                 50017 non-null object\n",
      "Meal Id              50017 non-null object\n",
      "Company Id           50017 non-null object\n",
      "Date of Meal         50017 non-null object\n",
      "Participants         50017 non-null object\n",
      "Meal Price           50017 non-null float64\n",
      "Type of Meal         50017 non-null object\n",
      "Heroes Adjustment    50017 non-null bool\n",
      "dtypes: bool(1), float64(1), object(7)\n",
      "memory usage: 3.1+ MB\n"
     ]
    }
   ],
   "source": [
    "invoices.info()"
   ],
   "metadata": {
    "collapsed": false,
    "pycharm": {
     "name": "#%%\n"
    }
   }
  },
  {
   "cell_type": "code",
   "execution_count": 16,
   "outputs": [],
   "source": [
    "invoices['Type of Meal']=invoices['Type of Meal'].astype('category')"
   ],
   "metadata": {
    "collapsed": false,
    "pycharm": {
     "name": "#%%\n"
    }
   }
  },
  {
   "cell_type": "code",
   "execution_count": 17,
   "outputs": [],
   "source": [
    "invoices['Date']=invoices['Date'].astype('datetime64[ns]')"
   ],
   "metadata": {
    "collapsed": false,
    "pycharm": {
     "name": "#%%\n"
    }
   }
  },
  {
   "cell_type": "code",
   "execution_count": 18,
   "outputs": [],
   "source": [
    "invoices['Meal Price']=invoices['Meal Price'].astype('int')"
   ],
   "metadata": {
    "collapsed": false,
    "pycharm": {
     "name": "#%%\n"
    }
   }
  },
  {
   "cell_type": "code",
   "execution_count": 19,
   "outputs": [
    {
     "name": "stdout",
     "output_type": "stream",
     "text": [
      "<class 'pandas.core.frame.DataFrame'>\n",
      "RangeIndex: 50017 entries, 0 to 50016\n",
      "Data columns (total 9 columns):\n",
      "Order Id             50017 non-null object\n",
      "Date                 50017 non-null datetime64[ns]\n",
      "Meal Id              50017 non-null object\n",
      "Company Id           50017 non-null object\n",
      "Date of Meal         50017 non-null object\n",
      "Participants         50017 non-null object\n",
      "Meal Price           50017 non-null int32\n",
      "Type of Meal         50017 non-null category\n",
      "Heroes Adjustment    50017 non-null bool\n",
      "dtypes: bool(1), category(1), datetime64[ns](1), int32(1), object(5)\n",
      "memory usage: 2.6+ MB\n"
     ]
    }
   ],
   "source": [
    "invoices.info()"
   ],
   "metadata": {
    "collapsed": false,
    "pycharm": {
     "name": "#%%\n"
    }
   }
  },
  {
   "cell_type": "code",
   "execution_count": 20,
   "outputs": [],
   "source": [
    "# invoices.loc[12345, 'Meal Price']='hello'"
   ],
   "metadata": {
    "collapsed": false,
    "pycharm": {
     "name": "#%%\n"
    }
   }
  },
  {
   "cell_type": "code",
   "execution_count": 21,
   "outputs": [
    {
     "data": {
      "text/plain": "0        469\n1         22\n2        314\n3        438\n4        690\n        ... \n50012      9\n50013     25\n50014    160\n50015    497\n50016    365\nName: Meal Price, Length: 50017, dtype: int32"
     },
     "execution_count": 21,
     "metadata": {},
     "output_type": "execute_result"
    }
   ],
   "source": [
    "invoices['Meal Price'].astype('int')"
   ],
   "metadata": {
    "collapsed": false,
    "pycharm": {
     "name": "#%%\n"
    }
   }
  },
  {
   "cell_type": "code",
   "execution_count": 22,
   "outputs": [
    {
     "data": {
      "text/plain": "<class 'int'>    50017\nName: Meal Price, dtype: int64"
     },
     "execution_count": 22,
     "metadata": {},
     "output_type": "execute_result"
    }
   ],
   "source": [
    "invoices['Meal Price'].apply(lambda x: type(x)).value_counts()"
   ],
   "metadata": {
    "collapsed": false,
    "pycharm": {
     "name": "#%%\n"
    }
   }
  },
  {
   "cell_type": "code",
   "execution_count": 23,
   "outputs": [
    {
     "data": {
      "text/plain": "0        469\n1         22\n2        314\n3        438\n4        690\n        ... \n50012      9\n50013     25\n50014    160\n50015    497\n50016    365\nName: Meal Price, Length: 50017, dtype: int32"
     },
     "execution_count": 23,
     "metadata": {},
     "output_type": "execute_result"
    }
   ],
   "source": [
    "pd.to_numeric(invoices['Meal Price'], errors='ignore')"
   ],
   "metadata": {
    "collapsed": false,
    "pycharm": {
     "name": "#%%\n"
    }
   }
  },
  {
   "cell_type": "code",
   "execution_count": 24,
   "outputs": [],
   "source": [
    "invoices['Meal Price']=pd.to_numeric(invoices['Meal Price'], errors='coerce')"
   ],
   "metadata": {
    "collapsed": false,
    "pycharm": {
     "name": "#%%\n"
    }
   }
  },
  {
   "cell_type": "code",
   "execution_count": 25,
   "outputs": [
    {
     "data": {
      "text/plain": "Order Id                                              SJ3BBH2NXTGG787M\nDate                                               2015-02-13 00:00:00\nMeal Id                                               2NMCOP5D1L72U1DY\nCompany Id                                            FR2HKQ4OYXNW5NE6\nDate of Meal                                 2015-02-16 07:00:00+01:00\nParticipants         ['Chris Crosson' 'Martin Smith' 'Derrick Fuller']\nMeal Price                                                         296\nType of Meal                                                 Breakfast\nHeroes Adjustment                                                False\nName: 12345, dtype: object"
     },
     "execution_count": 25,
     "metadata": {},
     "output_type": "execute_result"
    }
   ],
   "source": [
    "invoices.loc[12345]"
   ],
   "metadata": {
    "collapsed": false,
    "pycharm": {
     "name": "#%%\n"
    }
   }
  },
  {
   "cell_type": "code",
   "execution_count": 26,
   "outputs": [],
   "source": [
    "invoices['Meal Price']=invoices['Meal Price'].fillna(invoices['Meal Price'].median())"
   ],
   "metadata": {
    "collapsed": false,
    "pycharm": {
     "name": "#%%\n"
    }
   }
  },
  {
   "cell_type": "code",
   "execution_count": 27,
   "outputs": [
    {
     "data": {
      "text/plain": "398.0"
     },
     "execution_count": 27,
     "metadata": {},
     "output_type": "execute_result"
    }
   ],
   "source": [
    "invoices['Meal Price'].median()"
   ],
   "metadata": {
    "collapsed": false,
    "pycharm": {
     "name": "#%%\n"
    }
   }
  },
  {
   "cell_type": "code",
   "execution_count": 28,
   "outputs": [
    {
     "data": {
      "text/plain": "Order Id                                              SJ3BBH2NXTGG787M\nDate                                               2015-02-13 00:00:00\nMeal Id                                               2NMCOP5D1L72U1DY\nCompany Id                                            FR2HKQ4OYXNW5NE6\nDate of Meal                                 2015-02-16 07:00:00+01:00\nParticipants         ['Chris Crosson' 'Martin Smith' 'Derrick Fuller']\nMeal Price                                                         296\nType of Meal                                                 Breakfast\nHeroes Adjustment                                                False\nName: 12345, dtype: object"
     },
     "execution_count": 28,
     "metadata": {},
     "output_type": "execute_result"
    }
   ],
   "source": [
    "invoices.loc[12345]"
   ],
   "metadata": {
    "collapsed": false,
    "pycharm": {
     "name": "#%%\n"
    }
   }
  },
  {
   "cell_type": "code",
   "execution_count": 29,
   "outputs": [
    {
     "name": "stdout",
     "output_type": "stream",
     "text": [
      "2019-12-25 00:00:00\n"
     ]
    }
   ],
   "source": [
    "print(pd.to_datetime('2019-12-25'))"
   ],
   "metadata": {
    "collapsed": false,
    "pycharm": {
     "name": "#%%\n"
    }
   }
  },
  {
   "cell_type": "code",
   "execution_count": 30,
   "outputs": [
    {
     "name": "stdout",
     "output_type": "stream",
     "text": [
      "2019-09-18 00:00:00\n",
      "2019-09-18 00:00:00\n",
      "2019-09-18 00:00:00\n",
      "2019-09-18 00:00:00\n",
      "2019-09-18 00:00:00\n",
      "2019-09-18 00:00:00\n",
      "2019-09-18 00:00:00\n",
      "2019-09-18 00:00:00\n"
     ]
    }
   ],
   "source": [
    "print(pd.to_datetime('2019/9/18'))\n",
    "print(pd.to_datetime('9/18/2019'))\n",
    "print(pd.to_datetime('Sep, 18 2019'))\n",
    "print(pd.to_datetime('September, 18 2019'))\n",
    "print(pd.to_datetime('Sep - 18 2019'))\n",
    "print(pd.to_datetime('2019, September -18'))\n",
    "print(pd.to_datetime('20190918'))\n",
    "print(pd.to_datetime('20191809', format='%Y%d%m'))"
   ],
   "metadata": {
    "collapsed": false,
    "pycharm": {
     "name": "#%%\n"
    }
   }
  },
  {
   "cell_type": "code",
   "execution_count": 31,
   "outputs": [
    {
     "name": "stdout",
     "output_type": "stream",
     "text": [
      "2019-09-18 00:00:00\n"
     ]
    }
   ],
   "source": [
    "print(pd.to_datetime('yoyo 20191809', format='%Y%d%m', exact=False))"
   ],
   "metadata": {
    "collapsed": false,
    "pycharm": {
     "name": "#%%\n"
    }
   }
  },
  {
   "cell_type": "code",
   "execution_count": 32,
   "outputs": [],
   "source": [
    "invoices['Date of Meal']=pd.to_datetime(invoices['Date of Meal'], utc=True)"
   ],
   "metadata": {
    "collapsed": false,
    "pycharm": {
     "name": "#%%\n"
    }
   }
  },
  {
   "cell_type": "code",
   "execution_count": 33,
   "outputs": [
    {
     "data": {
      "text/plain": "           Order Id       Date           Meal Id        Company Id  \\\n0  839FKFW2LLX4LMBB 2016-05-27  INBUX904GIHI8YBD  LJKS5NK6788CYMUU   \n1  97OX39BGVMHODLJM 2018-09-27  J0MMOOPP709DIDIE  LJKS5NK6788CYMUU   \n2  041ORQM5OIHTIU6L 2014-08-24  E4UJLQNCI16UX5CS  LJKS5NK6788CYMUU   \n3  YT796QI18WNGZ7ZJ 2014-04-12  C9SDFHF7553BE247  LJKS5NK6788CYMUU   \n4  6YLROQT27B6HRF4E 2015-07-28  48EQXS6IHYNZDDZ5  LJKS5NK6788CYMUU   \n\n               Date of Meal                       Participants  Meal Price  \\\n0 2016-05-31 05:00:00+00:00                   ['David Bishop']         469   \n1 2018-10-01 18:00:00+00:00                   ['David Bishop']          22   \n2 2014-08-23 12:00:00+00:00                 ['Karen Stansell']         314   \n3 2014-04-07 19:00:00+00:00                   ['Addie Patino']         438   \n4 2015-07-27 12:00:00+00:00  ['Addie Patino' 'Susan Guerrero']         690   \n\n  Type of Meal  Heroes Adjustment  \n0    Breakfast              False  \n1       Dinner              False  \n2        Lunch              False  \n3       Dinner              False  \n4        Lunch              False  ",
      "text/html": "<div>\n<style scoped>\n    .dataframe tbody tr th:only-of-type {\n        vertical-align: middle;\n    }\n\n    .dataframe tbody tr th {\n        vertical-align: top;\n    }\n\n    .dataframe thead th {\n        text-align: right;\n    }\n</style>\n<table border=\"1\" class=\"dataframe\">\n  <thead>\n    <tr style=\"text-align: right;\">\n      <th></th>\n      <th>Order Id</th>\n      <th>Date</th>\n      <th>Meal Id</th>\n      <th>Company Id</th>\n      <th>Date of Meal</th>\n      <th>Participants</th>\n      <th>Meal Price</th>\n      <th>Type of Meal</th>\n      <th>Heroes Adjustment</th>\n    </tr>\n  </thead>\n  <tbody>\n    <tr>\n      <th>0</th>\n      <td>839FKFW2LLX4LMBB</td>\n      <td>2016-05-27</td>\n      <td>INBUX904GIHI8YBD</td>\n      <td>LJKS5NK6788CYMUU</td>\n      <td>2016-05-31 05:00:00+00:00</td>\n      <td>['David Bishop']</td>\n      <td>469</td>\n      <td>Breakfast</td>\n      <td>False</td>\n    </tr>\n    <tr>\n      <th>1</th>\n      <td>97OX39BGVMHODLJM</td>\n      <td>2018-09-27</td>\n      <td>J0MMOOPP709DIDIE</td>\n      <td>LJKS5NK6788CYMUU</td>\n      <td>2018-10-01 18:00:00+00:00</td>\n      <td>['David Bishop']</td>\n      <td>22</td>\n      <td>Dinner</td>\n      <td>False</td>\n    </tr>\n    <tr>\n      <th>2</th>\n      <td>041ORQM5OIHTIU6L</td>\n      <td>2014-08-24</td>\n      <td>E4UJLQNCI16UX5CS</td>\n      <td>LJKS5NK6788CYMUU</td>\n      <td>2014-08-23 12:00:00+00:00</td>\n      <td>['Karen Stansell']</td>\n      <td>314</td>\n      <td>Lunch</td>\n      <td>False</td>\n    </tr>\n    <tr>\n      <th>3</th>\n      <td>YT796QI18WNGZ7ZJ</td>\n      <td>2014-04-12</td>\n      <td>C9SDFHF7553BE247</td>\n      <td>LJKS5NK6788CYMUU</td>\n      <td>2014-04-07 19:00:00+00:00</td>\n      <td>['Addie Patino']</td>\n      <td>438</td>\n      <td>Dinner</td>\n      <td>False</td>\n    </tr>\n    <tr>\n      <th>4</th>\n      <td>6YLROQT27B6HRF4E</td>\n      <td>2015-07-28</td>\n      <td>48EQXS6IHYNZDDZ5</td>\n      <td>LJKS5NK6788CYMUU</td>\n      <td>2015-07-27 12:00:00+00:00</td>\n      <td>['Addie Patino' 'Susan Guerrero']</td>\n      <td>690</td>\n      <td>Lunch</td>\n      <td>False</td>\n    </tr>\n  </tbody>\n</table>\n</div>"
     },
     "execution_count": 33,
     "metadata": {},
     "output_type": "execute_result"
    }
   ],
   "source": [
    "invoices.head(5)"
   ],
   "metadata": {
    "collapsed": false,
    "pycharm": {
     "name": "#%%\n"
    }
   }
  },
  {
   "cell_type": "code",
   "execution_count": 34,
   "outputs": [],
   "source": [
    "# 设定结果显示多少行\n",
    "pd.set_option('display.max_rows', 8)"
   ],
   "metadata": {
    "collapsed": false,
    "pycharm": {
     "name": "#%%\n"
    }
   }
  },
  {
   "cell_type": "code",
   "execution_count": 35,
   "outputs": [
    {
     "data": {
      "text/plain": "0        2016-05-31\n1        2018-10-01\n2        2014-08-23\n3        2014-04-07\n            ...    \n50013    2018-03-18\n50014    2017-09-22\n50015    2018-02-01\n50016    2017-09-09\nName: Date of Meal, Length: 50017, dtype: object"
     },
     "execution_count": 35,
     "metadata": {},
     "output_type": "execute_result"
    }
   ],
   "source": [
    "invoices['Date of Meal'].dt.date"
   ],
   "metadata": {
    "collapsed": false,
    "pycharm": {
     "name": "#%%\n"
    }
   }
  },
  {
   "cell_type": "code",
   "execution_count": 36,
   "outputs": [
    {
     "data": {
      "text/plain": "0         5\n1        10\n2         8\n3         4\n         ..\n50013     3\n50014     9\n50015     2\n50016     9\nName: Date of Meal, Length: 50017, dtype: int64"
     },
     "execution_count": 36,
     "metadata": {},
     "output_type": "execute_result"
    }
   ],
   "source": [
    "invoices['Date of Meal'].dt.month"
   ],
   "metadata": {
    "collapsed": false,
    "pycharm": {
     "name": "#%%\n"
    }
   }
  },
  {
   "cell_type": "code",
   "execution_count": 37,
   "outputs": [
    {
     "data": {
      "text/plain": "0         Tuesday\n1          Monday\n2        Saturday\n3          Monday\n           ...   \n50013      Sunday\n50014      Friday\n50015    Thursday\n50016    Saturday\nName: Date of Meal, Length: 50017, dtype: object"
     },
     "execution_count": 37,
     "metadata": {},
     "output_type": "execute_result"
    }
   ],
   "source": [
    "invoices['Date of Meal'].dt.weekday_name"
   ],
   "metadata": {
    "collapsed": false,
    "pycharm": {
     "name": "#%%\n"
    }
   }
  },
  {
   "cell_type": "code",
   "execution_count": 38,
   "outputs": [
    {
     "data": {
      "text/plain": "0        31\n1         1\n2        23\n3         7\n         ..\n50013    18\n50014    22\n50015     1\n50016     9\nName: Date of Meal, Length: 50017, dtype: int64"
     },
     "execution_count": 38,
     "metadata": {},
     "output_type": "execute_result"
    }
   ],
   "source": [
    "invoices['Date of Meal'].dt.day"
   ],
   "metadata": {
    "collapsed": false,
    "pycharm": {
     "name": "#%%\n"
    }
   }
  },
  {
   "cell_type": "code",
   "execution_count": 39,
   "outputs": [
    {
     "data": {
      "text/plain": "0        2\n1        4\n2        3\n3        2\n        ..\n50013    1\n50014    3\n50015    1\n50016    3\nName: Date of Meal, Length: 50017, dtype: int64"
     },
     "execution_count": 39,
     "metadata": {},
     "output_type": "execute_result"
    }
   ],
   "source": [
    "invoices['Date of Meal'].dt.quarter"
   ],
   "metadata": {
    "collapsed": false,
    "pycharm": {
     "name": "#%%\n"
    }
   }
  },
  {
   "cell_type": "code",
   "execution_count": 40,
   "outputs": [
    {
     "data": {
      "text/plain": "0        22\n1        40\n2        34\n3        15\n         ..\n50013    11\n50014    38\n50015     5\n50016    36\nName: Date of Meal, Length: 50017, dtype: int64"
     },
     "execution_count": 40,
     "metadata": {},
     "output_type": "execute_result"
    }
   ],
   "source": [
    "invoices['Date of Meal'].dt.week"
   ],
   "metadata": {
    "collapsed": false,
    "pycharm": {
     "name": "#%%\n"
    }
   }
  },
  {
   "cell_type": "code",
   "execution_count": 41,
   "outputs": [
    {
     "data": {
      "text/plain": "               Order Id       Date           Meal Id        Company Id  \\\n0      839FKFW2LLX4LMBB 2016-05-27  INBUX904GIHI8YBD  LJKS5NK6788CYMUU   \n6      2DDN2LHS7G85GKPQ 2014-04-29  1MKLAKBOE3SP7YUL  LJKS5NK6788CYMUU   \n127    IFWFCKR8TRAGCLSN 2015-09-03  KP72EIIXT3D2D3YX  TAW7IY2L2IKUCCGC   \n199    R5RROQZEHSVU7JWT 2014-06-02  BAZRFTKXVH12H4L0  W2X6NP1JBOKWCO33   \n...                 ...        ...               ...               ...   \n49840  H3JAY96W61R8R4TL 2016-05-29  6LGP15E0XZLBRGHB  2UTFJU7Q3VWNMJ00   \n49865  68I4K85G0WR7047R 2014-11-26  4R0TOJ9ENQ65VPE9  3OE3X93CX3TNVHLA   \n49896  G3FX5EAE2VCUFELA 2016-03-05  SZ1UUTPDNW3FCIFF  CZTLKWWDEHQ0GW0I   \n49929  HEGJLUD58BTP2CC3 2016-02-04  C18IITWW7K615G21  DNAC0XNVYCD3J62R   \n\n                   Date of Meal                         Participants  \\\n0     2016-05-31 05:00:00+00:00                     ['David Bishop']   \n6     2014-04-30 19:00:00+00:00    ['Susan Guerrero' 'David Bishop']   \n127   2015-08-31 18:00:00+00:00                       ['Tina Jones']   \n199   2014-05-31 06:00:00+00:00                   ['Brandon Rivera']   \n...                         ...                                  ...   \n49840 2016-05-31 11:00:00+00:00  ['Earnestine Mckeeman' 'Sid Brown']   \n49865 2014-11-30 21:00:00+00:00                 ['Jeffrey Phillips']   \n49896 2016-02-29 07:00:00+00:00                 ['Olga Fortenberry']   \n49929 2016-01-31 21:00:00+00:00                     ['Linda Torros']   \n\n       Meal Price Type of Meal  Heroes Adjustment  \n0             469    Breakfast              False  \n6              14       Dinner              False  \n127           385       Dinner              False  \n199           468    Breakfast              False  \n...           ...          ...                ...  \n49840         248        Lunch              False  \n49865         491       Dinner              False  \n49896         288    Breakfast              False  \n49929         331       Dinner              False  \n\n[1573 rows x 9 columns]",
      "text/html": "<div>\n<style scoped>\n    .dataframe tbody tr th:only-of-type {\n        vertical-align: middle;\n    }\n\n    .dataframe tbody tr th {\n        vertical-align: top;\n    }\n\n    .dataframe thead th {\n        text-align: right;\n    }\n</style>\n<table border=\"1\" class=\"dataframe\">\n  <thead>\n    <tr style=\"text-align: right;\">\n      <th></th>\n      <th>Order Id</th>\n      <th>Date</th>\n      <th>Meal Id</th>\n      <th>Company Id</th>\n      <th>Date of Meal</th>\n      <th>Participants</th>\n      <th>Meal Price</th>\n      <th>Type of Meal</th>\n      <th>Heroes Adjustment</th>\n    </tr>\n  </thead>\n  <tbody>\n    <tr>\n      <th>0</th>\n      <td>839FKFW2LLX4LMBB</td>\n      <td>2016-05-27</td>\n      <td>INBUX904GIHI8YBD</td>\n      <td>LJKS5NK6788CYMUU</td>\n      <td>2016-05-31 05:00:00+00:00</td>\n      <td>['David Bishop']</td>\n      <td>469</td>\n      <td>Breakfast</td>\n      <td>False</td>\n    </tr>\n    <tr>\n      <th>6</th>\n      <td>2DDN2LHS7G85GKPQ</td>\n      <td>2014-04-29</td>\n      <td>1MKLAKBOE3SP7YUL</td>\n      <td>LJKS5NK6788CYMUU</td>\n      <td>2014-04-30 19:00:00+00:00</td>\n      <td>['Susan Guerrero' 'David Bishop']</td>\n      <td>14</td>\n      <td>Dinner</td>\n      <td>False</td>\n    </tr>\n    <tr>\n      <th>127</th>\n      <td>IFWFCKR8TRAGCLSN</td>\n      <td>2015-09-03</td>\n      <td>KP72EIIXT3D2D3YX</td>\n      <td>TAW7IY2L2IKUCCGC</td>\n      <td>2015-08-31 18:00:00+00:00</td>\n      <td>['Tina Jones']</td>\n      <td>385</td>\n      <td>Dinner</td>\n      <td>False</td>\n    </tr>\n    <tr>\n      <th>199</th>\n      <td>R5RROQZEHSVU7JWT</td>\n      <td>2014-06-02</td>\n      <td>BAZRFTKXVH12H4L0</td>\n      <td>W2X6NP1JBOKWCO33</td>\n      <td>2014-05-31 06:00:00+00:00</td>\n      <td>['Brandon Rivera']</td>\n      <td>468</td>\n      <td>Breakfast</td>\n      <td>False</td>\n    </tr>\n    <tr>\n      <th>...</th>\n      <td>...</td>\n      <td>...</td>\n      <td>...</td>\n      <td>...</td>\n      <td>...</td>\n      <td>...</td>\n      <td>...</td>\n      <td>...</td>\n      <td>...</td>\n    </tr>\n    <tr>\n      <th>49840</th>\n      <td>H3JAY96W61R8R4TL</td>\n      <td>2016-05-29</td>\n      <td>6LGP15E0XZLBRGHB</td>\n      <td>2UTFJU7Q3VWNMJ00</td>\n      <td>2016-05-31 11:00:00+00:00</td>\n      <td>['Earnestine Mckeeman' 'Sid Brown']</td>\n      <td>248</td>\n      <td>Lunch</td>\n      <td>False</td>\n    </tr>\n    <tr>\n      <th>49865</th>\n      <td>68I4K85G0WR7047R</td>\n      <td>2014-11-26</td>\n      <td>4R0TOJ9ENQ65VPE9</td>\n      <td>3OE3X93CX3TNVHLA</td>\n      <td>2014-11-30 21:00:00+00:00</td>\n      <td>['Jeffrey Phillips']</td>\n      <td>491</td>\n      <td>Dinner</td>\n      <td>False</td>\n    </tr>\n    <tr>\n      <th>49896</th>\n      <td>G3FX5EAE2VCUFELA</td>\n      <td>2016-03-05</td>\n      <td>SZ1UUTPDNW3FCIFF</td>\n      <td>CZTLKWWDEHQ0GW0I</td>\n      <td>2016-02-29 07:00:00+00:00</td>\n      <td>['Olga Fortenberry']</td>\n      <td>288</td>\n      <td>Breakfast</td>\n      <td>False</td>\n    </tr>\n    <tr>\n      <th>49929</th>\n      <td>HEGJLUD58BTP2CC3</td>\n      <td>2016-02-04</td>\n      <td>C18IITWW7K615G21</td>\n      <td>DNAC0XNVYCD3J62R</td>\n      <td>2016-01-31 21:00:00+00:00</td>\n      <td>['Linda Torros']</td>\n      <td>331</td>\n      <td>Dinner</td>\n      <td>False</td>\n    </tr>\n  </tbody>\n</table>\n<p>1573 rows × 9 columns</p>\n</div>"
     },
     "execution_count": 41,
     "metadata": {},
     "output_type": "execute_result"
    }
   ],
   "source": [
    "invoices[invoices['Date of Meal'].dt.is_month_end]"
   ],
   "metadata": {
    "collapsed": false,
    "pycharm": {
     "name": "#%%\n"
    }
   }
  },
  {
   "cell_type": "code",
   "execution_count": 42,
   "outputs": [
    {
     "data": {
      "text/plain": "0        0\n1        0\n2        0\n3        0\n        ..\n50013    0\n50014    0\n50015    0\n50016    0\nName: Date of Meal, Length: 50017, dtype: int64"
     },
     "execution_count": 42,
     "metadata": {},
     "output_type": "execute_result"
    }
   ],
   "source": [
    "invoices['Date of Meal'].dt.minute"
   ],
   "metadata": {
    "collapsed": false,
    "pycharm": {
     "name": "#%%\n"
    }
   }
  },
  {
   "cell_type": "code",
   "execution_count": 43,
   "outputs": [
    {
     "data": {
      "text/plain": "0         5\n1        18\n2        12\n3        19\n         ..\n50013     8\n50014    19\n50015    20\n50016    12\nName: Date of Meal, Length: 50017, dtype: int64"
     },
     "execution_count": 43,
     "metadata": {},
     "output_type": "execute_result"
    }
   ],
   "source": [
    "invoices['Date of Meal'].dt.hour"
   ],
   "metadata": {
    "collapsed": false,
    "pycharm": {
     "name": "#%%\n"
    }
   }
  },
  {
   "cell_type": "code",
   "execution_count": 44,
   "outputs": [
    {
     "data": {
      "text/plain": "0        breakfast\n1           dinner\n2            lunch\n3           dinner\n           ...    \n50013    breakfast\n50014       dinner\n50015       dinner\n50016        lunch\nName: Type of Meal, Length: 50017, dtype: object"
     },
     "execution_count": 44,
     "metadata": {},
     "output_type": "execute_result"
    }
   ],
   "source": [
    "invoices['Type of Meal'].str.lower()"
   ],
   "metadata": {
    "collapsed": false,
    "pycharm": {
     "name": "#%%\n"
    }
   }
  },
  {
   "cell_type": "code",
   "execution_count": 45,
   "outputs": [
    {
     "data": {
      "text/plain": "0        BREAKFAST\n1           DINNER\n2            LUNCH\n3           DINNER\n           ...    \n50013    BREAKFAST\n50014       DINNER\n50015       DINNER\n50016        LUNCH\nName: Type of Meal, Length: 50017, dtype: object"
     },
     "execution_count": 45,
     "metadata": {},
     "output_type": "execute_result"
    }
   ],
   "source": [
    "invoices['Type of Meal'].str.upper()"
   ],
   "metadata": {
    "collapsed": false,
    "pycharm": {
     "name": "#%%\n"
    }
   }
  },
  {
   "cell_type": "code",
   "execution_count": 46,
   "outputs": [
    {
     "data": {
      "text/plain": "0        Breakfast           \n1        Dinner              \n2        Lunch               \n3        Dinner              \n                 ...         \n50013    Breakfast           \n50014    Dinner              \n50015    Dinner              \n50016    Lunch               \nName: Type of Meal, Length: 50017, dtype: object"
     },
     "execution_count": 46,
     "metadata": {},
     "output_type": "execute_result"
    }
   ],
   "source": [
    "invoices['Type of Meal'].str.ljust(width=20)"
   ],
   "metadata": {
    "collapsed": false,
    "pycharm": {
     "name": "#%%\n"
    }
   }
  },
  {
   "cell_type": "code",
   "execution_count": 47,
   "outputs": [
    {
     "data": {
      "text/plain": "0             Breakfast      \n1               Dinner       \n2               Lunch        \n3               Dinner       \n                 ...         \n50013         Breakfast      \n50014           Dinner       \n50015           Dinner       \n50016           Lunch        \nName: Type of Meal, Length: 50017, dtype: object"
     },
     "execution_count": 47,
     "metadata": {},
     "output_type": "execute_result"
    }
   ],
   "source": [
    "invoices['Type of Meal'].str.center(width=20)"
   ],
   "metadata": {
    "collapsed": false,
    "pycharm": {
     "name": "#%%\n"
    }
   }
  },
  {
   "cell_type": "code",
   "execution_count": 48,
   "outputs": [
    {
     "data": {
      "text/plain": "0        00000000000Breakfast\n1        00000000000000Dinner\n2        000000000000000Lunch\n3        00000000000000Dinner\n                 ...         \n50013    00000000000Breakfast\n50014    00000000000000Dinner\n50015    00000000000000Dinner\n50016    000000000000000Lunch\nName: Type of Meal, Length: 50017, dtype: object"
     },
     "execution_count": 48,
     "metadata": {},
     "output_type": "execute_result"
    }
   ],
   "source": [
    "invoices['Type of Meal'].str.zfill(width=20)"
   ],
   "metadata": {
    "collapsed": false,
    "pycharm": {
     "name": "#%%\n"
    }
   }
  },
  {
   "cell_type": "code",
   "execution_count": 49,
   "outputs": [
    {
     "data": {
      "text/plain": "0        BreakfastBreakfastBreakfast\n1                 DinnerDinnerDinner\n2                    LunchLunchLunch\n3                 DinnerDinnerDinner\n                    ...             \n50013    BreakfastBreakfastBreakfast\n50014             DinnerDinnerDinner\n50015             DinnerDinnerDinner\n50016                LunchLunchLunch\nName: Type of Meal, Length: 50017, dtype: object"
     },
     "execution_count": 49,
     "metadata": {},
     "output_type": "execute_result"
    }
   ],
   "source": [
    "invoices['Type of Meal'].str.repeat(3)"
   ],
   "metadata": {
    "collapsed": false,
    "pycharm": {
     "name": "#%%\n"
    }
   }
  },
  {
   "cell_type": "code",
   "execution_count": 50,
   "outputs": [
    {
     "data": {
      "text/plain": "0        bREAKFAST\n1           dINNER\n2            lUNCH\n3           dINNER\n           ...    \n50013    bREAKFAST\n50014       dINNER\n50015       dINNER\n50016        lUNCH\nName: Type of Meal, Length: 50017, dtype: object"
     },
     "execution_count": 50,
     "metadata": {},
     "output_type": "execute_result"
    }
   ],
   "source": [
    "invoices['Type of Meal'].str.swapcase()"
   ],
   "metadata": {
    "collapsed": false,
    "pycharm": {
     "name": "#%%\n"
    }
   }
  },
  {
   "cell_type": "code",
   "execution_count": 51,
   "outputs": [
    {
     "data": {
      "text/plain": "               Order Id       Date           Meal Id        Company Id  \\\n2      041ORQM5OIHTIU6L 2014-08-24  E4UJLQNCI16UX5CS  LJKS5NK6788CYMUU   \n4      6YLROQT27B6HRF4E 2015-07-28  48EQXS6IHYNZDDZ5  LJKS5NK6788CYMUU   \n8      CK331XXNIBQT81QL 2015-05-23  CTZSFFKQTY7SBZ4J  36MFTZOYMTAJP1RK   \n13     W1Y086SRAVUZU1AL 2017-09-17  8IUOYVS031QPROUG  36MFTZOYMTAJP1RK   \n...                 ...        ...               ...               ...   \n50003  VC858QHD5EW99MYD 2016-12-25  95XY29BUWLB0UEQR  FC1LJXHNH2883N3Y   \n50004  5DPMPEQ930LJ3HZ7 2017-01-11  T3DS9G6N2Y0AECOP  FC1LJXHNH2883N3Y   \n50006  82U9R1VU6L5A0GVL 2014-04-08  O6KTCUNU8SV5RWQ5  FC1LJXHNH2883N3Y   \n50016  NKHFWT5I2J9LPAPG 2017-09-06  ORWFRT5TUSYGNYG7  E4K99D4JR9E40VE1   \n\n                   Date of Meal  \\\n2     2014-08-23 12:00:00+00:00   \n4     2015-07-27 12:00:00+00:00   \n8     2015-05-18 11:00:00+00:00   \n13    2017-09-14 11:00:00+00:00   \n...                         ...   \n50003 2016-12-23 11:00:00+00:00   \n50004 2017-01-13 12:00:00+00:00   \n50006 2014-04-08 12:00:00+00:00   \n50016 2017-09-09 12:00:00+00:00   \n\n                                            Participants  Meal Price  \\\n2                                     ['Karen Stansell']         314   \n4                      ['Addie Patino' 'Susan Guerrero']         690   \n8      ['Cheryl Feaster' 'Amanda Knowles' 'Ginger Hoa...         697   \n13                                        ['Bret Adams']         469   \n...                                                  ...         ...   \n50003                                      ['Jon Ponce']          45   \n50004                                      ['Jon Ponce']         280   \n50006                       ['Jerry Nelson' 'Jon Ponce']         470   \n50016                 ['Chester Mortimer' 'Robin Ramos']         365   \n\n      Type of Meal  Heroes Adjustment  \n2            Lunch              False  \n4            Lunch              False  \n8            Lunch              False  \n13           Lunch              False  \n...            ...                ...  \n50003        Lunch              False  \n50004        Lunch              False  \n50006        Lunch              False  \n50016        Lunch              False  \n\n[16622 rows x 9 columns]",
      "text/html": "<div>\n<style scoped>\n    .dataframe tbody tr th:only-of-type {\n        vertical-align: middle;\n    }\n\n    .dataframe tbody tr th {\n        vertical-align: top;\n    }\n\n    .dataframe thead th {\n        text-align: right;\n    }\n</style>\n<table border=\"1\" class=\"dataframe\">\n  <thead>\n    <tr style=\"text-align: right;\">\n      <th></th>\n      <th>Order Id</th>\n      <th>Date</th>\n      <th>Meal Id</th>\n      <th>Company Id</th>\n      <th>Date of Meal</th>\n      <th>Participants</th>\n      <th>Meal Price</th>\n      <th>Type of Meal</th>\n      <th>Heroes Adjustment</th>\n    </tr>\n  </thead>\n  <tbody>\n    <tr>\n      <th>2</th>\n      <td>041ORQM5OIHTIU6L</td>\n      <td>2014-08-24</td>\n      <td>E4UJLQNCI16UX5CS</td>\n      <td>LJKS5NK6788CYMUU</td>\n      <td>2014-08-23 12:00:00+00:00</td>\n      <td>['Karen Stansell']</td>\n      <td>314</td>\n      <td>Lunch</td>\n      <td>False</td>\n    </tr>\n    <tr>\n      <th>4</th>\n      <td>6YLROQT27B6HRF4E</td>\n      <td>2015-07-28</td>\n      <td>48EQXS6IHYNZDDZ5</td>\n      <td>LJKS5NK6788CYMUU</td>\n      <td>2015-07-27 12:00:00+00:00</td>\n      <td>['Addie Patino' 'Susan Guerrero']</td>\n      <td>690</td>\n      <td>Lunch</td>\n      <td>False</td>\n    </tr>\n    <tr>\n      <th>8</th>\n      <td>CK331XXNIBQT81QL</td>\n      <td>2015-05-23</td>\n      <td>CTZSFFKQTY7SBZ4J</td>\n      <td>36MFTZOYMTAJP1RK</td>\n      <td>2015-05-18 11:00:00+00:00</td>\n      <td>['Cheryl Feaster' 'Amanda Knowles' 'Ginger Hoa...</td>\n      <td>697</td>\n      <td>Lunch</td>\n      <td>False</td>\n    </tr>\n    <tr>\n      <th>13</th>\n      <td>W1Y086SRAVUZU1AL</td>\n      <td>2017-09-17</td>\n      <td>8IUOYVS031QPROUG</td>\n      <td>36MFTZOYMTAJP1RK</td>\n      <td>2017-09-14 11:00:00+00:00</td>\n      <td>['Bret Adams']</td>\n      <td>469</td>\n      <td>Lunch</td>\n      <td>False</td>\n    </tr>\n    <tr>\n      <th>...</th>\n      <td>...</td>\n      <td>...</td>\n      <td>...</td>\n      <td>...</td>\n      <td>...</td>\n      <td>...</td>\n      <td>...</td>\n      <td>...</td>\n      <td>...</td>\n    </tr>\n    <tr>\n      <th>50003</th>\n      <td>VC858QHD5EW99MYD</td>\n      <td>2016-12-25</td>\n      <td>95XY29BUWLB0UEQR</td>\n      <td>FC1LJXHNH2883N3Y</td>\n      <td>2016-12-23 11:00:00+00:00</td>\n      <td>['Jon Ponce']</td>\n      <td>45</td>\n      <td>Lunch</td>\n      <td>False</td>\n    </tr>\n    <tr>\n      <th>50004</th>\n      <td>5DPMPEQ930LJ3HZ7</td>\n      <td>2017-01-11</td>\n      <td>T3DS9G6N2Y0AECOP</td>\n      <td>FC1LJXHNH2883N3Y</td>\n      <td>2017-01-13 12:00:00+00:00</td>\n      <td>['Jon Ponce']</td>\n      <td>280</td>\n      <td>Lunch</td>\n      <td>False</td>\n    </tr>\n    <tr>\n      <th>50006</th>\n      <td>82U9R1VU6L5A0GVL</td>\n      <td>2014-04-08</td>\n      <td>O6KTCUNU8SV5RWQ5</td>\n      <td>FC1LJXHNH2883N3Y</td>\n      <td>2014-04-08 12:00:00+00:00</td>\n      <td>['Jerry Nelson' 'Jon Ponce']</td>\n      <td>470</td>\n      <td>Lunch</td>\n      <td>False</td>\n    </tr>\n    <tr>\n      <th>50016</th>\n      <td>NKHFWT5I2J9LPAPG</td>\n      <td>2017-09-06</td>\n      <td>ORWFRT5TUSYGNYG7</td>\n      <td>E4K99D4JR9E40VE1</td>\n      <td>2017-09-09 12:00:00+00:00</td>\n      <td>['Chester Mortimer' 'Robin Ramos']</td>\n      <td>365</td>\n      <td>Lunch</td>\n      <td>False</td>\n    </tr>\n  </tbody>\n</table>\n<p>16622 rows × 9 columns</p>\n</div>"
     },
     "execution_count": 51,
     "metadata": {},
     "output_type": "execute_result"
    }
   ],
   "source": [
    "invoices[invoices['Type of Meal'].str.endswith('nch')]"
   ],
   "metadata": {
    "collapsed": false,
    "pycharm": {
     "name": "#%%\n"
    }
   }
  },
  {
   "cell_type": "code",
   "execution_count": 52,
   "outputs": [
    {
     "data": {
      "text/plain": "0                          ['David Bishop']\n1                          ['David Bishop']\n2                        ['Karen Stansell']\n3                          ['Addie Patino']\n                        ...                \n50013    ['Robin Ramos' 'Chester Mortimer']\n50014                       ['Robin Ramos']\n50015    ['Chester Mortimer' 'Robin Ramos']\n50016    ['Chester Mortimer' 'Robin Ramos']\nName: Participants, Length: 50017, dtype: object"
     },
     "execution_count": 52,
     "metadata": {},
     "output_type": "execute_result"
    }
   ],
   "source": [
    "invoices['Participants'].str.lower().str.title()"
   ],
   "metadata": {
    "collapsed": false,
    "pycharm": {
     "name": "#%%\n"
    }
   }
  },
  {
   "cell_type": "code",
   "execution_count": 53,
   "outputs": [
    {
     "data": {
      "text/plain": "               Order Id       Date           Meal Id        Company Id  \\\n0      839FKFW2LLX4LMBB 2016-05-27  INBUX904GIHI8YBD  LJKS5NK6788CYMUU   \n1      97OX39BGVMHODLJM 2018-09-27  J0MMOOPP709DIDIE  LJKS5NK6788CYMUU   \n5      AT0R4DFYYAFOC88Q 2014-07-21  W48JPR1UYWJ18NC6  LJKS5NK6788CYMUU   \n6      2DDN2LHS7G85GKPQ 2014-04-29  1MKLAKBOE3SP7YUL  LJKS5NK6788CYMUU   \n...                 ...        ...               ...               ...   \n48791  26257WBC491B485G 2016-06-26  0CKXQG65KL4VB36V  DLFJ5YHTE0AC2LJW   \n49250  2W2D6LF7VOCRP3FG 2018-06-09  46OEUQ4TU1GJ1XVZ  C23HH5U2BDE1KCAQ   \n49252  AN515VI9698QLGD0 2014-02-26  H3Q6NTNJF8J9H3MH  C23HH5U2BDE1KCAQ   \n49254  0QO2OHN3M6L5JWR8 2016-05-18  FFBS79RPBULQ0VYS  C23HH5U2BDE1KCAQ   \n\n                   Date of Meal  \\\n0     2016-05-31 05:00:00+00:00   \n1     2018-10-01 18:00:00+00:00   \n5     2014-07-17 18:00:00+00:00   \n6     2014-04-30 19:00:00+00:00   \n...                         ...   \n48791 2016-06-29 12:00:00+00:00   \n49250 2018-06-10 20:00:00+00:00   \n49252 2014-02-27 07:00:00+00:00   \n49254 2016-05-17 20:00:00+00:00   \n\n                                            Participants  Meal Price  \\\n0                                       ['David Bishop']         469   \n1                                       ['David Bishop']          22   \n5      ['David Bishop' 'Susan Guerrero' 'Karen Stanse...         181   \n6                      ['Susan Guerrero' 'David Bishop']          14   \n...                                                  ...         ...   \n48791                                  ['David Paulson']          38   \n49250                                 ['David Jennings']         424   \n49252  ['David Jennings' 'Steven Fletcher' 'Gregory G...         323   \n49254                  ['Megan Wilcox' 'David Jennings']         176   \n\n      Type of Meal  Heroes Adjustment  \n0        Breakfast              False  \n1           Dinner              False  \n5           Dinner              False  \n6           Dinner              False  \n...            ...                ...  \n48791        Lunch              False  \n49250       Dinner              False  \n49252    Breakfast              False  \n49254       Dinner              False  \n\n[1009 rows x 9 columns]",
      "text/html": "<div>\n<style scoped>\n    .dataframe tbody tr th:only-of-type {\n        vertical-align: middle;\n    }\n\n    .dataframe tbody tr th {\n        vertical-align: top;\n    }\n\n    .dataframe thead th {\n        text-align: right;\n    }\n</style>\n<table border=\"1\" class=\"dataframe\">\n  <thead>\n    <tr style=\"text-align: right;\">\n      <th></th>\n      <th>Order Id</th>\n      <th>Date</th>\n      <th>Meal Id</th>\n      <th>Company Id</th>\n      <th>Date of Meal</th>\n      <th>Participants</th>\n      <th>Meal Price</th>\n      <th>Type of Meal</th>\n      <th>Heroes Adjustment</th>\n    </tr>\n  </thead>\n  <tbody>\n    <tr>\n      <th>0</th>\n      <td>839FKFW2LLX4LMBB</td>\n      <td>2016-05-27</td>\n      <td>INBUX904GIHI8YBD</td>\n      <td>LJKS5NK6788CYMUU</td>\n      <td>2016-05-31 05:00:00+00:00</td>\n      <td>['David Bishop']</td>\n      <td>469</td>\n      <td>Breakfast</td>\n      <td>False</td>\n    </tr>\n    <tr>\n      <th>1</th>\n      <td>97OX39BGVMHODLJM</td>\n      <td>2018-09-27</td>\n      <td>J0MMOOPP709DIDIE</td>\n      <td>LJKS5NK6788CYMUU</td>\n      <td>2018-10-01 18:00:00+00:00</td>\n      <td>['David Bishop']</td>\n      <td>22</td>\n      <td>Dinner</td>\n      <td>False</td>\n    </tr>\n    <tr>\n      <th>5</th>\n      <td>AT0R4DFYYAFOC88Q</td>\n      <td>2014-07-21</td>\n      <td>W48JPR1UYWJ18NC6</td>\n      <td>LJKS5NK6788CYMUU</td>\n      <td>2014-07-17 18:00:00+00:00</td>\n      <td>['David Bishop' 'Susan Guerrero' 'Karen Stanse...</td>\n      <td>181</td>\n      <td>Dinner</td>\n      <td>False</td>\n    </tr>\n    <tr>\n      <th>6</th>\n      <td>2DDN2LHS7G85GKPQ</td>\n      <td>2014-04-29</td>\n      <td>1MKLAKBOE3SP7YUL</td>\n      <td>LJKS5NK6788CYMUU</td>\n      <td>2014-04-30 19:00:00+00:00</td>\n      <td>['Susan Guerrero' 'David Bishop']</td>\n      <td>14</td>\n      <td>Dinner</td>\n      <td>False</td>\n    </tr>\n    <tr>\n      <th>...</th>\n      <td>...</td>\n      <td>...</td>\n      <td>...</td>\n      <td>...</td>\n      <td>...</td>\n      <td>...</td>\n      <td>...</td>\n      <td>...</td>\n      <td>...</td>\n    </tr>\n    <tr>\n      <th>48791</th>\n      <td>26257WBC491B485G</td>\n      <td>2016-06-26</td>\n      <td>0CKXQG65KL4VB36V</td>\n      <td>DLFJ5YHTE0AC2LJW</td>\n      <td>2016-06-29 12:00:00+00:00</td>\n      <td>['David Paulson']</td>\n      <td>38</td>\n      <td>Lunch</td>\n      <td>False</td>\n    </tr>\n    <tr>\n      <th>49250</th>\n      <td>2W2D6LF7VOCRP3FG</td>\n      <td>2018-06-09</td>\n      <td>46OEUQ4TU1GJ1XVZ</td>\n      <td>C23HH5U2BDE1KCAQ</td>\n      <td>2018-06-10 20:00:00+00:00</td>\n      <td>['David Jennings']</td>\n      <td>424</td>\n      <td>Dinner</td>\n      <td>False</td>\n    </tr>\n    <tr>\n      <th>49252</th>\n      <td>AN515VI9698QLGD0</td>\n      <td>2014-02-26</td>\n      <td>H3Q6NTNJF8J9H3MH</td>\n      <td>C23HH5U2BDE1KCAQ</td>\n      <td>2014-02-27 07:00:00+00:00</td>\n      <td>['David Jennings' 'Steven Fletcher' 'Gregory G...</td>\n      <td>323</td>\n      <td>Breakfast</td>\n      <td>False</td>\n    </tr>\n    <tr>\n      <th>49254</th>\n      <td>0QO2OHN3M6L5JWR8</td>\n      <td>2016-05-18</td>\n      <td>FFBS79RPBULQ0VYS</td>\n      <td>C23HH5U2BDE1KCAQ</td>\n      <td>2016-05-17 20:00:00+00:00</td>\n      <td>['Megan Wilcox' 'David Jennings']</td>\n      <td>176</td>\n      <td>Dinner</td>\n      <td>False</td>\n    </tr>\n  </tbody>\n</table>\n<p>1009 rows × 9 columns</p>\n</div>"
     },
     "execution_count": 53,
     "metadata": {},
     "output_type": "execute_result"
    }
   ],
   "source": [
    "invoices[invoices['Participants'].str.contains('David')]"
   ],
   "metadata": {
    "collapsed": false,
    "pycharm": {
     "name": "#%%\n"
    }
   }
  },
  {
   "cell_type": "code",
   "execution_count": 54,
   "outputs": [
    {
     "data": {
      "text/plain": "False"
     },
     "execution_count": 54,
     "metadata": {},
     "output_type": "execute_result"
    }
   ],
   "source": [
    "invoices['Type of Meal'].cat.ordered"
   ],
   "metadata": {
    "collapsed": false,
    "pycharm": {
     "name": "#%%\n"
    }
   }
  },
  {
   "cell_type": "code",
   "execution_count": 55,
   "outputs": [
    {
     "data": {
      "text/plain": "Index(['Breakfast', 'Dinner', 'Lunch'], dtype='object')"
     },
     "execution_count": 55,
     "metadata": {},
     "output_type": "execute_result"
    }
   ],
   "source": [
    "invoices['Type of Meal'].cat.categories"
   ],
   "metadata": {
    "collapsed": false,
    "pycharm": {
     "name": "#%%\n"
    }
   }
  },
  {
   "cell_type": "code",
   "execution_count": 56,
   "outputs": [
    {
     "data": {
      "text/plain": "0        0\n1        1\n2        2\n3        1\n        ..\n50013    0\n50014    1\n50015    1\n50016    2\nLength: 50017, dtype: int8"
     },
     "execution_count": 56,
     "metadata": {},
     "output_type": "execute_result"
    }
   ],
   "source": [
    "invoices['Type of Meal'].cat.codes"
   ],
   "metadata": {
    "collapsed": false,
    "pycharm": {
     "name": "#%%\n"
    }
   }
  },
  {
   "cell_type": "code",
   "execution_count": 57,
   "outputs": [
    {
     "data": {
      "text/plain": "2013       34\n2014    10051\n2015    10036\n2016     9862\n2017     9921\n2018    10095\n2019       18\nName: Date of Meal, dtype: int64"
     },
     "execution_count": 57,
     "metadata": {},
     "output_type": "execute_result"
    }
   ],
   "source": [
    "invoices['Date of Meal'].dt.year.value_counts().sort_index()"
   ],
   "metadata": {
    "collapsed": false,
    "pycharm": {
     "name": "#%%\n"
    }
   }
  },
  {
   "cell_type": "code",
   "execution_count": 58,
   "outputs": [],
   "source": [
    "y_2013=invoices[invoices['Date of Meal'].dt.year==2013].copy()\n",
    "y_2014=invoices[invoices['Date of Meal'].dt.year==2014].copy()"
   ],
   "metadata": {
    "collapsed": false,
    "pycharm": {
     "name": "#%%\n"
    }
   }
  },
  {
   "cell_type": "code",
   "execution_count": 59,
   "outputs": [
    {
     "data": {
      "text/plain": "               Order Id       Date           Meal Id        Company Id  \\\n1449   HH1CUKNKIIK87D4L 2014-01-03  M4QG9N01E25U3A53  N4BN0GG5XKZV113C   \n4256   KFXTYDP0YG9C6AZF 2014-01-03  RUMIZCB9KM3N57BN  9FOCJR50GUHXT2S0   \n4747   D5NR6EP8NQZ0TGW6 2014-01-05  5GDXSLG0F4WA3JEZ  RJ1NLTCTP1COK3YS   \n5097   2T71YISMHMPBKE3Z 2014-01-03  0C7DIKEPG5KXNRFR  R835HX2AVB1KJJL0   \n...                 ...        ...               ...               ...   \n49995  604MDASEGE0ZGF1Q 2014-09-19  Z6THNAPHU8C5YOXS  5K17HYJQ6JG6UFU0   \n49996  F381FAZM804NBR5N 2014-05-28  BM67YPFBIK2AGA9J  5K17HYJQ6JG6UFU0   \n50006  82U9R1VU6L5A0GVL 2014-04-08  O6KTCUNU8SV5RWQ5  FC1LJXHNH2883N3Y   \n50007  DSQ3L26W4J1HH2DL 2014-05-11  24E54CJ06WBF66KK  FC1LJXHNH2883N3Y   \n\n                   Date of Meal  \\\n1449  2013-12-31 21:00:00+00:00   \n4256  2013-12-31 12:00:00+00:00   \n4747  2013-12-31 21:00:00+00:00   \n5097  2013-12-30 19:00:00+00:00   \n...                         ...   \n49995 2014-09-22 18:00:00+00:00   \n49996 2014-05-30 19:00:00+00:00   \n50006 2014-04-08 12:00:00+00:00   \n50007 2014-05-08 18:00:00+00:00   \n\n                                            Participants  Meal Price  \\\n1449                                    ['Jason Cuevas']         546   \n4256   ['Robert Hairfield' 'Ray Dowty' 'Adam Bowers' ...         586   \n4747                                    ['Leta Stevens']         549   \n5097                                  ['Hunter Marquez']         338   \n...                                                  ...         ...   \n49995  ['Billy Britton' 'Arleen Williams' 'Michelle L...         288   \n49996  ['Michelle Lachiatto' 'Billy Britton' 'Chris L...         143   \n50006                       ['Jerry Nelson' 'Jon Ponce']         470   \n50007                     ['Jerry Nelson' 'Alice Allen']         410   \n\n      Type of Meal  Heroes Adjustment  \n1449        Dinner              False  \n4256         Lunch              False  \n4747        Dinner              False  \n5097        Dinner              False  \n...            ...                ...  \n49995       Dinner              False  \n49996       Dinner              False  \n50006        Lunch              False  \n50007       Dinner              False  \n\n[10085 rows x 9 columns]",
      "text/html": "<div>\n<style scoped>\n    .dataframe tbody tr th:only-of-type {\n        vertical-align: middle;\n    }\n\n    .dataframe tbody tr th {\n        vertical-align: top;\n    }\n\n    .dataframe thead th {\n        text-align: right;\n    }\n</style>\n<table border=\"1\" class=\"dataframe\">\n  <thead>\n    <tr style=\"text-align: right;\">\n      <th></th>\n      <th>Order Id</th>\n      <th>Date</th>\n      <th>Meal Id</th>\n      <th>Company Id</th>\n      <th>Date of Meal</th>\n      <th>Participants</th>\n      <th>Meal Price</th>\n      <th>Type of Meal</th>\n      <th>Heroes Adjustment</th>\n    </tr>\n  </thead>\n  <tbody>\n    <tr>\n      <th>1449</th>\n      <td>HH1CUKNKIIK87D4L</td>\n      <td>2014-01-03</td>\n      <td>M4QG9N01E25U3A53</td>\n      <td>N4BN0GG5XKZV113C</td>\n      <td>2013-12-31 21:00:00+00:00</td>\n      <td>['Jason Cuevas']</td>\n      <td>546</td>\n      <td>Dinner</td>\n      <td>False</td>\n    </tr>\n    <tr>\n      <th>4256</th>\n      <td>KFXTYDP0YG9C6AZF</td>\n      <td>2014-01-03</td>\n      <td>RUMIZCB9KM3N57BN</td>\n      <td>9FOCJR50GUHXT2S0</td>\n      <td>2013-12-31 12:00:00+00:00</td>\n      <td>['Robert Hairfield' 'Ray Dowty' 'Adam Bowers' ...</td>\n      <td>586</td>\n      <td>Lunch</td>\n      <td>False</td>\n    </tr>\n    <tr>\n      <th>4747</th>\n      <td>D5NR6EP8NQZ0TGW6</td>\n      <td>2014-01-05</td>\n      <td>5GDXSLG0F4WA3JEZ</td>\n      <td>RJ1NLTCTP1COK3YS</td>\n      <td>2013-12-31 21:00:00+00:00</td>\n      <td>['Leta Stevens']</td>\n      <td>549</td>\n      <td>Dinner</td>\n      <td>False</td>\n    </tr>\n    <tr>\n      <th>5097</th>\n      <td>2T71YISMHMPBKE3Z</td>\n      <td>2014-01-03</td>\n      <td>0C7DIKEPG5KXNRFR</td>\n      <td>R835HX2AVB1KJJL0</td>\n      <td>2013-12-30 19:00:00+00:00</td>\n      <td>['Hunter Marquez']</td>\n      <td>338</td>\n      <td>Dinner</td>\n      <td>False</td>\n    </tr>\n    <tr>\n      <th>...</th>\n      <td>...</td>\n      <td>...</td>\n      <td>...</td>\n      <td>...</td>\n      <td>...</td>\n      <td>...</td>\n      <td>...</td>\n      <td>...</td>\n      <td>...</td>\n    </tr>\n    <tr>\n      <th>49995</th>\n      <td>604MDASEGE0ZGF1Q</td>\n      <td>2014-09-19</td>\n      <td>Z6THNAPHU8C5YOXS</td>\n      <td>5K17HYJQ6JG6UFU0</td>\n      <td>2014-09-22 18:00:00+00:00</td>\n      <td>['Billy Britton' 'Arleen Williams' 'Michelle L...</td>\n      <td>288</td>\n      <td>Dinner</td>\n      <td>False</td>\n    </tr>\n    <tr>\n      <th>49996</th>\n      <td>F381FAZM804NBR5N</td>\n      <td>2014-05-28</td>\n      <td>BM67YPFBIK2AGA9J</td>\n      <td>5K17HYJQ6JG6UFU0</td>\n      <td>2014-05-30 19:00:00+00:00</td>\n      <td>['Michelle Lachiatto' 'Billy Britton' 'Chris L...</td>\n      <td>143</td>\n      <td>Dinner</td>\n      <td>False</td>\n    </tr>\n    <tr>\n      <th>50006</th>\n      <td>82U9R1VU6L5A0GVL</td>\n      <td>2014-04-08</td>\n      <td>O6KTCUNU8SV5RWQ5</td>\n      <td>FC1LJXHNH2883N3Y</td>\n      <td>2014-04-08 12:00:00+00:00</td>\n      <td>['Jerry Nelson' 'Jon Ponce']</td>\n      <td>470</td>\n      <td>Lunch</td>\n      <td>False</td>\n    </tr>\n    <tr>\n      <th>50007</th>\n      <td>DSQ3L26W4J1HH2DL</td>\n      <td>2014-05-11</td>\n      <td>24E54CJ06WBF66KK</td>\n      <td>FC1LJXHNH2883N3Y</td>\n      <td>2014-05-08 18:00:00+00:00</td>\n      <td>['Jerry Nelson' 'Alice Allen']</td>\n      <td>410</td>\n      <td>Dinner</td>\n      <td>False</td>\n    </tr>\n  </tbody>\n</table>\n<p>10085 rows × 9 columns</p>\n</div>"
     },
     "execution_count": 59,
     "metadata": {},
     "output_type": "execute_result"
    }
   ],
   "source": [
    "pd.concat([y_2013, y_2014], names=['year', 'original_index'])"
   ],
   "metadata": {
    "collapsed": false,
    "pycharm": {
     "name": "#%%\n"
    }
   }
  },
  {
   "cell_type": "code",
   "execution_count": 60,
   "outputs": [
    {
     "data": {
      "text/plain": "DatetimeIndex(['2019-01-02', '2019-01-03', '2019-01-04', '2019-01-05',\n               '2019-01-06', '2019-01-07', '2019-01-08'],\n              dtype='datetime64[ns]', freq='D')"
     },
     "execution_count": 60,
     "metadata": {},
     "output_type": "execute_result"
    }
   ],
   "source": [
    "range_a=pd.date_range(datetime.datetime(2019,1,2), datetime.datetime(2019,1,8))\n",
    "range_a"
   ],
   "metadata": {
    "collapsed": false,
    "pycharm": {
     "name": "#%%\n"
    }
   }
  },
  {
   "cell_type": "code",
   "execution_count": 61,
   "outputs": [
    {
     "data": {
      "text/plain": "            observations_a\n2019-01-02               8\n2019-01-03               2\n2019-01-04               2\n2019-01-05               6\n2019-01-06               5\n2019-01-07               4\n2019-01-08               7",
      "text/html": "<div>\n<style scoped>\n    .dataframe tbody tr th:only-of-type {\n        vertical-align: middle;\n    }\n\n    .dataframe tbody tr th {\n        vertical-align: top;\n    }\n\n    .dataframe thead th {\n        text-align: right;\n    }\n</style>\n<table border=\"1\" class=\"dataframe\">\n  <thead>\n    <tr style=\"text-align: right;\">\n      <th></th>\n      <th>observations_a</th>\n    </tr>\n  </thead>\n  <tbody>\n    <tr>\n      <th>2019-01-02</th>\n      <td>8</td>\n    </tr>\n    <tr>\n      <th>2019-01-03</th>\n      <td>2</td>\n    </tr>\n    <tr>\n      <th>2019-01-04</th>\n      <td>2</td>\n    </tr>\n    <tr>\n      <th>2019-01-05</th>\n      <td>6</td>\n    </tr>\n    <tr>\n      <th>2019-01-06</th>\n      <td>5</td>\n    </tr>\n    <tr>\n      <th>2019-01-07</th>\n      <td>4</td>\n    </tr>\n    <tr>\n      <th>2019-01-08</th>\n      <td>7</td>\n    </tr>\n  </tbody>\n</table>\n</div>"
     },
     "execution_count": 61,
     "metadata": {},
     "output_type": "execute_result"
    }
   ],
   "source": [
    "df_a=pd.DataFrame(index=range_a, data=np.random.randint(2, 10, size=len(range_a)), columns=['observations_a'])\n",
    "df_a"
   ],
   "metadata": {
    "collapsed": false,
    "pycharm": {
     "name": "#%%\n"
    }
   }
  },
  {
   "cell_type": "code",
   "execution_count": 62,
   "outputs": [
    {
     "data": {
      "text/plain": "            observations_b\n2019-01-05               4\n2019-01-06               4\n2019-01-07               7\n2019-01-08               7\n2019-01-09               4\n2019-01-10               7\n2019-01-11               3\n2019-01-12               2",
      "text/html": "<div>\n<style scoped>\n    .dataframe tbody tr th:only-of-type {\n        vertical-align: middle;\n    }\n\n    .dataframe tbody tr th {\n        vertical-align: top;\n    }\n\n    .dataframe thead th {\n        text-align: right;\n    }\n</style>\n<table border=\"1\" class=\"dataframe\">\n  <thead>\n    <tr style=\"text-align: right;\">\n      <th></th>\n      <th>observations_b</th>\n    </tr>\n  </thead>\n  <tbody>\n    <tr>\n      <th>2019-01-05</th>\n      <td>4</td>\n    </tr>\n    <tr>\n      <th>2019-01-06</th>\n      <td>4</td>\n    </tr>\n    <tr>\n      <th>2019-01-07</th>\n      <td>7</td>\n    </tr>\n    <tr>\n      <th>2019-01-08</th>\n      <td>7</td>\n    </tr>\n    <tr>\n      <th>2019-01-09</th>\n      <td>4</td>\n    </tr>\n    <tr>\n      <th>2019-01-10</th>\n      <td>7</td>\n    </tr>\n    <tr>\n      <th>2019-01-11</th>\n      <td>3</td>\n    </tr>\n    <tr>\n      <th>2019-01-12</th>\n      <td>2</td>\n    </tr>\n  </tbody>\n</table>\n</div>"
     },
     "execution_count": 62,
     "metadata": {},
     "output_type": "execute_result"
    }
   ],
   "source": [
    "range_b=pd.date_range(datetime.datetime(2019,1,5), datetime.datetime(2019,1,12))\n",
    "df_b=pd.DataFrame(index=range_b, data=np.random.randint(2, 10, size=len(range_b)), columns=['observations_b'])\n",
    "df_b"
   ],
   "metadata": {
    "collapsed": false,
    "pycharm": {
     "name": "#%%\n"
    }
   }
  },
  {
   "cell_type": "code",
   "execution_count": 63,
   "outputs": [
    {
     "data": {
      "text/plain": "            observations_a  observations_b\n2019-01-02             8.0             NaN\n2019-01-03             2.0             NaN\n2019-01-04             2.0             NaN\n2019-01-05             6.0             4.0\n...                    ...             ...\n2019-01-09             NaN             4.0\n2019-01-10             NaN             7.0\n2019-01-11             NaN             3.0\n2019-01-12             NaN             2.0\n\n[11 rows x 2 columns]",
      "text/html": "<div>\n<style scoped>\n    .dataframe tbody tr th:only-of-type {\n        vertical-align: middle;\n    }\n\n    .dataframe tbody tr th {\n        vertical-align: top;\n    }\n\n    .dataframe thead th {\n        text-align: right;\n    }\n</style>\n<table border=\"1\" class=\"dataframe\">\n  <thead>\n    <tr style=\"text-align: right;\">\n      <th></th>\n      <th>observations_a</th>\n      <th>observations_b</th>\n    </tr>\n  </thead>\n  <tbody>\n    <tr>\n      <th>2019-01-02</th>\n      <td>8.0</td>\n      <td>NaN</td>\n    </tr>\n    <tr>\n      <th>2019-01-03</th>\n      <td>2.0</td>\n      <td>NaN</td>\n    </tr>\n    <tr>\n      <th>2019-01-04</th>\n      <td>2.0</td>\n      <td>NaN</td>\n    </tr>\n    <tr>\n      <th>2019-01-05</th>\n      <td>6.0</td>\n      <td>4.0</td>\n    </tr>\n    <tr>\n      <th>...</th>\n      <td>...</td>\n      <td>...</td>\n    </tr>\n    <tr>\n      <th>2019-01-09</th>\n      <td>NaN</td>\n      <td>4.0</td>\n    </tr>\n    <tr>\n      <th>2019-01-10</th>\n      <td>NaN</td>\n      <td>7.0</td>\n    </tr>\n    <tr>\n      <th>2019-01-11</th>\n      <td>NaN</td>\n      <td>3.0</td>\n    </tr>\n    <tr>\n      <th>2019-01-12</th>\n      <td>NaN</td>\n      <td>2.0</td>\n    </tr>\n  </tbody>\n</table>\n<p>11 rows × 2 columns</p>\n</div>"
     },
     "execution_count": 63,
     "metadata": {},
     "output_type": "execute_result"
    }
   ],
   "source": [
    "pd.concat([df_a, df_b], axis=1)"
   ],
   "metadata": {
    "collapsed": false,
    "pycharm": {
     "name": "#%%\n"
    }
   }
  },
  {
   "cell_type": "code",
   "execution_count": 66,
   "outputs": [
    {
     "name": "stderr",
     "output_type": "stream",
     "text": [
      "D:\\Programing\\Anaconda3\\lib\\site-packages\\ipykernel_launcher.py:2: FutureWarning: Sorting because non-concatenation axis is not aligned. A future version\n",
      "of pandas will change to not sort by default.\n",
      "\n",
      "To accept the future behavior, pass 'sort=False'.\n",
      "\n",
      "To retain the current behavior and silence the warning, pass 'sort=True'.\n",
      "\n",
      "  \n"
     ]
    },
    {
     "data": {
      "text/plain": "            observations_a  observations_b\n2019-01-02             8.0             NaN\n2019-01-03             2.0             NaN\n2019-01-04             2.0             NaN\n2019-01-05             6.0             NaN\n2019-01-06             5.0             NaN\n2019-01-07             4.0             NaN\n2019-01-08             7.0             NaN\n2019-01-05             NaN             4.0\n2019-01-06             NaN             4.0\n2019-01-07             NaN             7.0\n2019-01-08             NaN             7.0\n2019-01-09             NaN             4.0\n2019-01-10             NaN             7.0\n2019-01-11             NaN             3.0\n2019-01-12             NaN             2.0",
      "text/html": "<div>\n<style scoped>\n    .dataframe tbody tr th:only-of-type {\n        vertical-align: middle;\n    }\n\n    .dataframe tbody tr th {\n        vertical-align: top;\n    }\n\n    .dataframe thead th {\n        text-align: right;\n    }\n</style>\n<table border=\"1\" class=\"dataframe\">\n  <thead>\n    <tr style=\"text-align: right;\">\n      <th></th>\n      <th>observations_a</th>\n      <th>observations_b</th>\n    </tr>\n  </thead>\n  <tbody>\n    <tr>\n      <th>2019-01-02</th>\n      <td>8.0</td>\n      <td>NaN</td>\n    </tr>\n    <tr>\n      <th>2019-01-03</th>\n      <td>2.0</td>\n      <td>NaN</td>\n    </tr>\n    <tr>\n      <th>2019-01-04</th>\n      <td>2.0</td>\n      <td>NaN</td>\n    </tr>\n    <tr>\n      <th>2019-01-05</th>\n      <td>6.0</td>\n      <td>NaN</td>\n    </tr>\n    <tr>\n      <th>2019-01-06</th>\n      <td>5.0</td>\n      <td>NaN</td>\n    </tr>\n    <tr>\n      <th>2019-01-07</th>\n      <td>4.0</td>\n      <td>NaN</td>\n    </tr>\n    <tr>\n      <th>2019-01-08</th>\n      <td>7.0</td>\n      <td>NaN</td>\n    </tr>\n    <tr>\n      <th>2019-01-05</th>\n      <td>NaN</td>\n      <td>4.0</td>\n    </tr>\n    <tr>\n      <th>2019-01-06</th>\n      <td>NaN</td>\n      <td>4.0</td>\n    </tr>\n    <tr>\n      <th>2019-01-07</th>\n      <td>NaN</td>\n      <td>7.0</td>\n    </tr>\n    <tr>\n      <th>2019-01-08</th>\n      <td>NaN</td>\n      <td>7.0</td>\n    </tr>\n    <tr>\n      <th>2019-01-09</th>\n      <td>NaN</td>\n      <td>4.0</td>\n    </tr>\n    <tr>\n      <th>2019-01-10</th>\n      <td>NaN</td>\n      <td>7.0</td>\n    </tr>\n    <tr>\n      <th>2019-01-11</th>\n      <td>NaN</td>\n      <td>3.0</td>\n    </tr>\n    <tr>\n      <th>2019-01-12</th>\n      <td>NaN</td>\n      <td>2.0</td>\n    </tr>\n  </tbody>\n</table>\n</div>"
     },
     "execution_count": 66,
     "metadata": {},
     "output_type": "execute_result"
    }
   ],
   "source": [
    "pd.set_option('display.max_rows', 20)\n",
    "pd.concat([df_a, df_b], axis=0)"
   ],
   "metadata": {
    "collapsed": false,
    "pycharm": {
     "name": "#%%\n"
    }
   }
  },
  {
   "cell_type": "code",
   "execution_count": 75,
   "outputs": [],
   "source": [
    "file1=r'D:\\Programing\\python_projects\\data_analysis_basics\\data_set\\order_leads.csv'\n",
    "file2=r'D:\\Programing\\python_projects\\data_analysis_basics\\data_set\\sales_team.csv'\n",
    "order_leads=pd.read_csv(file1, parse_dates=[3])\n",
    "sales_team=pd.read_csv(file2)"
   ],
   "metadata": {
    "collapsed": false,
    "pycharm": {
     "name": "#%%\n"
    }
   }
  },
  {
   "cell_type": "code",
   "execution_count": 76,
   "outputs": [
    {
     "data": {
      "text/plain": "           Order Id        Company Id            Company Name       Date  \\\n0  80EYLOKP9E762WKG  LJKS5NK6788CYMUU  Chimera-Chasing Casbah 2017-02-18   \n1  TLEXR1HZWTUTBHPB  LJKS5NK6788CYMUU  Chimera-Chasing Casbah 2015-07-30   \n2  839FKFW2LLX4LMBB  LJKS5NK6788CYMUU  Chimera-Chasing Casbah 2016-05-27   \n\n   Order Value  Converted  \n0         4875          1  \n1         8425          0  \n2         4837          0  ",
      "text/html": "<div>\n<style scoped>\n    .dataframe tbody tr th:only-of-type {\n        vertical-align: middle;\n    }\n\n    .dataframe tbody tr th {\n        vertical-align: top;\n    }\n\n    .dataframe thead th {\n        text-align: right;\n    }\n</style>\n<table border=\"1\" class=\"dataframe\">\n  <thead>\n    <tr style=\"text-align: right;\">\n      <th></th>\n      <th>Order Id</th>\n      <th>Company Id</th>\n      <th>Company Name</th>\n      <th>Date</th>\n      <th>Order Value</th>\n      <th>Converted</th>\n    </tr>\n  </thead>\n  <tbody>\n    <tr>\n      <th>0</th>\n      <td>80EYLOKP9E762WKG</td>\n      <td>LJKS5NK6788CYMUU</td>\n      <td>Chimera-Chasing Casbah</td>\n      <td>2017-02-18</td>\n      <td>4875</td>\n      <td>1</td>\n    </tr>\n    <tr>\n      <th>1</th>\n      <td>TLEXR1HZWTUTBHPB</td>\n      <td>LJKS5NK6788CYMUU</td>\n      <td>Chimera-Chasing Casbah</td>\n      <td>2015-07-30</td>\n      <td>8425</td>\n      <td>0</td>\n    </tr>\n    <tr>\n      <th>2</th>\n      <td>839FKFW2LLX4LMBB</td>\n      <td>LJKS5NK6788CYMUU</td>\n      <td>Chimera-Chasing Casbah</td>\n      <td>2016-05-27</td>\n      <td>4837</td>\n      <td>0</td>\n    </tr>\n  </tbody>\n</table>\n</div>"
     },
     "execution_count": 76,
     "metadata": {},
     "output_type": "execute_result"
    }
   ],
   "source": [
    "order_leads.head(3)"
   ],
   "metadata": {
    "collapsed": false,
    "pycharm": {
     "name": "#%%\n"
    }
   }
  },
  {
   "cell_type": "code",
   "execution_count": 77,
   "outputs": [
    {
     "data": {
      "text/plain": "           Order Id       Date           Meal Id        Company Id  \\\n0  839FKFW2LLX4LMBB 2016-05-27  INBUX904GIHI8YBD  LJKS5NK6788CYMUU   \n1  97OX39BGVMHODLJM 2018-09-27  J0MMOOPP709DIDIE  LJKS5NK6788CYMUU   \n2  041ORQM5OIHTIU6L 2014-08-24  E4UJLQNCI16UX5CS  LJKS5NK6788CYMUU   \n\n               Date of Meal        Participants  Meal Price Type of Meal  \\\n0 2016-05-31 05:00:00+00:00    ['David Bishop']         469    Breakfast   \n1 2018-10-01 18:00:00+00:00    ['David Bishop']          22       Dinner   \n2 2014-08-23 12:00:00+00:00  ['Karen Stansell']         314        Lunch   \n\n   Heroes Adjustment  \n0              False  \n1              False  \n2              False  ",
      "text/html": "<div>\n<style scoped>\n    .dataframe tbody tr th:only-of-type {\n        vertical-align: middle;\n    }\n\n    .dataframe tbody tr th {\n        vertical-align: top;\n    }\n\n    .dataframe thead th {\n        text-align: right;\n    }\n</style>\n<table border=\"1\" class=\"dataframe\">\n  <thead>\n    <tr style=\"text-align: right;\">\n      <th></th>\n      <th>Order Id</th>\n      <th>Date</th>\n      <th>Meal Id</th>\n      <th>Company Id</th>\n      <th>Date of Meal</th>\n      <th>Participants</th>\n      <th>Meal Price</th>\n      <th>Type of Meal</th>\n      <th>Heroes Adjustment</th>\n    </tr>\n  </thead>\n  <tbody>\n    <tr>\n      <th>0</th>\n      <td>839FKFW2LLX4LMBB</td>\n      <td>2016-05-27</td>\n      <td>INBUX904GIHI8YBD</td>\n      <td>LJKS5NK6788CYMUU</td>\n      <td>2016-05-31 05:00:00+00:00</td>\n      <td>['David Bishop']</td>\n      <td>469</td>\n      <td>Breakfast</td>\n      <td>False</td>\n    </tr>\n    <tr>\n      <th>1</th>\n      <td>97OX39BGVMHODLJM</td>\n      <td>2018-09-27</td>\n      <td>J0MMOOPP709DIDIE</td>\n      <td>LJKS5NK6788CYMUU</td>\n      <td>2018-10-01 18:00:00+00:00</td>\n      <td>['David Bishop']</td>\n      <td>22</td>\n      <td>Dinner</td>\n      <td>False</td>\n    </tr>\n    <tr>\n      <th>2</th>\n      <td>041ORQM5OIHTIU6L</td>\n      <td>2014-08-24</td>\n      <td>E4UJLQNCI16UX5CS</td>\n      <td>LJKS5NK6788CYMUU</td>\n      <td>2014-08-23 12:00:00+00:00</td>\n      <td>['Karen Stansell']</td>\n      <td>314</td>\n      <td>Lunch</td>\n      <td>False</td>\n    </tr>\n  </tbody>\n</table>\n</div>"
     },
     "execution_count": 77,
     "metadata": {},
     "output_type": "execute_result"
    }
   ],
   "source": [
    "invoices.head(3)"
   ],
   "metadata": {
    "collapsed": false,
    "pycharm": {
     "name": "#%%\n"
    }
   }
  },
  {
   "cell_type": "code",
   "execution_count": 78,
   "outputs": [
    {
     "data": {
      "text/plain": "           Sales Rep      Sales Rep Id            Company Name  \\\n0  Jessie Mcallister  97UNNAT790E0WM4N  Chimera-Chasing Casbah   \n1  Jessie Mcallister  97UNNAT790E0WM4N        Tangential Sheds   \n2  Jessie Mcallister  97UNNAT790E0WM4N           Two-Mile Grab   \n\n         Company Id  \n0  LJKS5NK6788CYMUU  \n1  36MFTZOYMTAJP1RK  \n2  H3JRC7XX7WJAD4ZO  ",
      "text/html": "<div>\n<style scoped>\n    .dataframe tbody tr th:only-of-type {\n        vertical-align: middle;\n    }\n\n    .dataframe tbody tr th {\n        vertical-align: top;\n    }\n\n    .dataframe thead th {\n        text-align: right;\n    }\n</style>\n<table border=\"1\" class=\"dataframe\">\n  <thead>\n    <tr style=\"text-align: right;\">\n      <th></th>\n      <th>Sales Rep</th>\n      <th>Sales Rep Id</th>\n      <th>Company Name</th>\n      <th>Company Id</th>\n    </tr>\n  </thead>\n  <tbody>\n    <tr>\n      <th>0</th>\n      <td>Jessie Mcallister</td>\n      <td>97UNNAT790E0WM4N</td>\n      <td>Chimera-Chasing Casbah</td>\n      <td>LJKS5NK6788CYMUU</td>\n    </tr>\n    <tr>\n      <th>1</th>\n      <td>Jessie Mcallister</td>\n      <td>97UNNAT790E0WM4N</td>\n      <td>Tangential Sheds</td>\n      <td>36MFTZOYMTAJP1RK</td>\n    </tr>\n    <tr>\n      <th>2</th>\n      <td>Jessie Mcallister</td>\n      <td>97UNNAT790E0WM4N</td>\n      <td>Two-Mile Grab</td>\n      <td>H3JRC7XX7WJAD4ZO</td>\n    </tr>\n  </tbody>\n</table>\n</div>"
     },
     "execution_count": 78,
     "metadata": {},
     "output_type": "execute_result"
    }
   ],
   "source": [
    "sales_team.head(3)"
   ],
   "metadata": {
    "collapsed": false,
    "pycharm": {
     "name": "#%%\n"
    }
   }
  },
  {
   "cell_type": "code",
   "execution_count": 79,
   "outputs": [
    {
     "data": {
      "text/plain": "               Order Id        Company Id            Company Name       Date  \\\n0      839FKFW2LLX4LMBB  LJKS5NK6788CYMUU  Chimera-Chasing Casbah 2016-05-27   \n1      97OX39BGVMHODLJM  LJKS5NK6788CYMUU  Chimera-Chasing Casbah 2018-09-27   \n2      041ORQM5OIHTIU6L  LJKS5NK6788CYMUU  Chimera-Chasing Casbah 2014-08-24   \n3      YT796QI18WNGZ7ZJ  LJKS5NK6788CYMUU  Chimera-Chasing Casbah 2014-04-12   \n4      6YLROQT27B6HRF4E  LJKS5NK6788CYMUU  Chimera-Chasing Casbah 2015-07-28   \n...                 ...               ...                     ...        ...   \n50012  4OMS8ZSA0UX8LHWI  E4K99D4JR9E40VE1     Fierce Productivity 2017-09-20   \n50013  RR0VKJN8V0KHNKGG  E4K99D4JR9E40VE1     Fierce Productivity 2018-03-19   \n50014  STJ6QJC30WPRM93H  E4K99D4JR9E40VE1     Fierce Productivity 2017-09-21   \n50015  QHEUIYNC0XQX7GDR  E4K99D4JR9E40VE1     Fierce Productivity 2018-01-28   \n50016  NKHFWT5I2J9LPAPG  E4K99D4JR9E40VE1     Fierce Productivity 2017-09-06   \n\n       Order Value  Converted           Meal Id              Date of Meal  \\\n0             4837          0  INBUX904GIHI8YBD 2016-05-31 05:00:00+00:00   \n1              343          0  J0MMOOPP709DIDIE 2018-10-01 18:00:00+00:00   \n2             4185          0  E4UJLQNCI16UX5CS 2014-08-23 12:00:00+00:00   \n3             5839          0  C9SDFHF7553BE247 2014-04-07 19:00:00+00:00   \n4             8841          0  48EQXS6IHYNZDDZ5 2015-07-27 12:00:00+00:00   \n...            ...        ...               ...                       ...   \n50012          110          0  1TD5MROATV1NHZ4Y 2017-09-21 06:00:00+00:00   \n50013          356          0  22EX9VZSJKHP4AIP 2018-03-18 08:00:00+00:00   \n50014         2228          1  LMX18PNGWCIMG1QW 2017-09-22 19:00:00+00:00   \n50015         8869          0  4U0VH2TGQL30X23X 2018-02-01 20:00:00+00:00   \n50016         5138          0  ORWFRT5TUSYGNYG7 2017-09-09 12:00:00+00:00   \n\n                             Participants  Meal Price Type of Meal  \\\n0                        ['David Bishop']         469    Breakfast   \n1                        ['David Bishop']          22       Dinner   \n2                      ['Karen Stansell']         314        Lunch   \n3                        ['Addie Patino']         438       Dinner   \n4       ['Addie Patino' 'Susan Guerrero']         690        Lunch   \n...                                   ...         ...          ...   \n50012                  ['Regina Shirley']           9    Breakfast   \n50013  ['Robin Ramos' 'Chester Mortimer']          25    Breakfast   \n50014                     ['Robin Ramos']         160       Dinner   \n50015  ['Chester Mortimer' 'Robin Ramos']         497       Dinner   \n50016  ['Chester Mortimer' 'Robin Ramos']         365        Lunch   \n\n       Heroes Adjustment  \n0                  False  \n1                  False  \n2                  False  \n3                  False  \n4                  False  \n...                  ...  \n50012              False  \n50013              False  \n50014              False  \n50015              False  \n50016              False  \n\n[50017 rows x 12 columns]",
      "text/html": "<div>\n<style scoped>\n    .dataframe tbody tr th:only-of-type {\n        vertical-align: middle;\n    }\n\n    .dataframe tbody tr th {\n        vertical-align: top;\n    }\n\n    .dataframe thead th {\n        text-align: right;\n    }\n</style>\n<table border=\"1\" class=\"dataframe\">\n  <thead>\n    <tr style=\"text-align: right;\">\n      <th></th>\n      <th>Order Id</th>\n      <th>Company Id</th>\n      <th>Company Name</th>\n      <th>Date</th>\n      <th>Order Value</th>\n      <th>Converted</th>\n      <th>Meal Id</th>\n      <th>Date of Meal</th>\n      <th>Participants</th>\n      <th>Meal Price</th>\n      <th>Type of Meal</th>\n      <th>Heroes Adjustment</th>\n    </tr>\n  </thead>\n  <tbody>\n    <tr>\n      <th>0</th>\n      <td>839FKFW2LLX4LMBB</td>\n      <td>LJKS5NK6788CYMUU</td>\n      <td>Chimera-Chasing Casbah</td>\n      <td>2016-05-27</td>\n      <td>4837</td>\n      <td>0</td>\n      <td>INBUX904GIHI8YBD</td>\n      <td>2016-05-31 05:00:00+00:00</td>\n      <td>['David Bishop']</td>\n      <td>469</td>\n      <td>Breakfast</td>\n      <td>False</td>\n    </tr>\n    <tr>\n      <th>1</th>\n      <td>97OX39BGVMHODLJM</td>\n      <td>LJKS5NK6788CYMUU</td>\n      <td>Chimera-Chasing Casbah</td>\n      <td>2018-09-27</td>\n      <td>343</td>\n      <td>0</td>\n      <td>J0MMOOPP709DIDIE</td>\n      <td>2018-10-01 18:00:00+00:00</td>\n      <td>['David Bishop']</td>\n      <td>22</td>\n      <td>Dinner</td>\n      <td>False</td>\n    </tr>\n    <tr>\n      <th>2</th>\n      <td>041ORQM5OIHTIU6L</td>\n      <td>LJKS5NK6788CYMUU</td>\n      <td>Chimera-Chasing Casbah</td>\n      <td>2014-08-24</td>\n      <td>4185</td>\n      <td>0</td>\n      <td>E4UJLQNCI16UX5CS</td>\n      <td>2014-08-23 12:00:00+00:00</td>\n      <td>['Karen Stansell']</td>\n      <td>314</td>\n      <td>Lunch</td>\n      <td>False</td>\n    </tr>\n    <tr>\n      <th>3</th>\n      <td>YT796QI18WNGZ7ZJ</td>\n      <td>LJKS5NK6788CYMUU</td>\n      <td>Chimera-Chasing Casbah</td>\n      <td>2014-04-12</td>\n      <td>5839</td>\n      <td>0</td>\n      <td>C9SDFHF7553BE247</td>\n      <td>2014-04-07 19:00:00+00:00</td>\n      <td>['Addie Patino']</td>\n      <td>438</td>\n      <td>Dinner</td>\n      <td>False</td>\n    </tr>\n    <tr>\n      <th>4</th>\n      <td>6YLROQT27B6HRF4E</td>\n      <td>LJKS5NK6788CYMUU</td>\n      <td>Chimera-Chasing Casbah</td>\n      <td>2015-07-28</td>\n      <td>8841</td>\n      <td>0</td>\n      <td>48EQXS6IHYNZDDZ5</td>\n      <td>2015-07-27 12:00:00+00:00</td>\n      <td>['Addie Patino' 'Susan Guerrero']</td>\n      <td>690</td>\n      <td>Lunch</td>\n      <td>False</td>\n    </tr>\n    <tr>\n      <th>...</th>\n      <td>...</td>\n      <td>...</td>\n      <td>...</td>\n      <td>...</td>\n      <td>...</td>\n      <td>...</td>\n      <td>...</td>\n      <td>...</td>\n      <td>...</td>\n      <td>...</td>\n      <td>...</td>\n      <td>...</td>\n    </tr>\n    <tr>\n      <th>50012</th>\n      <td>4OMS8ZSA0UX8LHWI</td>\n      <td>E4K99D4JR9E40VE1</td>\n      <td>Fierce Productivity</td>\n      <td>2017-09-20</td>\n      <td>110</td>\n      <td>0</td>\n      <td>1TD5MROATV1NHZ4Y</td>\n      <td>2017-09-21 06:00:00+00:00</td>\n      <td>['Regina Shirley']</td>\n      <td>9</td>\n      <td>Breakfast</td>\n      <td>False</td>\n    </tr>\n    <tr>\n      <th>50013</th>\n      <td>RR0VKJN8V0KHNKGG</td>\n      <td>E4K99D4JR9E40VE1</td>\n      <td>Fierce Productivity</td>\n      <td>2018-03-19</td>\n      <td>356</td>\n      <td>0</td>\n      <td>22EX9VZSJKHP4AIP</td>\n      <td>2018-03-18 08:00:00+00:00</td>\n      <td>['Robin Ramos' 'Chester Mortimer']</td>\n      <td>25</td>\n      <td>Breakfast</td>\n      <td>False</td>\n    </tr>\n    <tr>\n      <th>50014</th>\n      <td>STJ6QJC30WPRM93H</td>\n      <td>E4K99D4JR9E40VE1</td>\n      <td>Fierce Productivity</td>\n      <td>2017-09-21</td>\n      <td>2228</td>\n      <td>1</td>\n      <td>LMX18PNGWCIMG1QW</td>\n      <td>2017-09-22 19:00:00+00:00</td>\n      <td>['Robin Ramos']</td>\n      <td>160</td>\n      <td>Dinner</td>\n      <td>False</td>\n    </tr>\n    <tr>\n      <th>50015</th>\n      <td>QHEUIYNC0XQX7GDR</td>\n      <td>E4K99D4JR9E40VE1</td>\n      <td>Fierce Productivity</td>\n      <td>2018-01-28</td>\n      <td>8869</td>\n      <td>0</td>\n      <td>4U0VH2TGQL30X23X</td>\n      <td>2018-02-01 20:00:00+00:00</td>\n      <td>['Chester Mortimer' 'Robin Ramos']</td>\n      <td>497</td>\n      <td>Dinner</td>\n      <td>False</td>\n    </tr>\n    <tr>\n      <th>50016</th>\n      <td>NKHFWT5I2J9LPAPG</td>\n      <td>E4K99D4JR9E40VE1</td>\n      <td>Fierce Productivity</td>\n      <td>2017-09-06</td>\n      <td>5138</td>\n      <td>0</td>\n      <td>ORWFRT5TUSYGNYG7</td>\n      <td>2017-09-09 12:00:00+00:00</td>\n      <td>['Chester Mortimer' 'Robin Ramos']</td>\n      <td>365</td>\n      <td>Lunch</td>\n      <td>False</td>\n    </tr>\n  </tbody>\n</table>\n<p>50017 rows × 12 columns</p>\n</div>"
     },
     "execution_count": 79,
     "metadata": {},
     "output_type": "execute_result"
    }
   ],
   "source": [
    "pd.merge(order_leads, invoices, how='inner')"
   ],
   "metadata": {
    "collapsed": false,
    "pycharm": {
     "name": "#%%\n"
    }
   }
  },
  {
   "cell_type": "code",
   "execution_count": 80,
   "outputs": [
    {
     "data": {
      "text/plain": "               Order Id        Company Id            Company Name       Date  \\\n0      80EYLOKP9E762WKG  LJKS5NK6788CYMUU  Chimera-Chasing Casbah 2017-02-18   \n1      TLEXR1HZWTUTBHPB  LJKS5NK6788CYMUU  Chimera-Chasing Casbah 2015-07-30   \n2      839FKFW2LLX4LMBB  LJKS5NK6788CYMUU  Chimera-Chasing Casbah 2016-05-27   \n3      97OX39BGVMHODLJM  LJKS5NK6788CYMUU  Chimera-Chasing Casbah 2018-09-27   \n4      5T4LGH4XGBWOD49Z  LJKS5NK6788CYMUU  Chimera-Chasing Casbah 2016-01-14   \n...                 ...               ...                     ...        ...   \n99995  4MFHIAQKH0HCACJM  E4K99D4JR9E40VE1     Fierce Productivity 2015-07-25   \n99996  K1UP23P8SIY1YION  E4K99D4JR9E40VE1     Fierce Productivity 2015-08-24   \n99997  NKHFWT5I2J9LPAPG  E4K99D4JR9E40VE1     Fierce Productivity 2017-09-06   \n99998  OF79M3H9C44UM6PO  E4K99D4JR9E40VE1     Fierce Productivity 2015-10-29   \n99999  EHN2QR78K2RX0FQ9  E4K99D4JR9E40VE1     Fierce Productivity 2015-03-07   \n\n       Order Value  Converted           Meal Id              Date of Meal  \\\n0             4875          1               NaN                       NaT   \n1             8425          0               NaN                       NaT   \n2             4837          0  INBUX904GIHI8YBD 2016-05-31 05:00:00+00:00   \n3              343          0  J0MMOOPP709DIDIE 2018-10-01 18:00:00+00:00   \n4              983          0               NaN                       NaT   \n...            ...        ...               ...                       ...   \n99995         4851          0               NaN                       NaT   \n99996         7868          0               NaN                       NaT   \n99997         5138          0  ORWFRT5TUSYGNYG7 2017-09-09 12:00:00+00:00   \n99998         2036          0               NaN                       NaT   \n99999         7183          0               NaN                       NaT   \n\n                             Participants  Meal Price Type of Meal  \\\n0                                     NaN         NaN          NaN   \n1                                     NaN         NaN          NaN   \n2                        ['David Bishop']       469.0    Breakfast   \n3                        ['David Bishop']        22.0       Dinner   \n4                                     NaN         NaN          NaN   \n...                                   ...         ...          ...   \n99995                                 NaN         NaN          NaN   \n99996                                 NaN         NaN          NaN   \n99997  ['Chester Mortimer' 'Robin Ramos']       365.0        Lunch   \n99998                                 NaN         NaN          NaN   \n99999                                 NaN         NaN          NaN   \n\n      Heroes Adjustment  \n0                   NaN  \n1                   NaN  \n2                 False  \n3                 False  \n4                   NaN  \n...                 ...  \n99995               NaN  \n99996               NaN  \n99997             False  \n99998               NaN  \n99999               NaN  \n\n[100000 rows x 12 columns]",
      "text/html": "<div>\n<style scoped>\n    .dataframe tbody tr th:only-of-type {\n        vertical-align: middle;\n    }\n\n    .dataframe tbody tr th {\n        vertical-align: top;\n    }\n\n    .dataframe thead th {\n        text-align: right;\n    }\n</style>\n<table border=\"1\" class=\"dataframe\">\n  <thead>\n    <tr style=\"text-align: right;\">\n      <th></th>\n      <th>Order Id</th>\n      <th>Company Id</th>\n      <th>Company Name</th>\n      <th>Date</th>\n      <th>Order Value</th>\n      <th>Converted</th>\n      <th>Meal Id</th>\n      <th>Date of Meal</th>\n      <th>Participants</th>\n      <th>Meal Price</th>\n      <th>Type of Meal</th>\n      <th>Heroes Adjustment</th>\n    </tr>\n  </thead>\n  <tbody>\n    <tr>\n      <th>0</th>\n      <td>80EYLOKP9E762WKG</td>\n      <td>LJKS5NK6788CYMUU</td>\n      <td>Chimera-Chasing Casbah</td>\n      <td>2017-02-18</td>\n      <td>4875</td>\n      <td>1</td>\n      <td>NaN</td>\n      <td>NaT</td>\n      <td>NaN</td>\n      <td>NaN</td>\n      <td>NaN</td>\n      <td>NaN</td>\n    </tr>\n    <tr>\n      <th>1</th>\n      <td>TLEXR1HZWTUTBHPB</td>\n      <td>LJKS5NK6788CYMUU</td>\n      <td>Chimera-Chasing Casbah</td>\n      <td>2015-07-30</td>\n      <td>8425</td>\n      <td>0</td>\n      <td>NaN</td>\n      <td>NaT</td>\n      <td>NaN</td>\n      <td>NaN</td>\n      <td>NaN</td>\n      <td>NaN</td>\n    </tr>\n    <tr>\n      <th>2</th>\n      <td>839FKFW2LLX4LMBB</td>\n      <td>LJKS5NK6788CYMUU</td>\n      <td>Chimera-Chasing Casbah</td>\n      <td>2016-05-27</td>\n      <td>4837</td>\n      <td>0</td>\n      <td>INBUX904GIHI8YBD</td>\n      <td>2016-05-31 05:00:00+00:00</td>\n      <td>['David Bishop']</td>\n      <td>469.0</td>\n      <td>Breakfast</td>\n      <td>False</td>\n    </tr>\n    <tr>\n      <th>3</th>\n      <td>97OX39BGVMHODLJM</td>\n      <td>LJKS5NK6788CYMUU</td>\n      <td>Chimera-Chasing Casbah</td>\n      <td>2018-09-27</td>\n      <td>343</td>\n      <td>0</td>\n      <td>J0MMOOPP709DIDIE</td>\n      <td>2018-10-01 18:00:00+00:00</td>\n      <td>['David Bishop']</td>\n      <td>22.0</td>\n      <td>Dinner</td>\n      <td>False</td>\n    </tr>\n    <tr>\n      <th>4</th>\n      <td>5T4LGH4XGBWOD49Z</td>\n      <td>LJKS5NK6788CYMUU</td>\n      <td>Chimera-Chasing Casbah</td>\n      <td>2016-01-14</td>\n      <td>983</td>\n      <td>0</td>\n      <td>NaN</td>\n      <td>NaT</td>\n      <td>NaN</td>\n      <td>NaN</td>\n      <td>NaN</td>\n      <td>NaN</td>\n    </tr>\n    <tr>\n      <th>...</th>\n      <td>...</td>\n      <td>...</td>\n      <td>...</td>\n      <td>...</td>\n      <td>...</td>\n      <td>...</td>\n      <td>...</td>\n      <td>...</td>\n      <td>...</td>\n      <td>...</td>\n      <td>...</td>\n      <td>...</td>\n    </tr>\n    <tr>\n      <th>99995</th>\n      <td>4MFHIAQKH0HCACJM</td>\n      <td>E4K99D4JR9E40VE1</td>\n      <td>Fierce Productivity</td>\n      <td>2015-07-25</td>\n      <td>4851</td>\n      <td>0</td>\n      <td>NaN</td>\n      <td>NaT</td>\n      <td>NaN</td>\n      <td>NaN</td>\n      <td>NaN</td>\n      <td>NaN</td>\n    </tr>\n    <tr>\n      <th>99996</th>\n      <td>K1UP23P8SIY1YION</td>\n      <td>E4K99D4JR9E40VE1</td>\n      <td>Fierce Productivity</td>\n      <td>2015-08-24</td>\n      <td>7868</td>\n      <td>0</td>\n      <td>NaN</td>\n      <td>NaT</td>\n      <td>NaN</td>\n      <td>NaN</td>\n      <td>NaN</td>\n      <td>NaN</td>\n    </tr>\n    <tr>\n      <th>99997</th>\n      <td>NKHFWT5I2J9LPAPG</td>\n      <td>E4K99D4JR9E40VE1</td>\n      <td>Fierce Productivity</td>\n      <td>2017-09-06</td>\n      <td>5138</td>\n      <td>0</td>\n      <td>ORWFRT5TUSYGNYG7</td>\n      <td>2017-09-09 12:00:00+00:00</td>\n      <td>['Chester Mortimer' 'Robin Ramos']</td>\n      <td>365.0</td>\n      <td>Lunch</td>\n      <td>False</td>\n    </tr>\n    <tr>\n      <th>99998</th>\n      <td>OF79M3H9C44UM6PO</td>\n      <td>E4K99D4JR9E40VE1</td>\n      <td>Fierce Productivity</td>\n      <td>2015-10-29</td>\n      <td>2036</td>\n      <td>0</td>\n      <td>NaN</td>\n      <td>NaT</td>\n      <td>NaN</td>\n      <td>NaN</td>\n      <td>NaN</td>\n      <td>NaN</td>\n    </tr>\n    <tr>\n      <th>99999</th>\n      <td>EHN2QR78K2RX0FQ9</td>\n      <td>E4K99D4JR9E40VE1</td>\n      <td>Fierce Productivity</td>\n      <td>2015-03-07</td>\n      <td>7183</td>\n      <td>0</td>\n      <td>NaN</td>\n      <td>NaT</td>\n      <td>NaN</td>\n      <td>NaN</td>\n      <td>NaN</td>\n      <td>NaN</td>\n    </tr>\n  </tbody>\n</table>\n<p>100000 rows × 12 columns</p>\n</div>"
     },
     "execution_count": 80,
     "metadata": {},
     "output_type": "execute_result"
    }
   ],
   "source": [
    "pd.merge(order_leads, invoices, how='left')"
   ],
   "metadata": {
    "collapsed": false,
    "pycharm": {
     "name": "#%%\n"
    }
   }
  },
  {
   "cell_type": "code",
   "execution_count": 81,
   "outputs": [
    {
     "data": {
      "text/plain": "               Order Id        Company Id            Company Name       Date  \\\n0      839FKFW2LLX4LMBB  LJKS5NK6788CYMUU  Chimera-Chasing Casbah 2016-05-27   \n1      97OX39BGVMHODLJM  LJKS5NK6788CYMUU  Chimera-Chasing Casbah 2018-09-27   \n2      041ORQM5OIHTIU6L  LJKS5NK6788CYMUU  Chimera-Chasing Casbah 2014-08-24   \n3      YT796QI18WNGZ7ZJ  LJKS5NK6788CYMUU  Chimera-Chasing Casbah 2014-04-12   \n4      6YLROQT27B6HRF4E  LJKS5NK6788CYMUU  Chimera-Chasing Casbah 2015-07-28   \n...                 ...               ...                     ...        ...   \n50012  4OMS8ZSA0UX8LHWI  E4K99D4JR9E40VE1     Fierce Productivity 2017-09-20   \n50013  RR0VKJN8V0KHNKGG  E4K99D4JR9E40VE1     Fierce Productivity 2018-03-19   \n50014  STJ6QJC30WPRM93H  E4K99D4JR9E40VE1     Fierce Productivity 2017-09-21   \n50015  QHEUIYNC0XQX7GDR  E4K99D4JR9E40VE1     Fierce Productivity 2018-01-28   \n50016  NKHFWT5I2J9LPAPG  E4K99D4JR9E40VE1     Fierce Productivity 2017-09-06   \n\n       Order Value  Converted           Meal Id              Date of Meal  \\\n0             4837          0  INBUX904GIHI8YBD 2016-05-31 05:00:00+00:00   \n1              343          0  J0MMOOPP709DIDIE 2018-10-01 18:00:00+00:00   \n2             4185          0  E4UJLQNCI16UX5CS 2014-08-23 12:00:00+00:00   \n3             5839          0  C9SDFHF7553BE247 2014-04-07 19:00:00+00:00   \n4             8841          0  48EQXS6IHYNZDDZ5 2015-07-27 12:00:00+00:00   \n...            ...        ...               ...                       ...   \n50012          110          0  1TD5MROATV1NHZ4Y 2017-09-21 06:00:00+00:00   \n50013          356          0  22EX9VZSJKHP4AIP 2018-03-18 08:00:00+00:00   \n50014         2228          1  LMX18PNGWCIMG1QW 2017-09-22 19:00:00+00:00   \n50015         8869          0  4U0VH2TGQL30X23X 2018-02-01 20:00:00+00:00   \n50016         5138          0  ORWFRT5TUSYGNYG7 2017-09-09 12:00:00+00:00   \n\n                             Participants  Meal Price Type of Meal  \\\n0                        ['David Bishop']         469    Breakfast   \n1                        ['David Bishop']          22       Dinner   \n2                      ['Karen Stansell']         314        Lunch   \n3                        ['Addie Patino']         438       Dinner   \n4       ['Addie Patino' 'Susan Guerrero']         690        Lunch   \n...                                   ...         ...          ...   \n50012                  ['Regina Shirley']           9    Breakfast   \n50013  ['Robin Ramos' 'Chester Mortimer']          25    Breakfast   \n50014                     ['Robin Ramos']         160       Dinner   \n50015  ['Chester Mortimer' 'Robin Ramos']         497       Dinner   \n50016  ['Chester Mortimer' 'Robin Ramos']         365        Lunch   \n\n       Heroes Adjustment  \n0                  False  \n1                  False  \n2                  False  \n3                  False  \n4                  False  \n...                  ...  \n50012              False  \n50013              False  \n50014              False  \n50015              False  \n50016              False  \n\n[50017 rows x 12 columns]",
      "text/html": "<div>\n<style scoped>\n    .dataframe tbody tr th:only-of-type {\n        vertical-align: middle;\n    }\n\n    .dataframe tbody tr th {\n        vertical-align: top;\n    }\n\n    .dataframe thead th {\n        text-align: right;\n    }\n</style>\n<table border=\"1\" class=\"dataframe\">\n  <thead>\n    <tr style=\"text-align: right;\">\n      <th></th>\n      <th>Order Id</th>\n      <th>Company Id</th>\n      <th>Company Name</th>\n      <th>Date</th>\n      <th>Order Value</th>\n      <th>Converted</th>\n      <th>Meal Id</th>\n      <th>Date of Meal</th>\n      <th>Participants</th>\n      <th>Meal Price</th>\n      <th>Type of Meal</th>\n      <th>Heroes Adjustment</th>\n    </tr>\n  </thead>\n  <tbody>\n    <tr>\n      <th>0</th>\n      <td>839FKFW2LLX4LMBB</td>\n      <td>LJKS5NK6788CYMUU</td>\n      <td>Chimera-Chasing Casbah</td>\n      <td>2016-05-27</td>\n      <td>4837</td>\n      <td>0</td>\n      <td>INBUX904GIHI8YBD</td>\n      <td>2016-05-31 05:00:00+00:00</td>\n      <td>['David Bishop']</td>\n      <td>469</td>\n      <td>Breakfast</td>\n      <td>False</td>\n    </tr>\n    <tr>\n      <th>1</th>\n      <td>97OX39BGVMHODLJM</td>\n      <td>LJKS5NK6788CYMUU</td>\n      <td>Chimera-Chasing Casbah</td>\n      <td>2018-09-27</td>\n      <td>343</td>\n      <td>0</td>\n      <td>J0MMOOPP709DIDIE</td>\n      <td>2018-10-01 18:00:00+00:00</td>\n      <td>['David Bishop']</td>\n      <td>22</td>\n      <td>Dinner</td>\n      <td>False</td>\n    </tr>\n    <tr>\n      <th>2</th>\n      <td>041ORQM5OIHTIU6L</td>\n      <td>LJKS5NK6788CYMUU</td>\n      <td>Chimera-Chasing Casbah</td>\n      <td>2014-08-24</td>\n      <td>4185</td>\n      <td>0</td>\n      <td>E4UJLQNCI16UX5CS</td>\n      <td>2014-08-23 12:00:00+00:00</td>\n      <td>['Karen Stansell']</td>\n      <td>314</td>\n      <td>Lunch</td>\n      <td>False</td>\n    </tr>\n    <tr>\n      <th>3</th>\n      <td>YT796QI18WNGZ7ZJ</td>\n      <td>LJKS5NK6788CYMUU</td>\n      <td>Chimera-Chasing Casbah</td>\n      <td>2014-04-12</td>\n      <td>5839</td>\n      <td>0</td>\n      <td>C9SDFHF7553BE247</td>\n      <td>2014-04-07 19:00:00+00:00</td>\n      <td>['Addie Patino']</td>\n      <td>438</td>\n      <td>Dinner</td>\n      <td>False</td>\n    </tr>\n    <tr>\n      <th>4</th>\n      <td>6YLROQT27B6HRF4E</td>\n      <td>LJKS5NK6788CYMUU</td>\n      <td>Chimera-Chasing Casbah</td>\n      <td>2015-07-28</td>\n      <td>8841</td>\n      <td>0</td>\n      <td>48EQXS6IHYNZDDZ5</td>\n      <td>2015-07-27 12:00:00+00:00</td>\n      <td>['Addie Patino' 'Susan Guerrero']</td>\n      <td>690</td>\n      <td>Lunch</td>\n      <td>False</td>\n    </tr>\n    <tr>\n      <th>...</th>\n      <td>...</td>\n      <td>...</td>\n      <td>...</td>\n      <td>...</td>\n      <td>...</td>\n      <td>...</td>\n      <td>...</td>\n      <td>...</td>\n      <td>...</td>\n      <td>...</td>\n      <td>...</td>\n      <td>...</td>\n    </tr>\n    <tr>\n      <th>50012</th>\n      <td>4OMS8ZSA0UX8LHWI</td>\n      <td>E4K99D4JR9E40VE1</td>\n      <td>Fierce Productivity</td>\n      <td>2017-09-20</td>\n      <td>110</td>\n      <td>0</td>\n      <td>1TD5MROATV1NHZ4Y</td>\n      <td>2017-09-21 06:00:00+00:00</td>\n      <td>['Regina Shirley']</td>\n      <td>9</td>\n      <td>Breakfast</td>\n      <td>False</td>\n    </tr>\n    <tr>\n      <th>50013</th>\n      <td>RR0VKJN8V0KHNKGG</td>\n      <td>E4K99D4JR9E40VE1</td>\n      <td>Fierce Productivity</td>\n      <td>2018-03-19</td>\n      <td>356</td>\n      <td>0</td>\n      <td>22EX9VZSJKHP4AIP</td>\n      <td>2018-03-18 08:00:00+00:00</td>\n      <td>['Robin Ramos' 'Chester Mortimer']</td>\n      <td>25</td>\n      <td>Breakfast</td>\n      <td>False</td>\n    </tr>\n    <tr>\n      <th>50014</th>\n      <td>STJ6QJC30WPRM93H</td>\n      <td>E4K99D4JR9E40VE1</td>\n      <td>Fierce Productivity</td>\n      <td>2017-09-21</td>\n      <td>2228</td>\n      <td>1</td>\n      <td>LMX18PNGWCIMG1QW</td>\n      <td>2017-09-22 19:00:00+00:00</td>\n      <td>['Robin Ramos']</td>\n      <td>160</td>\n      <td>Dinner</td>\n      <td>False</td>\n    </tr>\n    <tr>\n      <th>50015</th>\n      <td>QHEUIYNC0XQX7GDR</td>\n      <td>E4K99D4JR9E40VE1</td>\n      <td>Fierce Productivity</td>\n      <td>2018-01-28</td>\n      <td>8869</td>\n      <td>0</td>\n      <td>4U0VH2TGQL30X23X</td>\n      <td>2018-02-01 20:00:00+00:00</td>\n      <td>['Chester Mortimer' 'Robin Ramos']</td>\n      <td>497</td>\n      <td>Dinner</td>\n      <td>False</td>\n    </tr>\n    <tr>\n      <th>50016</th>\n      <td>NKHFWT5I2J9LPAPG</td>\n      <td>E4K99D4JR9E40VE1</td>\n      <td>Fierce Productivity</td>\n      <td>2017-09-06</td>\n      <td>5138</td>\n      <td>0</td>\n      <td>ORWFRT5TUSYGNYG7</td>\n      <td>2017-09-09 12:00:00+00:00</td>\n      <td>['Chester Mortimer' 'Robin Ramos']</td>\n      <td>365</td>\n      <td>Lunch</td>\n      <td>False</td>\n    </tr>\n  </tbody>\n</table>\n<p>50017 rows × 12 columns</p>\n</div>"
     },
     "execution_count": 81,
     "metadata": {},
     "output_type": "execute_result"
    }
   ],
   "source": [
    "pd.merge(order_leads, invoices, how='right')"
   ],
   "metadata": {
    "collapsed": false,
    "pycharm": {
     "name": "#%%\n"
    }
   }
  },
  {
   "cell_type": "code",
   "execution_count": 82,
   "outputs": [
    {
     "data": {
      "text/plain": "               Order Id        Company Id            Company Name       Date  \\\n0      80EYLOKP9E762WKG  LJKS5NK6788CYMUU  Chimera-Chasing Casbah 2017-02-18   \n1      TLEXR1HZWTUTBHPB  LJKS5NK6788CYMUU  Chimera-Chasing Casbah 2015-07-30   \n2      839FKFW2LLX4LMBB  LJKS5NK6788CYMUU  Chimera-Chasing Casbah 2016-05-27   \n3      97OX39BGVMHODLJM  LJKS5NK6788CYMUU  Chimera-Chasing Casbah 2018-09-27   \n4      5T4LGH4XGBWOD49Z  LJKS5NK6788CYMUU  Chimera-Chasing Casbah 2016-01-14   \n...                 ...               ...                     ...        ...   \n99995  4MFHIAQKH0HCACJM  E4K99D4JR9E40VE1     Fierce Productivity 2015-07-25   \n99996  K1UP23P8SIY1YION  E4K99D4JR9E40VE1     Fierce Productivity 2015-08-24   \n99997  NKHFWT5I2J9LPAPG  E4K99D4JR9E40VE1     Fierce Productivity 2017-09-06   \n99998  OF79M3H9C44UM6PO  E4K99D4JR9E40VE1     Fierce Productivity 2015-10-29   \n99999  EHN2QR78K2RX0FQ9  E4K99D4JR9E40VE1     Fierce Productivity 2015-03-07   \n\n       Order Value  Converted           Meal Id              Date of Meal  \\\n0             4875          1               NaN                       NaT   \n1             8425          0               NaN                       NaT   \n2             4837          0  INBUX904GIHI8YBD 2016-05-31 05:00:00+00:00   \n3              343          0  J0MMOOPP709DIDIE 2018-10-01 18:00:00+00:00   \n4              983          0               NaN                       NaT   \n...            ...        ...               ...                       ...   \n99995         4851          0               NaN                       NaT   \n99996         7868          0               NaN                       NaT   \n99997         5138          0  ORWFRT5TUSYGNYG7 2017-09-09 12:00:00+00:00   \n99998         2036          0               NaN                       NaT   \n99999         7183          0               NaN                       NaT   \n\n                             Participants  Meal Price Type of Meal  \\\n0                                     NaN         NaN          NaN   \n1                                     NaN         NaN          NaN   \n2                        ['David Bishop']       469.0    Breakfast   \n3                        ['David Bishop']        22.0       Dinner   \n4                                     NaN         NaN          NaN   \n...                                   ...         ...          ...   \n99995                                 NaN         NaN          NaN   \n99996                                 NaN         NaN          NaN   \n99997  ['Chester Mortimer' 'Robin Ramos']       365.0        Lunch   \n99998                                 NaN         NaN          NaN   \n99999                                 NaN         NaN          NaN   \n\n      Heroes Adjustment  \n0                   NaN  \n1                   NaN  \n2                 False  \n3                 False  \n4                   NaN  \n...                 ...  \n99995               NaN  \n99996               NaN  \n99997             False  \n99998               NaN  \n99999               NaN  \n\n[100000 rows x 12 columns]",
      "text/html": "<div>\n<style scoped>\n    .dataframe tbody tr th:only-of-type {\n        vertical-align: middle;\n    }\n\n    .dataframe tbody tr th {\n        vertical-align: top;\n    }\n\n    .dataframe thead th {\n        text-align: right;\n    }\n</style>\n<table border=\"1\" class=\"dataframe\">\n  <thead>\n    <tr style=\"text-align: right;\">\n      <th></th>\n      <th>Order Id</th>\n      <th>Company Id</th>\n      <th>Company Name</th>\n      <th>Date</th>\n      <th>Order Value</th>\n      <th>Converted</th>\n      <th>Meal Id</th>\n      <th>Date of Meal</th>\n      <th>Participants</th>\n      <th>Meal Price</th>\n      <th>Type of Meal</th>\n      <th>Heroes Adjustment</th>\n    </tr>\n  </thead>\n  <tbody>\n    <tr>\n      <th>0</th>\n      <td>80EYLOKP9E762WKG</td>\n      <td>LJKS5NK6788CYMUU</td>\n      <td>Chimera-Chasing Casbah</td>\n      <td>2017-02-18</td>\n      <td>4875</td>\n      <td>1</td>\n      <td>NaN</td>\n      <td>NaT</td>\n      <td>NaN</td>\n      <td>NaN</td>\n      <td>NaN</td>\n      <td>NaN</td>\n    </tr>\n    <tr>\n      <th>1</th>\n      <td>TLEXR1HZWTUTBHPB</td>\n      <td>LJKS5NK6788CYMUU</td>\n      <td>Chimera-Chasing Casbah</td>\n      <td>2015-07-30</td>\n      <td>8425</td>\n      <td>0</td>\n      <td>NaN</td>\n      <td>NaT</td>\n      <td>NaN</td>\n      <td>NaN</td>\n      <td>NaN</td>\n      <td>NaN</td>\n    </tr>\n    <tr>\n      <th>2</th>\n      <td>839FKFW2LLX4LMBB</td>\n      <td>LJKS5NK6788CYMUU</td>\n      <td>Chimera-Chasing Casbah</td>\n      <td>2016-05-27</td>\n      <td>4837</td>\n      <td>0</td>\n      <td>INBUX904GIHI8YBD</td>\n      <td>2016-05-31 05:00:00+00:00</td>\n      <td>['David Bishop']</td>\n      <td>469.0</td>\n      <td>Breakfast</td>\n      <td>False</td>\n    </tr>\n    <tr>\n      <th>3</th>\n      <td>97OX39BGVMHODLJM</td>\n      <td>LJKS5NK6788CYMUU</td>\n      <td>Chimera-Chasing Casbah</td>\n      <td>2018-09-27</td>\n      <td>343</td>\n      <td>0</td>\n      <td>J0MMOOPP709DIDIE</td>\n      <td>2018-10-01 18:00:00+00:00</td>\n      <td>['David Bishop']</td>\n      <td>22.0</td>\n      <td>Dinner</td>\n      <td>False</td>\n    </tr>\n    <tr>\n      <th>4</th>\n      <td>5T4LGH4XGBWOD49Z</td>\n      <td>LJKS5NK6788CYMUU</td>\n      <td>Chimera-Chasing Casbah</td>\n      <td>2016-01-14</td>\n      <td>983</td>\n      <td>0</td>\n      <td>NaN</td>\n      <td>NaT</td>\n      <td>NaN</td>\n      <td>NaN</td>\n      <td>NaN</td>\n      <td>NaN</td>\n    </tr>\n    <tr>\n      <th>...</th>\n      <td>...</td>\n      <td>...</td>\n      <td>...</td>\n      <td>...</td>\n      <td>...</td>\n      <td>...</td>\n      <td>...</td>\n      <td>...</td>\n      <td>...</td>\n      <td>...</td>\n      <td>...</td>\n      <td>...</td>\n    </tr>\n    <tr>\n      <th>99995</th>\n      <td>4MFHIAQKH0HCACJM</td>\n      <td>E4K99D4JR9E40VE1</td>\n      <td>Fierce Productivity</td>\n      <td>2015-07-25</td>\n      <td>4851</td>\n      <td>0</td>\n      <td>NaN</td>\n      <td>NaT</td>\n      <td>NaN</td>\n      <td>NaN</td>\n      <td>NaN</td>\n      <td>NaN</td>\n    </tr>\n    <tr>\n      <th>99996</th>\n      <td>K1UP23P8SIY1YION</td>\n      <td>E4K99D4JR9E40VE1</td>\n      <td>Fierce Productivity</td>\n      <td>2015-08-24</td>\n      <td>7868</td>\n      <td>0</td>\n      <td>NaN</td>\n      <td>NaT</td>\n      <td>NaN</td>\n      <td>NaN</td>\n      <td>NaN</td>\n      <td>NaN</td>\n    </tr>\n    <tr>\n      <th>99997</th>\n      <td>NKHFWT5I2J9LPAPG</td>\n      <td>E4K99D4JR9E40VE1</td>\n      <td>Fierce Productivity</td>\n      <td>2017-09-06</td>\n      <td>5138</td>\n      <td>0</td>\n      <td>ORWFRT5TUSYGNYG7</td>\n      <td>2017-09-09 12:00:00+00:00</td>\n      <td>['Chester Mortimer' 'Robin Ramos']</td>\n      <td>365.0</td>\n      <td>Lunch</td>\n      <td>False</td>\n    </tr>\n    <tr>\n      <th>99998</th>\n      <td>OF79M3H9C44UM6PO</td>\n      <td>E4K99D4JR9E40VE1</td>\n      <td>Fierce Productivity</td>\n      <td>2015-10-29</td>\n      <td>2036</td>\n      <td>0</td>\n      <td>NaN</td>\n      <td>NaT</td>\n      <td>NaN</td>\n      <td>NaN</td>\n      <td>NaN</td>\n      <td>NaN</td>\n    </tr>\n    <tr>\n      <th>99999</th>\n      <td>EHN2QR78K2RX0FQ9</td>\n      <td>E4K99D4JR9E40VE1</td>\n      <td>Fierce Productivity</td>\n      <td>2015-03-07</td>\n      <td>7183</td>\n      <td>0</td>\n      <td>NaN</td>\n      <td>NaT</td>\n      <td>NaN</td>\n      <td>NaN</td>\n      <td>NaN</td>\n      <td>NaN</td>\n    </tr>\n  </tbody>\n</table>\n<p>100000 rows × 12 columns</p>\n</div>"
     },
     "execution_count": 82,
     "metadata": {},
     "output_type": "execute_result"
    }
   ],
   "source": [
    "pd.merge(order_leads, invoices, how='outer')"
   ],
   "metadata": {
    "collapsed": false,
    "pycharm": {
     "name": "#%%\n"
    }
   }
  },
  {
   "cell_type": "code",
   "execution_count": 83,
   "outputs": [
    {
     "data": {
      "text/plain": "               Order Id   Company Id_base            Company Name  Date_base  \\\n0      839FKFW2LLX4LMBB  LJKS5NK6788CYMUU  Chimera-Chasing Casbah 2016-05-27   \n1      97OX39BGVMHODLJM  LJKS5NK6788CYMUU  Chimera-Chasing Casbah 2018-09-27   \n2      041ORQM5OIHTIU6L  LJKS5NK6788CYMUU  Chimera-Chasing Casbah 2014-08-24   \n3      YT796QI18WNGZ7ZJ  LJKS5NK6788CYMUU  Chimera-Chasing Casbah 2014-04-12   \n4      6YLROQT27B6HRF4E  LJKS5NK6788CYMUU  Chimera-Chasing Casbah 2015-07-28   \n...                 ...               ...                     ...        ...   \n50012  4OMS8ZSA0UX8LHWI  E4K99D4JR9E40VE1     Fierce Productivity 2017-09-20   \n50013  RR0VKJN8V0KHNKGG  E4K99D4JR9E40VE1     Fierce Productivity 2018-03-19   \n50014  STJ6QJC30WPRM93H  E4K99D4JR9E40VE1     Fierce Productivity 2017-09-21   \n50015  QHEUIYNC0XQX7GDR  E4K99D4JR9E40VE1     Fierce Productivity 2018-01-28   \n50016  NKHFWT5I2J9LPAPG  E4K99D4JR9E40VE1     Fierce Productivity 2017-09-06   \n\n       Order Value  Converted  Date_join           Meal Id   Company Id_join  \\\n0             4837          0 2016-05-27  INBUX904GIHI8YBD  LJKS5NK6788CYMUU   \n1              343          0 2018-09-27  J0MMOOPP709DIDIE  LJKS5NK6788CYMUU   \n2             4185          0 2014-08-24  E4UJLQNCI16UX5CS  LJKS5NK6788CYMUU   \n3             5839          0 2014-04-12  C9SDFHF7553BE247  LJKS5NK6788CYMUU   \n4             8841          0 2015-07-28  48EQXS6IHYNZDDZ5  LJKS5NK6788CYMUU   \n...            ...        ...        ...               ...               ...   \n50012          110          0 2017-09-20  1TD5MROATV1NHZ4Y  E4K99D4JR9E40VE1   \n50013          356          0 2018-03-19  22EX9VZSJKHP4AIP  E4K99D4JR9E40VE1   \n50014         2228          1 2017-09-21  LMX18PNGWCIMG1QW  E4K99D4JR9E40VE1   \n50015         8869          0 2018-01-28  4U0VH2TGQL30X23X  E4K99D4JR9E40VE1   \n50016         5138          0 2017-09-06  ORWFRT5TUSYGNYG7  E4K99D4JR9E40VE1   \n\n                   Date of Meal                        Participants  \\\n0     2016-05-31 05:00:00+00:00                    ['David Bishop']   \n1     2018-10-01 18:00:00+00:00                    ['David Bishop']   \n2     2014-08-23 12:00:00+00:00                  ['Karen Stansell']   \n3     2014-04-07 19:00:00+00:00                    ['Addie Patino']   \n4     2015-07-27 12:00:00+00:00   ['Addie Patino' 'Susan Guerrero']   \n...                         ...                                 ...   \n50012 2017-09-21 06:00:00+00:00                  ['Regina Shirley']   \n50013 2018-03-18 08:00:00+00:00  ['Robin Ramos' 'Chester Mortimer']   \n50014 2017-09-22 19:00:00+00:00                     ['Robin Ramos']   \n50015 2018-02-01 20:00:00+00:00  ['Chester Mortimer' 'Robin Ramos']   \n50016 2017-09-09 12:00:00+00:00  ['Chester Mortimer' 'Robin Ramos']   \n\n       Meal Price Type of Meal  Heroes Adjustment  \n0             469    Breakfast              False  \n1              22       Dinner              False  \n2             314        Lunch              False  \n3             438       Dinner              False  \n4             690        Lunch              False  \n...           ...          ...                ...  \n50012           9    Breakfast              False  \n50013          25    Breakfast              False  \n50014         160       Dinner              False  \n50015         497       Dinner              False  \n50016         365        Lunch              False  \n\n[50017 rows x 14 columns]",
      "text/html": "<div>\n<style scoped>\n    .dataframe tbody tr th:only-of-type {\n        vertical-align: middle;\n    }\n\n    .dataframe tbody tr th {\n        vertical-align: top;\n    }\n\n    .dataframe thead th {\n        text-align: right;\n    }\n</style>\n<table border=\"1\" class=\"dataframe\">\n  <thead>\n    <tr style=\"text-align: right;\">\n      <th></th>\n      <th>Order Id</th>\n      <th>Company Id_base</th>\n      <th>Company Name</th>\n      <th>Date_base</th>\n      <th>Order Value</th>\n      <th>Converted</th>\n      <th>Date_join</th>\n      <th>Meal Id</th>\n      <th>Company Id_join</th>\n      <th>Date of Meal</th>\n      <th>Participants</th>\n      <th>Meal Price</th>\n      <th>Type of Meal</th>\n      <th>Heroes Adjustment</th>\n    </tr>\n  </thead>\n  <tbody>\n    <tr>\n      <th>0</th>\n      <td>839FKFW2LLX4LMBB</td>\n      <td>LJKS5NK6788CYMUU</td>\n      <td>Chimera-Chasing Casbah</td>\n      <td>2016-05-27</td>\n      <td>4837</td>\n      <td>0</td>\n      <td>2016-05-27</td>\n      <td>INBUX904GIHI8YBD</td>\n      <td>LJKS5NK6788CYMUU</td>\n      <td>2016-05-31 05:00:00+00:00</td>\n      <td>['David Bishop']</td>\n      <td>469</td>\n      <td>Breakfast</td>\n      <td>False</td>\n    </tr>\n    <tr>\n      <th>1</th>\n      <td>97OX39BGVMHODLJM</td>\n      <td>LJKS5NK6788CYMUU</td>\n      <td>Chimera-Chasing Casbah</td>\n      <td>2018-09-27</td>\n      <td>343</td>\n      <td>0</td>\n      <td>2018-09-27</td>\n      <td>J0MMOOPP709DIDIE</td>\n      <td>LJKS5NK6788CYMUU</td>\n      <td>2018-10-01 18:00:00+00:00</td>\n      <td>['David Bishop']</td>\n      <td>22</td>\n      <td>Dinner</td>\n      <td>False</td>\n    </tr>\n    <tr>\n      <th>2</th>\n      <td>041ORQM5OIHTIU6L</td>\n      <td>LJKS5NK6788CYMUU</td>\n      <td>Chimera-Chasing Casbah</td>\n      <td>2014-08-24</td>\n      <td>4185</td>\n      <td>0</td>\n      <td>2014-08-24</td>\n      <td>E4UJLQNCI16UX5CS</td>\n      <td>LJKS5NK6788CYMUU</td>\n      <td>2014-08-23 12:00:00+00:00</td>\n      <td>['Karen Stansell']</td>\n      <td>314</td>\n      <td>Lunch</td>\n      <td>False</td>\n    </tr>\n    <tr>\n      <th>3</th>\n      <td>YT796QI18WNGZ7ZJ</td>\n      <td>LJKS5NK6788CYMUU</td>\n      <td>Chimera-Chasing Casbah</td>\n      <td>2014-04-12</td>\n      <td>5839</td>\n      <td>0</td>\n      <td>2014-04-12</td>\n      <td>C9SDFHF7553BE247</td>\n      <td>LJKS5NK6788CYMUU</td>\n      <td>2014-04-07 19:00:00+00:00</td>\n      <td>['Addie Patino']</td>\n      <td>438</td>\n      <td>Dinner</td>\n      <td>False</td>\n    </tr>\n    <tr>\n      <th>4</th>\n      <td>6YLROQT27B6HRF4E</td>\n      <td>LJKS5NK6788CYMUU</td>\n      <td>Chimera-Chasing Casbah</td>\n      <td>2015-07-28</td>\n      <td>8841</td>\n      <td>0</td>\n      <td>2015-07-28</td>\n      <td>48EQXS6IHYNZDDZ5</td>\n      <td>LJKS5NK6788CYMUU</td>\n      <td>2015-07-27 12:00:00+00:00</td>\n      <td>['Addie Patino' 'Susan Guerrero']</td>\n      <td>690</td>\n      <td>Lunch</td>\n      <td>False</td>\n    </tr>\n    <tr>\n      <th>...</th>\n      <td>...</td>\n      <td>...</td>\n      <td>...</td>\n      <td>...</td>\n      <td>...</td>\n      <td>...</td>\n      <td>...</td>\n      <td>...</td>\n      <td>...</td>\n      <td>...</td>\n      <td>...</td>\n      <td>...</td>\n      <td>...</td>\n      <td>...</td>\n    </tr>\n    <tr>\n      <th>50012</th>\n      <td>4OMS8ZSA0UX8LHWI</td>\n      <td>E4K99D4JR9E40VE1</td>\n      <td>Fierce Productivity</td>\n      <td>2017-09-20</td>\n      <td>110</td>\n      <td>0</td>\n      <td>2017-09-20</td>\n      <td>1TD5MROATV1NHZ4Y</td>\n      <td>E4K99D4JR9E40VE1</td>\n      <td>2017-09-21 06:00:00+00:00</td>\n      <td>['Regina Shirley']</td>\n      <td>9</td>\n      <td>Breakfast</td>\n      <td>False</td>\n    </tr>\n    <tr>\n      <th>50013</th>\n      <td>RR0VKJN8V0KHNKGG</td>\n      <td>E4K99D4JR9E40VE1</td>\n      <td>Fierce Productivity</td>\n      <td>2018-03-19</td>\n      <td>356</td>\n      <td>0</td>\n      <td>2018-03-19</td>\n      <td>22EX9VZSJKHP4AIP</td>\n      <td>E4K99D4JR9E40VE1</td>\n      <td>2018-03-18 08:00:00+00:00</td>\n      <td>['Robin Ramos' 'Chester Mortimer']</td>\n      <td>25</td>\n      <td>Breakfast</td>\n      <td>False</td>\n    </tr>\n    <tr>\n      <th>50014</th>\n      <td>STJ6QJC30WPRM93H</td>\n      <td>E4K99D4JR9E40VE1</td>\n      <td>Fierce Productivity</td>\n      <td>2017-09-21</td>\n      <td>2228</td>\n      <td>1</td>\n      <td>2017-09-21</td>\n      <td>LMX18PNGWCIMG1QW</td>\n      <td>E4K99D4JR9E40VE1</td>\n      <td>2017-09-22 19:00:00+00:00</td>\n      <td>['Robin Ramos']</td>\n      <td>160</td>\n      <td>Dinner</td>\n      <td>False</td>\n    </tr>\n    <tr>\n      <th>50015</th>\n      <td>QHEUIYNC0XQX7GDR</td>\n      <td>E4K99D4JR9E40VE1</td>\n      <td>Fierce Productivity</td>\n      <td>2018-01-28</td>\n      <td>8869</td>\n      <td>0</td>\n      <td>2018-01-28</td>\n      <td>4U0VH2TGQL30X23X</td>\n      <td>E4K99D4JR9E40VE1</td>\n      <td>2018-02-01 20:00:00+00:00</td>\n      <td>['Chester Mortimer' 'Robin Ramos']</td>\n      <td>497</td>\n      <td>Dinner</td>\n      <td>False</td>\n    </tr>\n    <tr>\n      <th>50016</th>\n      <td>NKHFWT5I2J9LPAPG</td>\n      <td>E4K99D4JR9E40VE1</td>\n      <td>Fierce Productivity</td>\n      <td>2017-09-06</td>\n      <td>5138</td>\n      <td>0</td>\n      <td>2017-09-06</td>\n      <td>ORWFRT5TUSYGNYG7</td>\n      <td>E4K99D4JR9E40VE1</td>\n      <td>2017-09-09 12:00:00+00:00</td>\n      <td>['Chester Mortimer' 'Robin Ramos']</td>\n      <td>365</td>\n      <td>Lunch</td>\n      <td>False</td>\n    </tr>\n  </tbody>\n</table>\n<p>50017 rows × 14 columns</p>\n</div>"
     },
     "execution_count": 83,
     "metadata": {},
     "output_type": "execute_result"
    }
   ],
   "source": [
    "pd.merge(order_leads, invoices, on='Order Id', suffixes=('_base', '_join'))"
   ],
   "metadata": {
    "collapsed": false,
    "pycharm": {
     "name": "#%%\n"
    }
   }
  },
  {
   "cell_type": "code",
   "execution_count": 84,
   "outputs": [
    {
     "data": {
      "text/plain": "               Order Id      Company Id_x            Company Name     Date_x  \\\n0      839FKFW2LLX4LMBB  LJKS5NK6788CYMUU  Chimera-Chasing Casbah 2016-05-27   \n1      97OX39BGVMHODLJM  LJKS5NK6788CYMUU  Chimera-Chasing Casbah 2018-09-27   \n2      041ORQM5OIHTIU6L  LJKS5NK6788CYMUU  Chimera-Chasing Casbah 2014-08-24   \n3      YT796QI18WNGZ7ZJ  LJKS5NK6788CYMUU  Chimera-Chasing Casbah 2014-04-12   \n4      6YLROQT27B6HRF4E  LJKS5NK6788CYMUU  Chimera-Chasing Casbah 2015-07-28   \n...                 ...               ...                     ...        ...   \n50012  4OMS8ZSA0UX8LHWI  E4K99D4JR9E40VE1     Fierce Productivity 2017-09-20   \n50013  RR0VKJN8V0KHNKGG  E4K99D4JR9E40VE1     Fierce Productivity 2018-03-19   \n50014  STJ6QJC30WPRM93H  E4K99D4JR9E40VE1     Fierce Productivity 2017-09-21   \n50015  QHEUIYNC0XQX7GDR  E4K99D4JR9E40VE1     Fierce Productivity 2018-01-28   \n50016  NKHFWT5I2J9LPAPG  E4K99D4JR9E40VE1     Fierce Productivity 2017-09-06   \n\n       Order Value  Converted            New Id     Date_y           Meal Id  \\\n0             4837          0  839FKFW2LLX4LMBB 2016-05-27  INBUX904GIHI8YBD   \n1              343          0  97OX39BGVMHODLJM 2018-09-27  J0MMOOPP709DIDIE   \n2             4185          0  041ORQM5OIHTIU6L 2014-08-24  E4UJLQNCI16UX5CS   \n3             5839          0  YT796QI18WNGZ7ZJ 2014-04-12  C9SDFHF7553BE247   \n4             8841          0  6YLROQT27B6HRF4E 2015-07-28  48EQXS6IHYNZDDZ5   \n...            ...        ...               ...        ...               ...   \n50012          110          0  4OMS8ZSA0UX8LHWI 2017-09-20  1TD5MROATV1NHZ4Y   \n50013          356          0  RR0VKJN8V0KHNKGG 2018-03-19  22EX9VZSJKHP4AIP   \n50014         2228          1  STJ6QJC30WPRM93H 2017-09-21  LMX18PNGWCIMG1QW   \n50015         8869          0  QHEUIYNC0XQX7GDR 2018-01-28  4U0VH2TGQL30X23X   \n50016         5138          0  NKHFWT5I2J9LPAPG 2017-09-06  ORWFRT5TUSYGNYG7   \n\n           Company Id_y              Date of Meal  \\\n0      LJKS5NK6788CYMUU 2016-05-31 05:00:00+00:00   \n1      LJKS5NK6788CYMUU 2018-10-01 18:00:00+00:00   \n2      LJKS5NK6788CYMUU 2014-08-23 12:00:00+00:00   \n3      LJKS5NK6788CYMUU 2014-04-07 19:00:00+00:00   \n4      LJKS5NK6788CYMUU 2015-07-27 12:00:00+00:00   \n...                 ...                       ...   \n50012  E4K99D4JR9E40VE1 2017-09-21 06:00:00+00:00   \n50013  E4K99D4JR9E40VE1 2018-03-18 08:00:00+00:00   \n50014  E4K99D4JR9E40VE1 2017-09-22 19:00:00+00:00   \n50015  E4K99D4JR9E40VE1 2018-02-01 20:00:00+00:00   \n50016  E4K99D4JR9E40VE1 2017-09-09 12:00:00+00:00   \n\n                             Participants  Meal Price Type of Meal  \\\n0                        ['David Bishop']         469    Breakfast   \n1                        ['David Bishop']          22       Dinner   \n2                      ['Karen Stansell']         314        Lunch   \n3                        ['Addie Patino']         438       Dinner   \n4       ['Addie Patino' 'Susan Guerrero']         690        Lunch   \n...                                   ...         ...          ...   \n50012                  ['Regina Shirley']           9    Breakfast   \n50013  ['Robin Ramos' 'Chester Mortimer']          25    Breakfast   \n50014                     ['Robin Ramos']         160       Dinner   \n50015  ['Chester Mortimer' 'Robin Ramos']         497       Dinner   \n50016  ['Chester Mortimer' 'Robin Ramos']         365        Lunch   \n\n       Heroes Adjustment  \n0                  False  \n1                  False  \n2                  False  \n3                  False  \n4                  False  \n...                  ...  \n50012              False  \n50013              False  \n50014              False  \n50015              False  \n50016              False  \n\n[50017 rows x 15 columns]",
      "text/html": "<div>\n<style scoped>\n    .dataframe tbody tr th:only-of-type {\n        vertical-align: middle;\n    }\n\n    .dataframe tbody tr th {\n        vertical-align: top;\n    }\n\n    .dataframe thead th {\n        text-align: right;\n    }\n</style>\n<table border=\"1\" class=\"dataframe\">\n  <thead>\n    <tr style=\"text-align: right;\">\n      <th></th>\n      <th>Order Id</th>\n      <th>Company Id_x</th>\n      <th>Company Name</th>\n      <th>Date_x</th>\n      <th>Order Value</th>\n      <th>Converted</th>\n      <th>New Id</th>\n      <th>Date_y</th>\n      <th>Meal Id</th>\n      <th>Company Id_y</th>\n      <th>Date of Meal</th>\n      <th>Participants</th>\n      <th>Meal Price</th>\n      <th>Type of Meal</th>\n      <th>Heroes Adjustment</th>\n    </tr>\n  </thead>\n  <tbody>\n    <tr>\n      <th>0</th>\n      <td>839FKFW2LLX4LMBB</td>\n      <td>LJKS5NK6788CYMUU</td>\n      <td>Chimera-Chasing Casbah</td>\n      <td>2016-05-27</td>\n      <td>4837</td>\n      <td>0</td>\n      <td>839FKFW2LLX4LMBB</td>\n      <td>2016-05-27</td>\n      <td>INBUX904GIHI8YBD</td>\n      <td>LJKS5NK6788CYMUU</td>\n      <td>2016-05-31 05:00:00+00:00</td>\n      <td>['David Bishop']</td>\n      <td>469</td>\n      <td>Breakfast</td>\n      <td>False</td>\n    </tr>\n    <tr>\n      <th>1</th>\n      <td>97OX39BGVMHODLJM</td>\n      <td>LJKS5NK6788CYMUU</td>\n      <td>Chimera-Chasing Casbah</td>\n      <td>2018-09-27</td>\n      <td>343</td>\n      <td>0</td>\n      <td>97OX39BGVMHODLJM</td>\n      <td>2018-09-27</td>\n      <td>J0MMOOPP709DIDIE</td>\n      <td>LJKS5NK6788CYMUU</td>\n      <td>2018-10-01 18:00:00+00:00</td>\n      <td>['David Bishop']</td>\n      <td>22</td>\n      <td>Dinner</td>\n      <td>False</td>\n    </tr>\n    <tr>\n      <th>2</th>\n      <td>041ORQM5OIHTIU6L</td>\n      <td>LJKS5NK6788CYMUU</td>\n      <td>Chimera-Chasing Casbah</td>\n      <td>2014-08-24</td>\n      <td>4185</td>\n      <td>0</td>\n      <td>041ORQM5OIHTIU6L</td>\n      <td>2014-08-24</td>\n      <td>E4UJLQNCI16UX5CS</td>\n      <td>LJKS5NK6788CYMUU</td>\n      <td>2014-08-23 12:00:00+00:00</td>\n      <td>['Karen Stansell']</td>\n      <td>314</td>\n      <td>Lunch</td>\n      <td>False</td>\n    </tr>\n    <tr>\n      <th>3</th>\n      <td>YT796QI18WNGZ7ZJ</td>\n      <td>LJKS5NK6788CYMUU</td>\n      <td>Chimera-Chasing Casbah</td>\n      <td>2014-04-12</td>\n      <td>5839</td>\n      <td>0</td>\n      <td>YT796QI18WNGZ7ZJ</td>\n      <td>2014-04-12</td>\n      <td>C9SDFHF7553BE247</td>\n      <td>LJKS5NK6788CYMUU</td>\n      <td>2014-04-07 19:00:00+00:00</td>\n      <td>['Addie Patino']</td>\n      <td>438</td>\n      <td>Dinner</td>\n      <td>False</td>\n    </tr>\n    <tr>\n      <th>4</th>\n      <td>6YLROQT27B6HRF4E</td>\n      <td>LJKS5NK6788CYMUU</td>\n      <td>Chimera-Chasing Casbah</td>\n      <td>2015-07-28</td>\n      <td>8841</td>\n      <td>0</td>\n      <td>6YLROQT27B6HRF4E</td>\n      <td>2015-07-28</td>\n      <td>48EQXS6IHYNZDDZ5</td>\n      <td>LJKS5NK6788CYMUU</td>\n      <td>2015-07-27 12:00:00+00:00</td>\n      <td>['Addie Patino' 'Susan Guerrero']</td>\n      <td>690</td>\n      <td>Lunch</td>\n      <td>False</td>\n    </tr>\n    <tr>\n      <th>...</th>\n      <td>...</td>\n      <td>...</td>\n      <td>...</td>\n      <td>...</td>\n      <td>...</td>\n      <td>...</td>\n      <td>...</td>\n      <td>...</td>\n      <td>...</td>\n      <td>...</td>\n      <td>...</td>\n      <td>...</td>\n      <td>...</td>\n      <td>...</td>\n      <td>...</td>\n    </tr>\n    <tr>\n      <th>50012</th>\n      <td>4OMS8ZSA0UX8LHWI</td>\n      <td>E4K99D4JR9E40VE1</td>\n      <td>Fierce Productivity</td>\n      <td>2017-09-20</td>\n      <td>110</td>\n      <td>0</td>\n      <td>4OMS8ZSA0UX8LHWI</td>\n      <td>2017-09-20</td>\n      <td>1TD5MROATV1NHZ4Y</td>\n      <td>E4K99D4JR9E40VE1</td>\n      <td>2017-09-21 06:00:00+00:00</td>\n      <td>['Regina Shirley']</td>\n      <td>9</td>\n      <td>Breakfast</td>\n      <td>False</td>\n    </tr>\n    <tr>\n      <th>50013</th>\n      <td>RR0VKJN8V0KHNKGG</td>\n      <td>E4K99D4JR9E40VE1</td>\n      <td>Fierce Productivity</td>\n      <td>2018-03-19</td>\n      <td>356</td>\n      <td>0</td>\n      <td>RR0VKJN8V0KHNKGG</td>\n      <td>2018-03-19</td>\n      <td>22EX9VZSJKHP4AIP</td>\n      <td>E4K99D4JR9E40VE1</td>\n      <td>2018-03-18 08:00:00+00:00</td>\n      <td>['Robin Ramos' 'Chester Mortimer']</td>\n      <td>25</td>\n      <td>Breakfast</td>\n      <td>False</td>\n    </tr>\n    <tr>\n      <th>50014</th>\n      <td>STJ6QJC30WPRM93H</td>\n      <td>E4K99D4JR9E40VE1</td>\n      <td>Fierce Productivity</td>\n      <td>2017-09-21</td>\n      <td>2228</td>\n      <td>1</td>\n      <td>STJ6QJC30WPRM93H</td>\n      <td>2017-09-21</td>\n      <td>LMX18PNGWCIMG1QW</td>\n      <td>E4K99D4JR9E40VE1</td>\n      <td>2017-09-22 19:00:00+00:00</td>\n      <td>['Robin Ramos']</td>\n      <td>160</td>\n      <td>Dinner</td>\n      <td>False</td>\n    </tr>\n    <tr>\n      <th>50015</th>\n      <td>QHEUIYNC0XQX7GDR</td>\n      <td>E4K99D4JR9E40VE1</td>\n      <td>Fierce Productivity</td>\n      <td>2018-01-28</td>\n      <td>8869</td>\n      <td>0</td>\n      <td>QHEUIYNC0XQX7GDR</td>\n      <td>2018-01-28</td>\n      <td>4U0VH2TGQL30X23X</td>\n      <td>E4K99D4JR9E40VE1</td>\n      <td>2018-02-01 20:00:00+00:00</td>\n      <td>['Chester Mortimer' 'Robin Ramos']</td>\n      <td>497</td>\n      <td>Dinner</td>\n      <td>False</td>\n    </tr>\n    <tr>\n      <th>50016</th>\n      <td>NKHFWT5I2J9LPAPG</td>\n      <td>E4K99D4JR9E40VE1</td>\n      <td>Fierce Productivity</td>\n      <td>2017-09-06</td>\n      <td>5138</td>\n      <td>0</td>\n      <td>NKHFWT5I2J9LPAPG</td>\n      <td>2017-09-06</td>\n      <td>ORWFRT5TUSYGNYG7</td>\n      <td>E4K99D4JR9E40VE1</td>\n      <td>2017-09-09 12:00:00+00:00</td>\n      <td>['Chester Mortimer' 'Robin Ramos']</td>\n      <td>365</td>\n      <td>Lunch</td>\n      <td>False</td>\n    </tr>\n  </tbody>\n</table>\n<p>50017 rows × 15 columns</p>\n</div>"
     },
     "execution_count": 84,
     "metadata": {},
     "output_type": "execute_result"
    }
   ],
   "source": [
    "pd.merge(order_leads, invoices.rename(columns={'Order Id':'New Id'}), left_on='Order Id', right_on='New Id')"
   ],
   "metadata": {
    "collapsed": false,
    "pycharm": {
     "name": "#%%\n"
    }
   }
  },
  {
   "cell_type": "code",
   "execution_count": 86,
   "outputs": [
    {
     "data": {
      "text/plain": "Company Name\nChimera-Chasing Casbah            Jessie Mcallister\nTangential Sheds                  Jessie Mcallister\nTwo-Mile Grab                     Jessie Mcallister\nThree-Men-And-A-Helper Congo'S    Jessie Mcallister\nBiophysical Battleground          Jessie Mcallister\n                                        ...        \nJammed-Together Stable                Joel Woodbury\nLaureate Barbital                     Joel Woodbury\nSpotty Adoniram                     Hazel Dickerson\nPhysicochemical Impatience          Hazel Dickerson\nFierce Productivity                 Hazel Dickerson\nName: Sales Rep, Length: 4725, dtype: object"
     },
     "execution_count": 86,
     "metadata": {},
     "output_type": "execute_result"
    }
   ],
   "source": [
    "lookup=sales_team.set_index('Company Name')['Sales Rep']\n",
    "lookup"
   ],
   "metadata": {
    "collapsed": false,
    "pycharm": {
     "name": "#%%\n"
    }
   }
  },
  {
   "cell_type": "code",
   "execution_count": 87,
   "outputs": [
    {
     "data": {
      "text/plain": "               Order Id        Company Id            Company Name       Date  \\\n0      80EYLOKP9E762WKG  LJKS5NK6788CYMUU  Chimera-Chasing Casbah 2017-02-18   \n1      TLEXR1HZWTUTBHPB  LJKS5NK6788CYMUU  Chimera-Chasing Casbah 2015-07-30   \n2      839FKFW2LLX4LMBB  LJKS5NK6788CYMUU  Chimera-Chasing Casbah 2016-05-27   \n3      97OX39BGVMHODLJM  LJKS5NK6788CYMUU  Chimera-Chasing Casbah 2018-09-27   \n4      5T4LGH4XGBWOD49Z  LJKS5NK6788CYMUU  Chimera-Chasing Casbah 2016-01-14   \n...                 ...               ...                     ...        ...   \n99995  4MFHIAQKH0HCACJM  E4K99D4JR9E40VE1     Fierce Productivity 2015-07-25   \n99996  K1UP23P8SIY1YION  E4K99D4JR9E40VE1     Fierce Productivity 2015-08-24   \n99997  NKHFWT5I2J9LPAPG  E4K99D4JR9E40VE1     Fierce Productivity 2017-09-06   \n99998  OF79M3H9C44UM6PO  E4K99D4JR9E40VE1     Fierce Productivity 2015-10-29   \n99999  EHN2QR78K2RX0FQ9  E4K99D4JR9E40VE1     Fierce Productivity 2015-03-07   \n\n       Order Value  Converted          Sales Rep  \n0             4875          1  Jessie Mcallister  \n1             8425          0  Jessie Mcallister  \n2             4837          0  Jessie Mcallister  \n3              343          0  Jessie Mcallister  \n4              983          0  Jessie Mcallister  \n...            ...        ...                ...  \n99995         4851          0    Hazel Dickerson  \n99996         7868          0    Hazel Dickerson  \n99997         5138          0    Hazel Dickerson  \n99998         2036          0    Hazel Dickerson  \n99999         7183          0    Hazel Dickerson  \n\n[100000 rows x 7 columns]",
      "text/html": "<div>\n<style scoped>\n    .dataframe tbody tr th:only-of-type {\n        vertical-align: middle;\n    }\n\n    .dataframe tbody tr th {\n        vertical-align: top;\n    }\n\n    .dataframe thead th {\n        text-align: right;\n    }\n</style>\n<table border=\"1\" class=\"dataframe\">\n  <thead>\n    <tr style=\"text-align: right;\">\n      <th></th>\n      <th>Order Id</th>\n      <th>Company Id</th>\n      <th>Company Name</th>\n      <th>Date</th>\n      <th>Order Value</th>\n      <th>Converted</th>\n      <th>Sales Rep</th>\n    </tr>\n  </thead>\n  <tbody>\n    <tr>\n      <th>0</th>\n      <td>80EYLOKP9E762WKG</td>\n      <td>LJKS5NK6788CYMUU</td>\n      <td>Chimera-Chasing Casbah</td>\n      <td>2017-02-18</td>\n      <td>4875</td>\n      <td>1</td>\n      <td>Jessie Mcallister</td>\n    </tr>\n    <tr>\n      <th>1</th>\n      <td>TLEXR1HZWTUTBHPB</td>\n      <td>LJKS5NK6788CYMUU</td>\n      <td>Chimera-Chasing Casbah</td>\n      <td>2015-07-30</td>\n      <td>8425</td>\n      <td>0</td>\n      <td>Jessie Mcallister</td>\n    </tr>\n    <tr>\n      <th>2</th>\n      <td>839FKFW2LLX4LMBB</td>\n      <td>LJKS5NK6788CYMUU</td>\n      <td>Chimera-Chasing Casbah</td>\n      <td>2016-05-27</td>\n      <td>4837</td>\n      <td>0</td>\n      <td>Jessie Mcallister</td>\n    </tr>\n    <tr>\n      <th>3</th>\n      <td>97OX39BGVMHODLJM</td>\n      <td>LJKS5NK6788CYMUU</td>\n      <td>Chimera-Chasing Casbah</td>\n      <td>2018-09-27</td>\n      <td>343</td>\n      <td>0</td>\n      <td>Jessie Mcallister</td>\n    </tr>\n    <tr>\n      <th>4</th>\n      <td>5T4LGH4XGBWOD49Z</td>\n      <td>LJKS5NK6788CYMUU</td>\n      <td>Chimera-Chasing Casbah</td>\n      <td>2016-01-14</td>\n      <td>983</td>\n      <td>0</td>\n      <td>Jessie Mcallister</td>\n    </tr>\n    <tr>\n      <th>...</th>\n      <td>...</td>\n      <td>...</td>\n      <td>...</td>\n      <td>...</td>\n      <td>...</td>\n      <td>...</td>\n      <td>...</td>\n    </tr>\n    <tr>\n      <th>99995</th>\n      <td>4MFHIAQKH0HCACJM</td>\n      <td>E4K99D4JR9E40VE1</td>\n      <td>Fierce Productivity</td>\n      <td>2015-07-25</td>\n      <td>4851</td>\n      <td>0</td>\n      <td>Hazel Dickerson</td>\n    </tr>\n    <tr>\n      <th>99996</th>\n      <td>K1UP23P8SIY1YION</td>\n      <td>E4K99D4JR9E40VE1</td>\n      <td>Fierce Productivity</td>\n      <td>2015-08-24</td>\n      <td>7868</td>\n      <td>0</td>\n      <td>Hazel Dickerson</td>\n    </tr>\n    <tr>\n      <th>99997</th>\n      <td>NKHFWT5I2J9LPAPG</td>\n      <td>E4K99D4JR9E40VE1</td>\n      <td>Fierce Productivity</td>\n      <td>2017-09-06</td>\n      <td>5138</td>\n      <td>0</td>\n      <td>Hazel Dickerson</td>\n    </tr>\n    <tr>\n      <th>99998</th>\n      <td>OF79M3H9C44UM6PO</td>\n      <td>E4K99D4JR9E40VE1</td>\n      <td>Fierce Productivity</td>\n      <td>2015-10-29</td>\n      <td>2036</td>\n      <td>0</td>\n      <td>Hazel Dickerson</td>\n    </tr>\n    <tr>\n      <th>99999</th>\n      <td>EHN2QR78K2RX0FQ9</td>\n      <td>E4K99D4JR9E40VE1</td>\n      <td>Fierce Productivity</td>\n      <td>2015-03-07</td>\n      <td>7183</td>\n      <td>0</td>\n      <td>Hazel Dickerson</td>\n    </tr>\n  </tbody>\n</table>\n<p>100000 rows × 7 columns</p>\n</div>"
     },
     "execution_count": 87,
     "metadata": {},
     "output_type": "execute_result"
    }
   ],
   "source": [
    "order_leads['Sales Rep']=order_leads['Company Name'].map(lookup)\n",
    "order_leads"
   ],
   "metadata": {
    "collapsed": false,
    "pycharm": {
     "name": "#%%\n"
    }
   }
  },
  {
   "cell_type": "code",
   "execution_count": null,
   "outputs": [],
   "source": [
    "\n"
   ],
   "metadata": {
    "collapsed": false,
    "pycharm": {
     "name": "#%%\n"
    }
   }
  }
 ],
 "metadata": {
  "kernelspec": {
   "name": "pycharm-6274b329",
   "language": "python",
   "display_name": "PyCharm (data_analysis_basics)"
  },
  "language_info": {
   "codemirror_mode": {
    "name": "ipython",
    "version": 2
   },
   "file_extension": ".py",
   "mimetype": "text/x-python",
   "name": "python",
   "nbconvert_exporter": "python",
   "pygments_lexer": "ipython2",
   "version": "2.7.6"
  }
 },
 "nbformat": 4,
 "nbformat_minor": 0
}