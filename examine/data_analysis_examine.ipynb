{
 "cells": [
  {
   "cell_type": "code",
   "execution_count": 56,
   "metadata": {
    "collapsed": true
   },
   "outputs": [],
   "source": [
    "import numpy as np\n",
    "import pandas as pd\n",
    "from pyecharts.charts import WordCloud, Bar"
   ]
  },
  {
   "cell_type": "code",
   "execution_count": 57,
   "outputs": [],
   "source": [
    "file1=r'D:\\Programing\\python_projects\\data_analysis_basics\\data_set\\rating.txt'\n",
    "rating=pd.read_csv(file1, header=None, names=['user_id', 'book_id', 'rating'])\n",
    "file2=r'D:\\Programing\\python_projects\\data_analysis_basics\\data_set\\to_read.csv'\n",
    "to_read=pd.read_csv(file2)\n",
    "file3=r'D:\\Programing\\python_projects\\data_analysis_basics\\data_set\\books.csv'\n",
    "books=pd.read_csv(file3)\n",
    "file4=r'D:\\Programing\\python_projects\\data_analysis_basics\\data_set\\book_tags.csv'\n",
    "book_tags=pd.read_csv(file4)"
   ],
   "metadata": {
    "collapsed": false,
    "pycharm": {
     "name": "#%%\n"
    }
   }
  },
  {
   "cell_type": "code",
   "execution_count": 59,
   "outputs": [],
   "source": [
    "# 创建空DF存放书本平均得分，并指定索引名\n",
    "book_df=pd.DataFrame({\n",
    "    'rating_sum':[],\n",
    "    'rating_counts':[]\n",
    "})\n",
    "book_df.index.name='book_id'"
   ],
   "metadata": {
    "collapsed": false,
    "pycharm": {
     "name": "#%%\n"
    }
   }
  },
  {
   "cell_type": "code",
   "execution_count": 60,
   "outputs": [
    {
     "data": {
      "text/plain": "         rating_sum  rating_counts\nbook_id                           \n1               NaN          22806\n2               NaN          21850\n3               NaN          16931\n4               NaN          19088\n5               NaN          16604",
      "text/html": "<div>\n<style scoped>\n    .dataframe tbody tr th:only-of-type {\n        vertical-align: middle;\n    }\n\n    .dataframe tbody tr th {\n        vertical-align: top;\n    }\n\n    .dataframe thead th {\n        text-align: right;\n    }\n</style>\n<table border=\"1\" class=\"dataframe\">\n  <thead>\n    <tr style=\"text-align: right;\">\n      <th></th>\n      <th>rating_sum</th>\n      <th>rating_counts</th>\n    </tr>\n    <tr>\n      <th>book_id</th>\n      <th></th>\n      <th></th>\n    </tr>\n  </thead>\n  <tbody>\n    <tr>\n      <th>1</th>\n      <td>NaN</td>\n      <td>22806</td>\n    </tr>\n    <tr>\n      <th>2</th>\n      <td>NaN</td>\n      <td>21850</td>\n    </tr>\n    <tr>\n      <th>3</th>\n      <td>NaN</td>\n      <td>16931</td>\n    </tr>\n    <tr>\n      <th>4</th>\n      <td>NaN</td>\n      <td>19088</td>\n    </tr>\n    <tr>\n      <th>5</th>\n      <td>NaN</td>\n      <td>16604</td>\n    </tr>\n  </tbody>\n</table>\n</div>"
     },
     "execution_count": 60,
     "metadata": {},
     "output_type": "execute_result"
    }
   ],
   "source": [
    "# 计算不同的书被评分的次数\n",
    "book_df['rating_counts']=rating.groupby('book_id')['user_id'].count()\n",
    "book_df.head()"
   ],
   "metadata": {
    "collapsed": false,
    "pycharm": {
     "name": "#%%\n"
    }
   }
  },
  {
   "cell_type": "code",
   "execution_count": 61,
   "outputs": [
    {
     "data": {
      "text/plain": "         rating_sum  rating_counts\nbook_id                           \n1             97603          22806\n2             95077          21850\n3             54422          16931\n4             82639          19088\n5             62634          16604",
      "text/html": "<div>\n<style scoped>\n    .dataframe tbody tr th:only-of-type {\n        vertical-align: middle;\n    }\n\n    .dataframe tbody tr th {\n        vertical-align: top;\n    }\n\n    .dataframe thead th {\n        text-align: right;\n    }\n</style>\n<table border=\"1\" class=\"dataframe\">\n  <thead>\n    <tr style=\"text-align: right;\">\n      <th></th>\n      <th>rating_sum</th>\n      <th>rating_counts</th>\n    </tr>\n    <tr>\n      <th>book_id</th>\n      <th></th>\n      <th></th>\n    </tr>\n  </thead>\n  <tbody>\n    <tr>\n      <th>1</th>\n      <td>97603</td>\n      <td>22806</td>\n    </tr>\n    <tr>\n      <th>2</th>\n      <td>95077</td>\n      <td>21850</td>\n    </tr>\n    <tr>\n      <th>3</th>\n      <td>54422</td>\n      <td>16931</td>\n    </tr>\n    <tr>\n      <th>4</th>\n      <td>82639</td>\n      <td>19088</td>\n    </tr>\n    <tr>\n      <th>5</th>\n      <td>62634</td>\n      <td>16604</td>\n    </tr>\n  </tbody>\n</table>\n</div>"
     },
     "execution_count": 61,
     "metadata": {},
     "output_type": "execute_result"
    }
   ],
   "source": [
    "# 计算不同的书被评分的总和\n",
    "book_df['rating_sum']=rating.groupby('book_id')['rating'].sum()\n",
    "book_df.head()"
   ],
   "metadata": {
    "collapsed": false,
    "pycharm": {
     "name": "#%%\n"
    }
   }
  },
  {
   "cell_type": "code",
   "execution_count": 63,
   "outputs": [
    {
     "data": {
      "text/plain": "         rating_sum  rating_counts  avg_rating\nbook_id                                       \n1             97603          22806    4.279707\n2             95077          21850    4.351350\n3             54422          16931    3.214341\n4             82639          19088    4.329369\n5             62634          16604    3.772224",
      "text/html": "<div>\n<style scoped>\n    .dataframe tbody tr th:only-of-type {\n        vertical-align: middle;\n    }\n\n    .dataframe tbody tr th {\n        vertical-align: top;\n    }\n\n    .dataframe thead th {\n        text-align: right;\n    }\n</style>\n<table border=\"1\" class=\"dataframe\">\n  <thead>\n    <tr style=\"text-align: right;\">\n      <th></th>\n      <th>rating_sum</th>\n      <th>rating_counts</th>\n      <th>avg_rating</th>\n    </tr>\n    <tr>\n      <th>book_id</th>\n      <th></th>\n      <th></th>\n      <th></th>\n    </tr>\n  </thead>\n  <tbody>\n    <tr>\n      <th>1</th>\n      <td>97603</td>\n      <td>22806</td>\n      <td>4.279707</td>\n    </tr>\n    <tr>\n      <th>2</th>\n      <td>95077</td>\n      <td>21850</td>\n      <td>4.351350</td>\n    </tr>\n    <tr>\n      <th>3</th>\n      <td>54422</td>\n      <td>16931</td>\n      <td>3.214341</td>\n    </tr>\n    <tr>\n      <th>4</th>\n      <td>82639</td>\n      <td>19088</td>\n      <td>4.329369</td>\n    </tr>\n    <tr>\n      <th>5</th>\n      <td>62634</td>\n      <td>16604</td>\n      <td>3.772224</td>\n    </tr>\n  </tbody>\n</table>\n</div>"
     },
     "execution_count": 63,
     "metadata": {},
     "output_type": "execute_result"
    }
   ],
   "source": [
    "# 计算不同书的平均得分\n",
    "book_df['avg_rating']=book_df['rating_sum']/book_df['rating_counts']\n",
    "book_df.head()\n"
   ],
   "metadata": {
    "collapsed": false,
    "pycharm": {
     "name": "#%%\n"
    }
   }
  }
 ],
 "metadata": {
  "kernelspec": {
   "name": "pycharm-6274b329",
   "language": "python",
   "display_name": "PyCharm (data_analysis_basics)"
  },
  "language_info": {
   "codemirror_mode": {
    "name": "ipython",
    "version": 2
   },
   "file_extension": ".py",
   "mimetype": "text/x-python",
   "name": "python",
   "nbconvert_exporter": "python",
   "pygments_lexer": "ipython2",
   "version": "2.7.6"
  }
 },
 "nbformat": 4,
 "nbformat_minor": 0
}