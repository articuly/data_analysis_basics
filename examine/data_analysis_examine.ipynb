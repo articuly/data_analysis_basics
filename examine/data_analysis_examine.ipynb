{
 "cells": [
  {
   "cell_type": "code",
   "execution_count": 180,
   "metadata": {
    "collapsed": true
   },
   "outputs": [],
   "source": [
    "import pandas as pd\n",
    "from pyecharts.charts import WordCloud, Bar, Pie\n",
    "from pyecharts import options as opts"
   ]
  },
  {
   "cell_type": "code",
   "execution_count": 160,
   "outputs": [],
   "source": [
    "file1=r'D:\\Programing\\python_projects\\data_analysis_basics\\data_set\\rating.txt'\n",
    "rating=pd.read_csv(file1, header=None, names=['user_id', 'book_id', 'rating'])\n",
    "file2=r'D:\\Programing\\python_projects\\data_analysis_basics\\data_set\\to_read.csv'\n",
    "to_read=pd.read_csv(file2)\n",
    "file3=r'D:\\Programing\\python_projects\\data_analysis_basics\\data_set\\books.csv'\n",
    "books=pd.read_csv(file3)\n",
    "file4=r'D:\\Programing\\python_projects\\data_analysis_basics\\data_set\\book_tags.csv'\n",
    "book_tags=pd.read_csv(file4)\n",
    "file5=r'D:\\Programing\\python_projects\\data_analysis_basics\\data_set\\tags.csv'\n",
    "tags=pd.read_csv(file5)"
   ],
   "metadata": {
    "collapsed": false,
    "pycharm": {
     "name": "#%%\n"
    }
   }
  },
  {
   "cell_type": "code",
   "execution_count": 161,
   "outputs": [],
   "source": [
    "# 创建空DF存放书本平均得分，并指定索引名\n",
    "book_df=pd.DataFrame({\n",
    "    'rating_sum':[],\n",
    "    'rating_counts':[]\n",
    "})\n",
    "book_df.index.name='book_id'"
   ],
   "metadata": {
    "collapsed": false,
    "pycharm": {
     "name": "#%%\n"
    }
   }
  },
  {
   "cell_type": "code",
   "execution_count": 162,
   "outputs": [],
   "source": [
    "# 计算不同的书被评分的次数\n",
    "book_df['rating_counts']=rating.groupby('book_id')['user_id'].count()"
   ],
   "metadata": {
    "collapsed": false,
    "pycharm": {
     "name": "#%%\n"
    }
   }
  },
  {
   "cell_type": "code",
   "execution_count": 163,
   "outputs": [
    {
     "data": {
      "text/plain": "         rating_sum  rating_counts\nbook_id                           \n1             97603          22806\n2             95077          21850\n3             54422          16931\n4             82639          19088\n5             62634          16604",
      "text/html": "<div>\n<style scoped>\n    .dataframe tbody tr th:only-of-type {\n        vertical-align: middle;\n    }\n\n    .dataframe tbody tr th {\n        vertical-align: top;\n    }\n\n    .dataframe thead th {\n        text-align: right;\n    }\n</style>\n<table border=\"1\" class=\"dataframe\">\n  <thead>\n    <tr style=\"text-align: right;\">\n      <th></th>\n      <th>rating_sum</th>\n      <th>rating_counts</th>\n    </tr>\n    <tr>\n      <th>book_id</th>\n      <th></th>\n      <th></th>\n    </tr>\n  </thead>\n  <tbody>\n    <tr>\n      <th>1</th>\n      <td>97603</td>\n      <td>22806</td>\n    </tr>\n    <tr>\n      <th>2</th>\n      <td>95077</td>\n      <td>21850</td>\n    </tr>\n    <tr>\n      <th>3</th>\n      <td>54422</td>\n      <td>16931</td>\n    </tr>\n    <tr>\n      <th>4</th>\n      <td>82639</td>\n      <td>19088</td>\n    </tr>\n    <tr>\n      <th>5</th>\n      <td>62634</td>\n      <td>16604</td>\n    </tr>\n  </tbody>\n</table>\n</div>"
     },
     "execution_count": 163,
     "metadata": {},
     "output_type": "execute_result"
    }
   ],
   "source": [
    "# 计算不同的书被评分的总和\n",
    "book_df['rating_sum']=rating.groupby('book_id')['rating'].sum()\n",
    "book_df.head()"
   ],
   "metadata": {
    "collapsed": false,
    "pycharm": {
     "name": "#%%\n"
    }
   }
  },
  {
   "cell_type": "code",
   "execution_count": 164,
   "outputs": [
    {
     "data": {
      "text/plain": "         rating_sum  rating_counts  avg_rating\nbook_id                                       \n1             97603          22806    4.279707\n2             95077          21850    4.351350\n3             54422          16931    3.214341\n4             82639          19088    4.329369\n5             62634          16604    3.772224",
      "text/html": "<div>\n<style scoped>\n    .dataframe tbody tr th:only-of-type {\n        vertical-align: middle;\n    }\n\n    .dataframe tbody tr th {\n        vertical-align: top;\n    }\n\n    .dataframe thead th {\n        text-align: right;\n    }\n</style>\n<table border=\"1\" class=\"dataframe\">\n  <thead>\n    <tr style=\"text-align: right;\">\n      <th></th>\n      <th>rating_sum</th>\n      <th>rating_counts</th>\n      <th>avg_rating</th>\n    </tr>\n    <tr>\n      <th>book_id</th>\n      <th></th>\n      <th></th>\n      <th></th>\n    </tr>\n  </thead>\n  <tbody>\n    <tr>\n      <th>1</th>\n      <td>97603</td>\n      <td>22806</td>\n      <td>4.279707</td>\n    </tr>\n    <tr>\n      <th>2</th>\n      <td>95077</td>\n      <td>21850</td>\n      <td>4.351350</td>\n    </tr>\n    <tr>\n      <th>3</th>\n      <td>54422</td>\n      <td>16931</td>\n      <td>3.214341</td>\n    </tr>\n    <tr>\n      <th>4</th>\n      <td>82639</td>\n      <td>19088</td>\n      <td>4.329369</td>\n    </tr>\n    <tr>\n      <th>5</th>\n      <td>62634</td>\n      <td>16604</td>\n      <td>3.772224</td>\n    </tr>\n  </tbody>\n</table>\n</div>"
     },
     "execution_count": 164,
     "metadata": {},
     "output_type": "execute_result"
    }
   ],
   "source": [
    "# 计算不同书的平均得分\n",
    "book_df['avg_rating']=book_df['rating_sum']/book_df['rating_counts']\n",
    "book_df.head()"
   ],
   "metadata": {
    "collapsed": false,
    "pycharm": {
     "name": "#%%\n"
    }
   }
  },
  {
   "cell_type": "code",
   "execution_count": 165,
   "outputs": [
    {
     "data": {
      "text/plain": "47      2772\n143     1967\n113     1840\n13      1812\n11      1767\n        ... \n9345       1\n9803       1\n3662       1\n4434       1\n9781       1\nName: book_id, Length: 9986, dtype: int64"
     },
     "execution_count": 165,
     "metadata": {},
     "output_type": "execute_result"
    }
   ],
   "source": [
    "# 统计想读的书的人次并排序\n",
    "to_read_counts=to_read['book_id'].value_counts().sort_values(ascending=False)\n",
    "to_read_counts"
   ],
   "metadata": {
    "collapsed": false,
    "pycharm": {
     "name": "#%%\n"
    }
   }
  },
  {
   "cell_type": "code",
   "execution_count": 166,
   "outputs": [
    {
     "data": {
      "text/plain": "   book_id  to_read_count\n0       47           2772\n1      143           1967\n2      113           1840\n3       13           1812\n4       11           1767\n5       45           1717\n6      139           1650\n7       39           1619\n8       65           1608\n9       35           1576",
      "text/html": "<div>\n<style scoped>\n    .dataframe tbody tr th:only-of-type {\n        vertical-align: middle;\n    }\n\n    .dataframe tbody tr th {\n        vertical-align: top;\n    }\n\n    .dataframe thead th {\n        text-align: right;\n    }\n</style>\n<table border=\"1\" class=\"dataframe\">\n  <thead>\n    <tr style=\"text-align: right;\">\n      <th></th>\n      <th>book_id</th>\n      <th>to_read_count</th>\n    </tr>\n  </thead>\n  <tbody>\n    <tr>\n      <th>0</th>\n      <td>47</td>\n      <td>2772</td>\n    </tr>\n    <tr>\n      <th>1</th>\n      <td>143</td>\n      <td>1967</td>\n    </tr>\n    <tr>\n      <th>2</th>\n      <td>113</td>\n      <td>1840</td>\n    </tr>\n    <tr>\n      <th>3</th>\n      <td>13</td>\n      <td>1812</td>\n    </tr>\n    <tr>\n      <th>4</th>\n      <td>11</td>\n      <td>1767</td>\n    </tr>\n    <tr>\n      <th>5</th>\n      <td>45</td>\n      <td>1717</td>\n    </tr>\n    <tr>\n      <th>6</th>\n      <td>139</td>\n      <td>1650</td>\n    </tr>\n    <tr>\n      <th>7</th>\n      <td>39</td>\n      <td>1619</td>\n    </tr>\n    <tr>\n      <th>8</th>\n      <td>65</td>\n      <td>1608</td>\n    </tr>\n    <tr>\n      <th>9</th>\n      <td>35</td>\n      <td>1576</td>\n    </tr>\n  </tbody>\n</table>\n</div>"
     },
     "execution_count": 166,
     "metadata": {},
     "output_type": "execute_result"
    }
   ],
   "source": [
    "# 截取前50的book id\n",
    "top50_book_id=to_read_counts[:50].index\n",
    "top50_book_counts=to_read_counts[:50].values\n",
    "top50_books=pd.DataFrame({\n",
    "    'book_id':top50_book_id,\n",
    "    'to_read_count':top50_book_counts\n",
    "})\n",
    "top50_books.head(10)"
   ],
   "metadata": {
    "collapsed": false,
    "pycharm": {
     "name": "#%%\n"
    }
   }
  },
  {
   "cell_type": "code",
   "execution_count": 167,
   "outputs": [
    {
     "data": {
      "text/plain": "   book_id  goodreads_book_id  \\\n0        1            2767052   \n1        2                  3   \n2        3              41865   \n3        4               2657   \n4        5               4671   \n\n                                               title  \n0            The Hunger Games (The Hunger Games, #1)  \n1  Harry Potter and the Sorcerer's Stone (Harry P...  \n2                            Twilight (Twilight, #1)  \n3                              To Kill a Mockingbird  \n4                                   The Great Gatsby  ",
      "text/html": "<div>\n<style scoped>\n    .dataframe tbody tr th:only-of-type {\n        vertical-align: middle;\n    }\n\n    .dataframe tbody tr th {\n        vertical-align: top;\n    }\n\n    .dataframe thead th {\n        text-align: right;\n    }\n</style>\n<table border=\"1\" class=\"dataframe\">\n  <thead>\n    <tr style=\"text-align: right;\">\n      <th></th>\n      <th>book_id</th>\n      <th>goodreads_book_id</th>\n      <th>title</th>\n    </tr>\n  </thead>\n  <tbody>\n    <tr>\n      <th>0</th>\n      <td>1</td>\n      <td>2767052</td>\n      <td>The Hunger Games (The Hunger Games, #1)</td>\n    </tr>\n    <tr>\n      <th>1</th>\n      <td>2</td>\n      <td>3</td>\n      <td>Harry Potter and the Sorcerer's Stone (Harry P...</td>\n    </tr>\n    <tr>\n      <th>2</th>\n      <td>3</td>\n      <td>41865</td>\n      <td>Twilight (Twilight, #1)</td>\n    </tr>\n    <tr>\n      <th>3</th>\n      <td>4</td>\n      <td>2657</td>\n      <td>To Kill a Mockingbird</td>\n    </tr>\n    <tr>\n      <th>4</th>\n      <td>5</td>\n      <td>4671</td>\n      <td>The Great Gatsby</td>\n    </tr>\n  </tbody>\n</table>\n</div>"
     },
     "execution_count": 167,
     "metadata": {},
     "output_type": "execute_result"
    }
   ],
   "source": [
    "# 取得带有标题的DF\n",
    "book_id_and_title=books[['book_id', 'goodreads_book_id', 'title']]\n",
    "book_id_and_title.head()"
   ],
   "metadata": {
    "collapsed": false,
    "pycharm": {
     "name": "#%%\n"
    }
   }
  },
  {
   "cell_type": "code",
   "execution_count": 168,
   "outputs": [
    {
     "data": {
      "text/plain": "   book_id  to_read_count  goodreads_book_id  \\\n0       47           2772              19063   \n1      143           1967           18143977   \n2      113           1840             168668   \n3       13           1812               5470   \n4       11           1767              77203   \n5       45           1717               4214   \n6      139           1650            9460487   \n7       39           1619              13496   \n8       65           1608               4981   \n9       35           1576                865   \n\n                                               title  \n0                                     The Book Thief  \n1                        All the Light We Cannot See  \n2                                           Catch-22  \n3                                               1984  \n4                                    The Kite Runner  \n5                                         Life of Pi  \n6  Miss Peregrine’s Home for Peculiar Children (M...  \n7     A Game of Thrones (A Song of Ice and Fire, #1)  \n8                                Slaughterhouse-Five  \n9                                      The Alchemist  ",
      "text/html": "<div>\n<style scoped>\n    .dataframe tbody tr th:only-of-type {\n        vertical-align: middle;\n    }\n\n    .dataframe tbody tr th {\n        vertical-align: top;\n    }\n\n    .dataframe thead th {\n        text-align: right;\n    }\n</style>\n<table border=\"1\" class=\"dataframe\">\n  <thead>\n    <tr style=\"text-align: right;\">\n      <th></th>\n      <th>book_id</th>\n      <th>to_read_count</th>\n      <th>goodreads_book_id</th>\n      <th>title</th>\n    </tr>\n  </thead>\n  <tbody>\n    <tr>\n      <th>0</th>\n      <td>47</td>\n      <td>2772</td>\n      <td>19063</td>\n      <td>The Book Thief</td>\n    </tr>\n    <tr>\n      <th>1</th>\n      <td>143</td>\n      <td>1967</td>\n      <td>18143977</td>\n      <td>All the Light We Cannot See</td>\n    </tr>\n    <tr>\n      <th>2</th>\n      <td>113</td>\n      <td>1840</td>\n      <td>168668</td>\n      <td>Catch-22</td>\n    </tr>\n    <tr>\n      <th>3</th>\n      <td>13</td>\n      <td>1812</td>\n      <td>5470</td>\n      <td>1984</td>\n    </tr>\n    <tr>\n      <th>4</th>\n      <td>11</td>\n      <td>1767</td>\n      <td>77203</td>\n      <td>The Kite Runner</td>\n    </tr>\n    <tr>\n      <th>5</th>\n      <td>45</td>\n      <td>1717</td>\n      <td>4214</td>\n      <td>Life of Pi</td>\n    </tr>\n    <tr>\n      <th>6</th>\n      <td>139</td>\n      <td>1650</td>\n      <td>9460487</td>\n      <td>Miss Peregrine’s Home for Peculiar Children (M...</td>\n    </tr>\n    <tr>\n      <th>7</th>\n      <td>39</td>\n      <td>1619</td>\n      <td>13496</td>\n      <td>A Game of Thrones (A Song of Ice and Fire, #1)</td>\n    </tr>\n    <tr>\n      <th>8</th>\n      <td>65</td>\n      <td>1608</td>\n      <td>4981</td>\n      <td>Slaughterhouse-Five</td>\n    </tr>\n    <tr>\n      <th>9</th>\n      <td>35</td>\n      <td>1576</td>\n      <td>865</td>\n      <td>The Alchemist</td>\n    </tr>\n  </tbody>\n</table>\n</div>"
     },
     "execution_count": 168,
     "metadata": {},
     "output_type": "execute_result"
    }
   ],
   "source": [
    "# 合并DF，找到对应的名称\n",
    "top50_books_with_title=pd.merge(top50_books, book_id_and_title, on='book_id', how='left')\n",
    "top50_books_with_title.head(10)"
   ],
   "metadata": {
    "collapsed": false,
    "pycharm": {
     "name": "#%%\n"
    }
   }
  },
  {
   "cell_type": "code",
   "execution_count": 169,
   "outputs": [],
   "source": [
    "# 以CSV格式储存\n",
    "top50_books_with_title.to_csv(r'D:\\Programing\\python_projects\\data_analysis_basics\\data_set\\top50_books_with_title.csv')"
   ],
   "metadata": {
    "collapsed": false,
    "pycharm": {
     "name": "#%%\n"
    }
   }
  },
  {
   "cell_type": "code",
   "execution_count": 170,
   "outputs": [
    {
     "data": {
      "text/plain": "          count\ntag_id         \n30574   6061902\n8717     412677\n11557    404973\n11743    299256\n7457     279578\n14487     80671\n11305     71863\n5207      71629\n22743     65001\n33114     56829",
      "text/html": "<div>\n<style scoped>\n    .dataframe tbody tr th:only-of-type {\n        vertical-align: middle;\n    }\n\n    .dataframe tbody tr th {\n        vertical-align: top;\n    }\n\n    .dataframe thead th {\n        text-align: right;\n    }\n</style>\n<table border=\"1\" class=\"dataframe\">\n  <thead>\n    <tr style=\"text-align: right;\">\n      <th></th>\n      <th>count</th>\n    </tr>\n    <tr>\n      <th>tag_id</th>\n      <th></th>\n    </tr>\n  </thead>\n  <tbody>\n    <tr>\n      <th>30574</th>\n      <td>6061902</td>\n    </tr>\n    <tr>\n      <th>8717</th>\n      <td>412677</td>\n    </tr>\n    <tr>\n      <th>11557</th>\n      <td>404973</td>\n    </tr>\n    <tr>\n      <th>11743</th>\n      <td>299256</td>\n    </tr>\n    <tr>\n      <th>7457</th>\n      <td>279578</td>\n    </tr>\n    <tr>\n      <th>14487</th>\n      <td>80671</td>\n    </tr>\n    <tr>\n      <th>11305</th>\n      <td>71863</td>\n    </tr>\n    <tr>\n      <th>5207</th>\n      <td>71629</td>\n    </tr>\n    <tr>\n      <th>22743</th>\n      <td>65001</td>\n    </tr>\n    <tr>\n      <th>33114</th>\n      <td>56829</td>\n    </tr>\n  </tbody>\n</table>\n</div>"
     },
     "execution_count": 170,
     "metadata": {},
     "output_type": "execute_result"
    }
   ],
   "source": [
    "# 通过关联字段找到最热门标签ID\n",
    "book_tags=book_tags[book_tags['_goodreads_book_id_'].isin(top50_books_with_title['goodreads_book_id'])]\n",
    "del book_tags['_goodreads_book_id_']\n",
    "top10_tags=book_tags.groupby('tag_id').sum()\n",
    "top10_tags=top10_tags.sort_values(by='count', ascending=False)[:10]\n",
    "top10_tags"
   ],
   "metadata": {
    "collapsed": false,
    "pycharm": {
     "name": "#%%\n"
    }
   }
  },
  {
   "cell_type": "code",
   "execution_count": 171,
   "outputs": [
    {
     "data": {
      "text/plain": "   tag_id    count            tag_name\n0   30574  6061902             to-read\n1    8717   412677   currently-reading\n2   11557   404973           favorites\n3   11743   299256             fiction\n4    7457   279578            classics\n5   14487    80671  historical-fiction\n6   11305    71863             fantasy\n7    5207    71629         books-i-own\n8   22743    65001               owned\n9   33114    56829         young-adult",
      "text/html": "<div>\n<style scoped>\n    .dataframe tbody tr th:only-of-type {\n        vertical-align: middle;\n    }\n\n    .dataframe tbody tr th {\n        vertical-align: top;\n    }\n\n    .dataframe thead th {\n        text-align: right;\n    }\n</style>\n<table border=\"1\" class=\"dataframe\">\n  <thead>\n    <tr style=\"text-align: right;\">\n      <th></th>\n      <th>tag_id</th>\n      <th>count</th>\n      <th>tag_name</th>\n    </tr>\n  </thead>\n  <tbody>\n    <tr>\n      <th>0</th>\n      <td>30574</td>\n      <td>6061902</td>\n      <td>to-read</td>\n    </tr>\n    <tr>\n      <th>1</th>\n      <td>8717</td>\n      <td>412677</td>\n      <td>currently-reading</td>\n    </tr>\n    <tr>\n      <th>2</th>\n      <td>11557</td>\n      <td>404973</td>\n      <td>favorites</td>\n    </tr>\n    <tr>\n      <th>3</th>\n      <td>11743</td>\n      <td>299256</td>\n      <td>fiction</td>\n    </tr>\n    <tr>\n      <th>4</th>\n      <td>7457</td>\n      <td>279578</td>\n      <td>classics</td>\n    </tr>\n    <tr>\n      <th>5</th>\n      <td>14487</td>\n      <td>80671</td>\n      <td>historical-fiction</td>\n    </tr>\n    <tr>\n      <th>6</th>\n      <td>11305</td>\n      <td>71863</td>\n      <td>fantasy</td>\n    </tr>\n    <tr>\n      <th>7</th>\n      <td>5207</td>\n      <td>71629</td>\n      <td>books-i-own</td>\n    </tr>\n    <tr>\n      <th>8</th>\n      <td>22743</td>\n      <td>65001</td>\n      <td>owned</td>\n    </tr>\n    <tr>\n      <th>9</th>\n      <td>33114</td>\n      <td>56829</td>\n      <td>young-adult</td>\n    </tr>\n  </tbody>\n</table>\n</div>"
     },
     "execution_count": 171,
     "metadata": {},
     "output_type": "execute_result"
    }
   ],
   "source": [
    "# 通过tag_id找到对应的名称\n",
    "top10_tags_with_name=pd.merge(top10_tags, tags, on='tag_id', how='left')\n",
    "top10_tags_with_name"
   ],
   "metadata": {
    "collapsed": false,
    "pycharm": {
     "name": "#%%\n"
    }
   }
  },
  {
   "cell_type": "code",
   "execution_count": 172,
   "outputs": [],
   "source": [
    "# 以CSV格式储存\n",
    "top10_tags_with_name.to_csv(r'D:\\Programing\\python_projects\\data_analysis_basics\\data_set\\top10_tags_with_name.csv')"
   ],
   "metadata": {
    "collapsed": false,
    "pycharm": {
     "name": "#%%\n"
    }
   }
  },
  {
   "cell_type": "code",
   "execution_count": 176,
   "outputs": [
    {
     "data": {
      "text/plain": "'D:\\\\Programing\\\\python_projects\\\\top50_books.html'"
     },
     "execution_count": 176,
     "metadata": {},
     "output_type": "execute_result"
    }
   ],
   "source": [
    "# 绘制最想读的50本书的词云图\n",
    "title=top50_books_with_title['title'].tolist()\n",
    "to_read_count=top50_books_with_title['to_read_count'].tolist()\n",
    "words=[list(z) for z in zip(title, to_read_count)]\n",
    "\n",
    "wordcloud=WordCloud(init_opts=opts.InitOpts(width='1280px', height=('720px')))\n",
    "wordcloud.add('', words, word_size_range=[20,100])\n",
    "wordcloud.set_global_opts(title_opts=opts.TitleOpts(title='top 50 books to read'))\n",
    "wordcloud.render('top50_books.html')"
   ],
   "metadata": {
    "collapsed": false,
    "pycharm": {
     "name": "#%%\n"
    }
   }
  },
  {
   "cell_type": "code",
   "execution_count": 179,
   "outputs": [
    {
     "data": {
      "text/plain": "'D:\\\\Programing\\\\python_projects\\\\top10_tags.html'"
     },
     "execution_count": 179,
     "metadata": {},
     "output_type": "execute_result"
    }
   ],
   "source": [
    "# 用柱状图显示10个热门标签数据\n",
    "bar=Bar()\n",
    "bar.add_xaxis(top10_tags_with_name['tag_name'].tolist())\n",
    "bar.add_yaxis('tags', top10_tags_with_name['count'].tolist())\n",
    "bar.set_global_opts(title_opts=opts.TitleOpts(title='top 10 tags'),\n",
    "                    xaxis_opts=opts.AxisOpts(axislabel_opts=opts.LabelOpts(rotate=30)))\n",
    "bar.render('top10_tags.html')"
   ],
   "metadata": {
    "collapsed": false,
    "pycharm": {
     "name": "#%%\n"
    }
   }
  },
  {
   "cell_type": "code",
   "execution_count": 185,
   "outputs": [
    {
     "data": {
      "text/plain": "'D:\\\\Programing\\\\python_projects\\\\top10_tags_pie.html'"
     },
     "execution_count": 185,
     "metadata": {},
     "output_type": "execute_result"
    }
   ],
   "source": [
    "# 用饼图显示10个热门标签数据\n",
    "tag_name=top10_tags_with_name['tag_name']\n",
    "count=top10_tags_with_name['count']/1000\n",
    "data=[list(z) for z in zip(tag_name, count)]\n",
    "\n",
    "pie=Pie()\n",
    "pie.add('', data, radius=['20%', '70%'])\n",
    "pie.set_global_opts(title_opts=opts.TitleOpts(title='top 10 tags'),\n",
    "                    legend_opts=opts.LegendOpts(is_show=False))\n",
    "pie.set_series_opts(label_opts=opts.LabelOpts(formatter='{b}:{c}'))  # 标签显示格式\n",
    "pie.render(path='top10_tags_pie.html')\n"
   ],
   "metadata": {
    "collapsed": false,
    "pycharm": {
     "name": "#%%\n"
    }
   }
  }
 ],
 "metadata": {
  "kernelspec": {
   "name": "pycharm-6274b329",
   "language": "python",
   "display_name": "PyCharm (data_analysis_basics)"
  },
  "language_info": {
   "codemirror_mode": {
    "name": "ipython",
    "version": 2
   },
   "file_extension": ".py",
   "mimetype": "text/x-python",
   "name": "python",
   "nbconvert_exporter": "python",
   "pygments_lexer": "ipython2",
   "version": "2.7.6"
  }
 },
 "nbformat": 4,
 "nbformat_minor": 0
}