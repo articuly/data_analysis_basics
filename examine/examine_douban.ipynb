{
 "cells": [
  {
   "cell_type": "code",
   "execution_count": 1,
   "metadata": {
    "collapsed": true
   },
   "outputs": [],
   "source": [
    "import sqlite3\n",
    "import pandas as pd\n",
    "import math\n",
    "import jieba\n",
    "from pyecharts.charts import WordCloud\n",
    "from pyecharts import options as opts"
   ]
  },
  {
   "cell_type": "code",
   "execution_count": 10,
   "outputs": [
    {
     "data": {
      "text/plain": "     ID                 TIME   MOVIEID RATING  \\\n0  4264  2015-06-10 02:45:06  10440138      1   \n1  4265  2015-06-10 10:39:36  10440138      2   \n2  4266  2015-06-10 19:33:11  10440138      2   \n3  4267  2015-06-10 13:22:27  10440138      1   \n4  4268  2015-06-16 14:01:42  10440138      1   \n\n                                             CONTENT CREATOR  \\\n0  弱到爆…剧情、氛围烘托、表演、服化道、特效，统统弱到爆！女主和哥哥转折超级无力，给女主默默烫...      身似   \n1                     傻逼电影，看在怀旧的份儿上两星半不能更多了……一蟹不如一蟹呀     Ent   \n2  这片存在的意义难道就是告诉我们22年过去了，人类连在商业片方面都处于停滞不前，甚至倒退的状况...  有意识的贱民   \n3                                           史诗级暴虐烂片。    亿万露电   \n4                            什么jb玩意儿。。。。。。如此反智。今时今日。   Marni   \n\n              ADD_TIME  \n0  2018-01-05 15:05:06  \n1  2018-01-05 15:05:06  \n2  2018-01-05 15:05:06  \n3  2018-01-05 15:05:06  \n4  2018-01-05 15:05:06  ",
      "text/html": "<div>\n<style scoped>\n    .dataframe tbody tr th:only-of-type {\n        vertical-align: middle;\n    }\n\n    .dataframe tbody tr th {\n        vertical-align: top;\n    }\n\n    .dataframe thead th {\n        text-align: right;\n    }\n</style>\n<table border=\"1\" class=\"dataframe\">\n  <thead>\n    <tr style=\"text-align: right;\">\n      <th></th>\n      <th>ID</th>\n      <th>TIME</th>\n      <th>MOVIEID</th>\n      <th>RATING</th>\n      <th>CONTENT</th>\n      <th>CREATOR</th>\n      <th>ADD_TIME</th>\n    </tr>\n  </thead>\n  <tbody>\n    <tr>\n      <th>0</th>\n      <td>4264</td>\n      <td>2015-06-10 02:45:06</td>\n      <td>10440138</td>\n      <td>1</td>\n      <td>弱到爆…剧情、氛围烘托、表演、服化道、特效，统统弱到爆！女主和哥哥转折超级无力，给女主默默烫...</td>\n      <td>身似</td>\n      <td>2018-01-05 15:05:06</td>\n    </tr>\n    <tr>\n      <th>1</th>\n      <td>4265</td>\n      <td>2015-06-10 10:39:36</td>\n      <td>10440138</td>\n      <td>2</td>\n      <td>傻逼电影，看在怀旧的份儿上两星半不能更多了……一蟹不如一蟹呀</td>\n      <td>Ent</td>\n      <td>2018-01-05 15:05:06</td>\n    </tr>\n    <tr>\n      <th>2</th>\n      <td>4266</td>\n      <td>2015-06-10 19:33:11</td>\n      <td>10440138</td>\n      <td>2</td>\n      <td>这片存在的意义难道就是告诉我们22年过去了，人类连在商业片方面都处于停滞不前，甚至倒退的状况...</td>\n      <td>有意识的贱民</td>\n      <td>2018-01-05 15:05:06</td>\n    </tr>\n    <tr>\n      <th>3</th>\n      <td>4267</td>\n      <td>2015-06-10 13:22:27</td>\n      <td>10440138</td>\n      <td>1</td>\n      <td>史诗级暴虐烂片。</td>\n      <td>亿万露电</td>\n      <td>2018-01-05 15:05:06</td>\n    </tr>\n    <tr>\n      <th>4</th>\n      <td>4268</td>\n      <td>2015-06-16 14:01:42</td>\n      <td>10440138</td>\n      <td>1</td>\n      <td>什么jb玩意儿。。。。。。如此反智。今时今日。</td>\n      <td>Marni</td>\n      <td>2018-01-05 15:05:06</td>\n    </tr>\n  </tbody>\n</table>\n</div>"
     },
     "execution_count": 10,
     "metadata": {},
     "output_type": "execute_result"
    }
   ],
   "source": [
    "# 读取数据，链接数据库，定义常量\n",
    "movie_data = pd.read_excel(r'D:\\Programing\\python_projects\\data_analysis_basics\\data_set\\douban_movie_data.xlsx')\n",
    "FILTER_WORDS = ['知道', '影评', '电影', '影片', '这么', '那么', '怎么', '如果', '是', '的', '地', '得', '这个', '这种', '一个',\n",
    "                '时候', '什么', '一部', '这部', '没有', '还有', '片子', '觉得', 'is', 'of', 'to', 'be', '...', '\\n']\n",
    "file=r'D:\\Programing\\python_projects\\data_analysis_basics\\data_set\\douban_comment_data.db'\n",
    "conn=sqlite3.connect(file)\n",
    "comment_data=pd.read_sql_query('select * from comment', conn)\n",
    "comment_data.head()"
   ],
   "metadata": {
    "collapsed": false,
    "pycharm": {
     "name": "#%%\n"
    }
   }
  },
  {
   "cell_type": "code",
   "execution_count": 3,
   "outputs": [
    {
     "data": {
      "text/plain": "1292222     1780\n1292052     1040\n2268359     1000\n1292226     1000\n1292344     1000\n            ... \n10757823       1\n1295808        1\n1304901        1\n1298340        1\n1293746        1\nName: MOVIEID, Length: 1762, dtype: int64"
     },
     "execution_count": 3,
     "metadata": {},
     "output_type": "execute_result"
    }
   ],
   "source": [
    "# 获取包含一定数据评论的电影评论的计数\n",
    "def get_movie_id_list(minimum_comment):\n",
    "    movie_list=comment_data['MOVIEID'].value_counts()\n",
    "    movie_list=movie_list[movie_list.values>minimum_comment]\n",
    "    return movie_list\n",
    "\n",
    "# 统计所有电影的评论数\n",
    "all_movie_list_count=get_movie_id_list(0)\n",
    "all_movie_list_count"
   ],
   "metadata": {
    "collapsed": false,
    "pycharm": {
     "name": "#%%\n"
    }
   }
  },
  {
   "cell_type": "code",
   "execution_count": 4,
   "outputs": [
    {
     "name": "stdout",
     "output_type": "stream",
     "text": [
      "不得不说罗伯特德尼罗演技出众，但有一个小bug，当过兵的男主角，居然右手拿枪，左眼瞄准；再就是，，，美女哪是那么容易泡滴撒，搭了两句话就可以约会了，好像人家一点也不忙一样，也许那个时代不一样吧，还有端了淫窝居然没有黑帮追杀他~，其他我倒真没看出经典，那个时代美国人精神风貌倒是展现了\n",
      "无聊到死，就是讲一个失了恋的出租车司机抡枪报复“黑”社会，想谋杀参议员不成就去杀嫖客和扯皮条的，这故事跟本国的杨佳比差远了，不懂为啥评价这么高。\n",
      "实在是受不鸟本片的节奏，尤其是BGM，弄得装神弄鬼结果剧情根本就不给力。和黑巷少女是同年上映，朱迪给我的感觉却大不一样，在本片里还是比较女性化的。\n",
      "我喜欢搏击，肖审克，死亡诗社。\r\n",
      "而这部影片我看的昏昏欲睡，一个精神分裂病入膏肓的人喃喃自语，丝毫不吸引人\n",
      "大学语音课上看的。不喜欢。当时我就在想这男主角又讨厌又变态。看得心理直发闷。\n",
      "除了他的孤独。 没看出什么。。。\n",
      "PS:2017年的棒子电影《出租车司机》，进入韩国历史票房版前10，豆瓣评分9.0+。但是由于讲诉的是80年代的韩国学生运动。so，很快，豆瓣上的《出租车司机》页面就404 not found。可悲的国\n"
     ]
    }
   ],
   "source": [
    "# 取得某电影所有评论\n",
    "def get_all_comment(movie_id):\n",
    "    comment_list=comment_data[comment_data['MOVIEID']==movie_id]['CONTENT']\n",
    "    comment_str_all=''\n",
    "    for comment in comment_list:\n",
    "        comment_str_all+=comment+'\\n'\n",
    "    return comment_str_all\n",
    "\n",
    "# 显示该电影评论所有内容\n",
    "movie_comment=get_all_comment('1292222')\n",
    "print(movie_comment)"
   ],
   "metadata": {
    "collapsed": false,
    "pycharm": {
     "name": "#%%\n"
    }
   }
  },
  {
   "cell_type": "code",
   "execution_count": 5,
   "outputs": [
    {
     "name": "stderr",
     "output_type": "stream",
     "text": [
      "Building prefix dict from the default dictionary ...\n",
      "Loading model from cache C:\\Users\\Articuly\\AppData\\Local\\Temp\\jieba.cache\n",
      "Loading model cost 0.898 seconds.\n",
      "Prefix dict has been built succesfully.\n"
     ]
    },
    {
     "name": "stdout",
     "output_type": "stream",
     "text": [
      "喜欢    144\n",
      "社会    142\n",
      "司机    140\n",
      "自己    128\n",
      "孤独    116\n",
      "经典    113\n",
      "刺杀    103\n",
      "朱迪     96\n",
      "故事     95\n",
      "美国     86\n",
      "那个     84\n",
      "无聊     83\n",
      "最后     80\n",
      "感觉     74\n",
      "生活     68\n",
      "配乐     68\n",
      "纽约     68\n",
      "里根     65\n",
      "总统     63\n",
      "雏妓     61\n",
      "塞斯     58\n",
      "我们     58\n",
      "英雄     57\n",
      "拯救     56\n",
      "一样     56\n",
      "年代     53\n",
      "可能     52\n",
      "时代     52\n",
      "剧情     52\n",
      "镜头     51\n",
      "年轻     50\n",
      "me     49\n",
      "压抑     47\n",
      "主角     46\n",
      "无法     46\n",
      "不过     45\n",
      "看出     45\n",
      "实在     44\n",
      "理解     44\n",
      "因为     44\n",
      "好看     43\n",
      "成为     43\n",
      "完全     42\n",
      "男人     42\n",
      "莫西     41\n",
      "这样     41\n",
      "寂寞     40\n",
      "看到     40\n",
      "他们     39\n",
      "其实     39\n",
      "dtype: int64\n"
     ]
    }
   ],
   "source": [
    "# 根据电影评论进行分词，按关键词多少进行排列\n",
    "def get_comment_keywords_counts(str_list, count):\n",
    "    seg_list=list(jieba.cut(str_list))\n",
    "    keywords_counts=pd.Series(seg_list)\n",
    "    keywords_counts=keywords_counts[keywords_counts.str.len()>1]\n",
    "    keywords_counts=keywords_counts[~keywords_counts.str.contains('|'.join(FILTER_WORDS))]\n",
    "    keywords_counts=keywords_counts.value_counts()[:count]\n",
    "    return keywords_counts\n",
    "\n",
    "# 打印该电影评论排名前50的关键词\n",
    "movie_comment_keywords_counts=get_comment_keywords_counts(movie_comment, 50)\n",
    "print(movie_comment_keywords_counts)"
   ],
   "metadata": {
    "collapsed": false,
    "pycharm": {
     "name": "#%%\n"
    }
   }
  },
  {
   "cell_type": "code",
   "execution_count": 7,
   "outputs": [],
   "source": [
    "# 生成词云图\n",
    "def generate_word_cloud(keywords_list, path_name=None):\n",
    "    wordcloud=WordCloud()\n",
    "    wordcloud.add('词云图', tuple(zip(keywords_list.index, keywords_list)), word_size_range=[20, 80])\n",
    "    wordcloud.set_global_opts(title_opts=opts.TitleOpts(title='电影评论'))\n",
    "    wordcloud.render(path=path_name)\n",
    "    print(f'生成词云图：{path_name}')"
   ],
   "metadata": {
    "collapsed": false,
    "pycharm": {
     "name": "#%%\n"
    }
   }
  },
  {
   "cell_type": "code",
   "execution_count": 12,
   "outputs": [],
   "source": [
    "# 根据电影ID获得电影名称和评分\n",
    "def get_movie_name_and_score(movie_id):\n",
    "    movie_link='https://movie.douban.com/subject/{0}/'.format(movie_id)\n",
    "    search_result=movie_data[movie_data['链接']==movie_link].iloc[0]\n",
    "    movie_name=search_result['电影名']\n",
    "    movie_score=search_result['评分']\n",
    "    print(movie_name, movie_score)\n",
    "    return movie_name, movie_score"
   ],
   "metadata": {
    "collapsed": false,
    "pycharm": {
     "name": "#%%\n"
    }
   }
  },
  {
   "cell_type": "code",
   "execution_count": 14,
   "outputs": [
    {
     "name": "stdout",
     "output_type": "stream",
     "text": [
      "出租车司机 8.4\n",
      "生成词云图：D:\\Programing\\python_projects\\data_analysis_basics\\wordcloud\\出租车司机_8.4.html\n"
     ]
    }
   ],
   "source": [
    "# 生成该电影的词云图\n",
    "movie_name, movie_score=get_movie_name_and_score('1292222')\n",
    "path_name=r'D:\\Programing\\python_projects\\data_analysis_basics\\wordcloud\\{0}_{1}.html'.format(movie_name, movie_score)\n",
    "generate_word_cloud(movie_comment_keywords_counts, path_name)"
   ],
   "metadata": {
    "collapsed": false,
    "pycharm": {
     "name": "#%%\n"
    }
   }
  },
  {
   "cell_type": "code",
   "execution_count": null,
   "outputs": [],
   "source": [
    "\n"
   ],
   "metadata": {
    "collapsed": false,
    "pycharm": {
     "name": "#%%\n"
    }
   }
  }
 ],
 "metadata": {
  "kernelspec": {
   "name": "pycharm-6274b329",
   "language": "python",
   "display_name": "PyCharm (data_analysis_basics)"
  },
  "language_info": {
   "codemirror_mode": {
    "name": "ipython",
    "version": 2
   },
   "file_extension": ".py",
   "mimetype": "text/x-python",
   "name": "python",
   "nbconvert_exporter": "python",
   "pygments_lexer": "ipython2",
   "version": "2.7.6"
  }
 },
 "nbformat": 4,
 "nbformat_minor": 0
}